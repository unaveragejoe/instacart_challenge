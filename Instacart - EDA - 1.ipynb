{
 "cells": [
  {
   "cell_type": "markdown",
   "metadata": {},
   "source": [
    "## Instacart data files:\n",
    "\n",
    "Below are all the data files that I downloaded from the Kaggle challenge page: https://www.kaggle.com/c/instacart-market-basket-analysis/data\n",
    "\n",
    "- aisles.csv\n",
    "- departments.csv\n",
    "- order_products_prior.csv\n",
    "- order_products_train.csv\n",
    "- orders.csv\n",
    "- products.csv\n",
    "- sample_submission.csv"
   ]
  },
  {
   "cell_type": "code",
   "execution_count": 11,
   "metadata": {
    "ExecuteTime": {
     "end_time": "2019-06-18T18:55:26.058802Z",
     "start_time": "2019-06-18T18:55:23.282611Z"
    }
   },
   "outputs": [
    {
     "name": "stdout",
     "output_type": "stream",
     "text": [
      "Populating the interactive namespace from numpy and matplotlib\n"
     ]
    }
   ],
   "source": [
    "%pylab inline\n",
    "%matplotlib inline\n",
    "%config InlineBackend.figure_formats = ['retina']\n",
    "\n",
    "from collections import OrderedDict\n",
    "import numpy as np\n",
    "import pandas as pd\n",
    "import matplotlib.pyplot as plt\n",
    "import seaborn as sns\n",
    "sns.set()\n",
    "\n",
    "from sklearn.linear_model import LogisticRegression\n",
    "from sklearn.metrics import f1_score"
   ]
  },
  {
   "cell_type": "code",
   "execution_count": 12,
   "metadata": {
    "ExecuteTime": {
     "end_time": "2019-06-18T18:55:54.792519Z",
     "start_time": "2019-06-18T18:55:26.079303Z"
    }
   },
   "outputs": [],
   "source": [
    "aisles_df = pd.read_csv('/Users/joe.kholodenko/nyc19_ds18/scrap_folder/data/instacart-market-basket-analysis/aisles.csv')\n",
    "departments_df = pd.read_csv('/Users/joe.kholodenko/nyc19_ds18/scrap_folder/data/instacart-market-basket-analysis/departments.csv')\n",
    "order_products_prior_df = pd.read_csv('/Users/joe.kholodenko/nyc19_ds18/scrap_folder/data/instacart-market-basket-analysis/order_products_prior.csv')\n",
    "order_products_train_df = pd.read_csv('/Users/joe.kholodenko/nyc19_ds18/scrap_folder/data/instacart-market-basket-analysis/order_products_train.csv')\n",
    "orders_df = pd.read_csv('/Users/joe.kholodenko/nyc19_ds18/scrap_folder/data/instacart-market-basket-analysis/orders.csv')\n",
    "products_df = pd.read_csv('/Users/joe.kholodenko/nyc19_ds18/scrap_folder/data/instacart-market-basket-analysis/products.csv')\n",
    "sample_submission_df = pd.read_csv('/Users/joe.kholodenko/nyc19_ds18/scrap_folder/data/instacart-market-basket-analysis/sample_submission.csv')\n",
    "\n"
   ]
  },
  {
   "cell_type": "code",
   "execution_count": 13,
   "metadata": {
    "ExecuteTime": {
     "end_time": "2019-06-18T18:56:14.823974Z",
     "start_time": "2019-06-18T18:55:54.799184Z"
    }
   },
   "outputs": [],
   "source": [
    "df_order_products_train = order_products_train_df.merge(orders_df.drop('eval_set', axis=1), on='order_id')\n",
    "df_order_products_prior = order_products_prior_df.merge(orders_df.drop('eval_set', axis=1), on='order_id')\n"
   ]
  },
  {
   "cell_type": "code",
   "execution_count": 14,
   "metadata": {
    "ExecuteTime": {
     "end_time": "2019-06-18T18:56:15.679445Z",
     "start_time": "2019-06-18T18:56:15.649096Z"
    }
   },
   "outputs": [
    {
     "data": {
      "text/plain": [
       "49688"
      ]
     },
     "execution_count": 14,
     "metadata": {},
     "output_type": "execute_result"
    }
   ],
   "source": [
    "# len(aisles_df)\n",
    "# len(departments_df)\n",
    "# len(order_products_prior_df)\n",
    "# len(order_products_train_df)\n",
    "# len(orders_df)\n",
    "len(products_df)"
   ]
  },
  {
   "cell_type": "code",
   "execution_count": 15,
   "metadata": {
    "ExecuteTime": {
     "end_time": "2019-06-18T18:56:15.696093Z",
     "start_time": "2019-06-18T18:56:15.685831Z"
    }
   },
   "outputs": [
    {
     "data": {
      "text/plain": [
       "1384617"
      ]
     },
     "execution_count": 15,
     "metadata": {},
     "output_type": "execute_result"
    }
   ],
   "source": [
    "len(df_order_products_train)"
   ]
  },
  {
   "cell_type": "code",
   "execution_count": 16,
   "metadata": {
    "ExecuteTime": {
     "end_time": "2019-06-18T18:56:40.967072Z",
     "start_time": "2019-06-18T18:56:16.272388Z"
    }
   },
   "outputs": [],
   "source": [
    "# Take a random sample of both df_order_products_train and df_order_products_prior\n",
    "\n",
    "df_order_products_train = df_order_products_train.sample(n=200000)\n",
    "df_order_products_prior = df_order_products_prior.sample(n=200000)"
   ]
  },
  {
   "cell_type": "code",
   "execution_count": 17,
   "metadata": {
    "ExecuteTime": {
     "end_time": "2019-06-18T18:56:41.441741Z",
     "start_time": "2019-06-18T18:56:41.204498Z"
    }
   },
   "outputs": [],
   "source": [
    "# Setting up the problem\n",
    "df_user_product = (df_order_products_prior.groupby(['product_id','user_id'],as_index=False) \n",
    "                                          .agg({'order_id':'count'}) \n",
    "                                          .rename(columns={'order_id':'user_product_total_orders'}))\n",
    "\n",
    "train_ids = df_order_products_train['user_id'].unique() \n",
    "df_X = df_user_product[df_user_product['user_id'].isin(train_ids)]"
   ]
  },
  {
   "cell_type": "code",
   "execution_count": 18,
   "metadata": {
    "ExecuteTime": {
     "end_time": "2019-06-18T18:56:41.673201Z",
     "start_time": "2019-06-18T18:56:41.656822Z"
    }
   },
   "outputs": [
    {
     "data": {
      "text/html": [
       "<div>\n",
       "<style scoped>\n",
       "    .dataframe tbody tr th:only-of-type {\n",
       "        vertical-align: middle;\n",
       "    }\n",
       "\n",
       "    .dataframe tbody tr th {\n",
       "        vertical-align: top;\n",
       "    }\n",
       "\n",
       "    .dataframe thead th {\n",
       "        text-align: right;\n",
       "    }\n",
       "</style>\n",
       "<table border=\"1\" class=\"dataframe\">\n",
       "  <thead>\n",
       "    <tr style=\"text-align: right;\">\n",
       "      <th></th>\n",
       "      <th>product_id</th>\n",
       "      <th>user_id</th>\n",
       "      <th>user_product_total_orders</th>\n",
       "    </tr>\n",
       "  </thead>\n",
       "  <tbody>\n",
       "    <tr>\n",
       "      <th>2</th>\n",
       "      <td>1</td>\n",
       "      <td>50005</td>\n",
       "      <td>1</td>\n",
       "    </tr>\n",
       "    <tr>\n",
       "      <th>7</th>\n",
       "      <td>1</td>\n",
       "      <td>94870</td>\n",
       "      <td>1</td>\n",
       "    </tr>\n",
       "    <tr>\n",
       "      <th>12</th>\n",
       "      <td>1</td>\n",
       "      <td>170714</td>\n",
       "      <td>1</td>\n",
       "    </tr>\n",
       "    <tr>\n",
       "      <th>17</th>\n",
       "      <td>3</td>\n",
       "      <td>204485</td>\n",
       "      <td>1</td>\n",
       "    </tr>\n",
       "    <tr>\n",
       "      <th>19</th>\n",
       "      <td>7</td>\n",
       "      <td>29045</td>\n",
       "      <td>1</td>\n",
       "    </tr>\n",
       "  </tbody>\n",
       "</table>\n",
       "</div>"
      ],
      "text/plain": [
       "    product_id  user_id  user_product_total_orders\n",
       "2            1    50005                          1\n",
       "7            1    94870                          1\n",
       "12           1   170714                          1\n",
       "17           3   204485                          1\n",
       "19           7    29045                          1"
      ]
     },
     "execution_count": 18,
     "metadata": {},
     "output_type": "execute_result"
    }
   ],
   "source": [
    "df_X.head()"
   ]
  },
  {
   "cell_type": "code",
   "execution_count": 19,
   "metadata": {
    "ExecuteTime": {
     "end_time": "2019-06-18T18:56:46.800357Z",
     "start_time": "2019-06-18T18:56:41.677923Z"
    }
   },
   "outputs": [],
   "source": [
    "train_carts = (df_order_products_train.groupby('user_id',as_index=False)\n",
    "                                      .agg({'product_id':(lambda x: set(x))})\n",
    "                                      .rename(columns={'product_id':'latest_cart'}))\n",
    "\n",
    "df_X = df_X.merge(train_carts, on='user_id')\n",
    "df_X['in_cart'] = (df_X.apply(lambda row: row['product_id'] in row['latest_cart'], axis=1).astype(int))\n"
   ]
  },
  {
   "cell_type": "code",
   "execution_count": 20,
   "metadata": {
    "ExecuteTime": {
     "end_time": "2019-06-18T18:56:47.630791Z",
     "start_time": "2019-06-18T18:56:47.590179Z"
    }
   },
   "outputs": [
    {
     "data": {
      "text/html": [
       "<div>\n",
       "<style scoped>\n",
       "    .dataframe tbody tr th:only-of-type {\n",
       "        vertical-align: middle;\n",
       "    }\n",
       "\n",
       "    .dataframe tbody tr th {\n",
       "        vertical-align: top;\n",
       "    }\n",
       "\n",
       "    .dataframe thead th {\n",
       "        text-align: right;\n",
       "    }\n",
       "</style>\n",
       "<table border=\"1\" class=\"dataframe\">\n",
       "  <thead>\n",
       "    <tr style=\"text-align: right;\">\n",
       "      <th></th>\n",
       "      <th>user_id</th>\n",
       "      <th>latest_cart</th>\n",
       "    </tr>\n",
       "  </thead>\n",
       "  <tbody>\n",
       "    <tr>\n",
       "      <th>0</th>\n",
       "      <td>2</td>\n",
       "      <td>{22825, 34284, 33957, 24838}</td>\n",
       "    </tr>\n",
       "    <tr>\n",
       "      <th>1</th>\n",
       "      <td>7</td>\n",
       "      <td>{13198, 17638, 37999}</td>\n",
       "    </tr>\n",
       "    <tr>\n",
       "      <th>2</th>\n",
       "      <td>8</td>\n",
       "      <td>{37803}</td>\n",
       "    </tr>\n",
       "    <tr>\n",
       "      <th>3</th>\n",
       "      <td>9</td>\n",
       "      <td>{12075, 27973, 18926}</td>\n",
       "    </tr>\n",
       "    <tr>\n",
       "      <th>4</th>\n",
       "      <td>14</td>\n",
       "      <td>{3808, 8744, 15869, 29615}</td>\n",
       "    </tr>\n",
       "    <tr>\n",
       "      <th>5</th>\n",
       "      <td>18</td>\n",
       "      <td>{11022, 41463}</td>\n",
       "    </tr>\n",
       "    <tr>\n",
       "      <th>6</th>\n",
       "      <td>21</td>\n",
       "      <td>{44632, 32645}</td>\n",
       "    </tr>\n",
       "    <tr>\n",
       "      <th>7</th>\n",
       "      <td>27</td>\n",
       "      <td>{33754, 33787}</td>\n",
       "    </tr>\n",
       "    <tr>\n",
       "      <th>8</th>\n",
       "      <td>29</td>\n",
       "      <td>{42258, 20874}</td>\n",
       "    </tr>\n",
       "    <tr>\n",
       "      <th>9</th>\n",
       "      <td>34</td>\n",
       "      <td>{24852}</td>\n",
       "    </tr>\n",
       "    <tr>\n",
       "      <th>10</th>\n",
       "      <td>37</td>\n",
       "      <td>{41065, 45007, 6607}</td>\n",
       "    </tr>\n",
       "    <tr>\n",
       "      <th>11</th>\n",
       "      <td>38</td>\n",
       "      <td>{3397, 4781}</td>\n",
       "    </tr>\n",
       "    <tr>\n",
       "      <th>12</th>\n",
       "      <td>41</td>\n",
       "      <td>{24964}</td>\n",
       "    </tr>\n",
       "    <tr>\n",
       "      <th>13</th>\n",
       "      <td>43</td>\n",
       "      <td>{48205, 33780, 41302, 4920, 34940}</td>\n",
       "    </tr>\n",
       "    <tr>\n",
       "      <th>14</th>\n",
       "      <td>46</td>\n",
       "      <td>{42987, 24852, 4605}</td>\n",
       "    </tr>\n",
       "    <tr>\n",
       "      <th>15</th>\n",
       "      <td>47</td>\n",
       "      <td>{33796}</td>\n",
       "    </tr>\n",
       "    <tr>\n",
       "      <th>16</th>\n",
       "      <td>48</td>\n",
       "      <td>{41238, 45007}</td>\n",
       "    </tr>\n",
       "    <tr>\n",
       "      <th>17</th>\n",
       "      <td>50</td>\n",
       "      <td>{47209}</td>\n",
       "    </tr>\n",
       "    <tr>\n",
       "      <th>18</th>\n",
       "      <td>52</td>\n",
       "      <td>{30720, 39275}</td>\n",
       "    </tr>\n",
       "    <tr>\n",
       "      <th>19</th>\n",
       "      <td>53</td>\n",
       "      <td>{48453}</td>\n",
       "    </tr>\n",
       "    <tr>\n",
       "      <th>20</th>\n",
       "      <td>55</td>\n",
       "      <td>{7736, 4658, 2389}</td>\n",
       "    </tr>\n",
       "    <tr>\n",
       "      <th>21</th>\n",
       "      <td>56</td>\n",
       "      <td>{25513, 24852, 21903}</td>\n",
       "    </tr>\n",
       "    <tr>\n",
       "      <th>22</th>\n",
       "      <td>59</td>\n",
       "      <td>{22912, 2825, 40545}</td>\n",
       "    </tr>\n",
       "    <tr>\n",
       "      <th>23</th>\n",
       "      <td>62</td>\n",
       "      <td>{8277}</td>\n",
       "    </tr>\n",
       "    <tr>\n",
       "      <th>24</th>\n",
       "      <td>63</td>\n",
       "      <td>{25659}</td>\n",
       "    </tr>\n",
       "    <tr>\n",
       "      <th>25</th>\n",
       "      <td>65</td>\n",
       "      <td>{6656, 33768}</td>\n",
       "    </tr>\n",
       "    <tr>\n",
       "      <th>26</th>\n",
       "      <td>66</td>\n",
       "      <td>{28842}</td>\n",
       "    </tr>\n",
       "    <tr>\n",
       "      <th>27</th>\n",
       "      <td>71</td>\n",
       "      <td>{38689, 14874, 47547, 117}</td>\n",
       "    </tr>\n",
       "    <tr>\n",
       "      <th>28</th>\n",
       "      <td>74</td>\n",
       "      <td>{18479}</td>\n",
       "    </tr>\n",
       "    <tr>\n",
       "      <th>29</th>\n",
       "      <td>79</td>\n",
       "      <td>{16616}</td>\n",
       "    </tr>\n",
       "    <tr>\n",
       "      <th>...</th>\n",
       "      <td>...</td>\n",
       "      <td>...</td>\n",
       "    </tr>\n",
       "    <tr>\n",
       "      <th>90007</th>\n",
       "      <td>206132</td>\n",
       "      <td>{890}</td>\n",
       "    </tr>\n",
       "    <tr>\n",
       "      <th>90008</th>\n",
       "      <td>206134</td>\n",
       "      <td>{1804, 11933, 41950}</td>\n",
       "    </tr>\n",
       "    <tr>\n",
       "      <th>90009</th>\n",
       "      <td>206139</td>\n",
       "      <td>{45613, 49518, 6003, 24852, 24413}</td>\n",
       "    </tr>\n",
       "    <tr>\n",
       "      <th>90010</th>\n",
       "      <td>206141</td>\n",
       "      <td>{27471}</td>\n",
       "    </tr>\n",
       "    <tr>\n",
       "      <th>90011</th>\n",
       "      <td>206144</td>\n",
       "      <td>{39844}</td>\n",
       "    </tr>\n",
       "    <tr>\n",
       "      <th>90012</th>\n",
       "      <td>206149</td>\n",
       "      <td>{35536, 12745}</td>\n",
       "    </tr>\n",
       "    <tr>\n",
       "      <th>90013</th>\n",
       "      <td>206150</td>\n",
       "      <td>{17957}</td>\n",
       "    </tr>\n",
       "    <tr>\n",
       "      <th>90014</th>\n",
       "      <td>206153</td>\n",
       "      <td>{14421}</td>\n",
       "    </tr>\n",
       "    <tr>\n",
       "      <th>90015</th>\n",
       "      <td>206154</td>\n",
       "      <td>{30024, 30353, 21709}</td>\n",
       "    </tr>\n",
       "    <tr>\n",
       "      <th>90016</th>\n",
       "      <td>206155</td>\n",
       "      <td>{1160}</td>\n",
       "    </tr>\n",
       "    <tr>\n",
       "      <th>90017</th>\n",
       "      <td>206157</td>\n",
       "      <td>{39322, 27196, 27407}</td>\n",
       "    </tr>\n",
       "    <tr>\n",
       "      <th>90018</th>\n",
       "      <td>206165</td>\n",
       "      <td>{703}</td>\n",
       "    </tr>\n",
       "    <tr>\n",
       "      <th>90019</th>\n",
       "      <td>206167</td>\n",
       "      <td>{27796, 30422}</td>\n",
       "    </tr>\n",
       "    <tr>\n",
       "      <th>90020</th>\n",
       "      <td>206169</td>\n",
       "      <td>{20876}</td>\n",
       "    </tr>\n",
       "    <tr>\n",
       "      <th>90021</th>\n",
       "      <td>206172</td>\n",
       "      <td>{13790}</td>\n",
       "    </tr>\n",
       "    <tr>\n",
       "      <th>90022</th>\n",
       "      <td>206174</td>\n",
       "      <td>{13512, 19950}</td>\n",
       "    </tr>\n",
       "    <tr>\n",
       "      <th>90023</th>\n",
       "      <td>206177</td>\n",
       "      <td>{24852}</td>\n",
       "    </tr>\n",
       "    <tr>\n",
       "      <th>90024</th>\n",
       "      <td>206178</td>\n",
       "      <td>{19678}</td>\n",
       "    </tr>\n",
       "    <tr>\n",
       "      <th>90025</th>\n",
       "      <td>206186</td>\n",
       "      <td>{14891}</td>\n",
       "    </tr>\n",
       "    <tr>\n",
       "      <th>90026</th>\n",
       "      <td>206188</td>\n",
       "      <td>{35898, 33894, 6473, 28427, 31066}</td>\n",
       "    </tr>\n",
       "    <tr>\n",
       "      <th>90027</th>\n",
       "      <td>206191</td>\n",
       "      <td>{27104, 24838, 48679, 22509, 5621}</td>\n",
       "    </tr>\n",
       "    <tr>\n",
       "      <th>90028</th>\n",
       "      <td>206193</td>\n",
       "      <td>{46906}</td>\n",
       "    </tr>\n",
       "    <tr>\n",
       "      <th>90029</th>\n",
       "      <td>206195</td>\n",
       "      <td>{3376, 18598}</td>\n",
       "    </tr>\n",
       "    <tr>\n",
       "      <th>90030</th>\n",
       "      <td>206196</td>\n",
       "      <td>{44632}</td>\n",
       "    </tr>\n",
       "    <tr>\n",
       "      <th>90031</th>\n",
       "      <td>206198</td>\n",
       "      <td>{10411, 21709}</td>\n",
       "    </tr>\n",
       "    <tr>\n",
       "      <th>90032</th>\n",
       "      <td>206199</td>\n",
       "      <td>{22105, 29429, 7702}</td>\n",
       "    </tr>\n",
       "    <tr>\n",
       "      <th>90033</th>\n",
       "      <td>206200</td>\n",
       "      <td>{29344, 35221, 21709}</td>\n",
       "    </tr>\n",
       "    <tr>\n",
       "      <th>90034</th>\n",
       "      <td>206203</td>\n",
       "      <td>{36929, 41007, 26384, 2482, 3765, 21469}</td>\n",
       "    </tr>\n",
       "    <tr>\n",
       "      <th>90035</th>\n",
       "      <td>206205</td>\n",
       "      <td>{29499, 24852, 43726}</td>\n",
       "    </tr>\n",
       "    <tr>\n",
       "      <th>90036</th>\n",
       "      <td>206209</td>\n",
       "      <td>{40603, 37966}</td>\n",
       "    </tr>\n",
       "  </tbody>\n",
       "</table>\n",
       "<p>90037 rows × 2 columns</p>\n",
       "</div>"
      ],
      "text/plain": [
       "       user_id                               latest_cart\n",
       "0            2              {22825, 34284, 33957, 24838}\n",
       "1            7                     {13198, 17638, 37999}\n",
       "2            8                                   {37803}\n",
       "3            9                     {12075, 27973, 18926}\n",
       "4           14                {3808, 8744, 15869, 29615}\n",
       "5           18                            {11022, 41463}\n",
       "6           21                            {44632, 32645}\n",
       "7           27                            {33754, 33787}\n",
       "8           29                            {42258, 20874}\n",
       "9           34                                   {24852}\n",
       "10          37                      {41065, 45007, 6607}\n",
       "11          38                              {3397, 4781}\n",
       "12          41                                   {24964}\n",
       "13          43        {48205, 33780, 41302, 4920, 34940}\n",
       "14          46                      {42987, 24852, 4605}\n",
       "15          47                                   {33796}\n",
       "16          48                            {41238, 45007}\n",
       "17          50                                   {47209}\n",
       "18          52                            {30720, 39275}\n",
       "19          53                                   {48453}\n",
       "20          55                        {7736, 4658, 2389}\n",
       "21          56                     {25513, 24852, 21903}\n",
       "22          59                      {22912, 2825, 40545}\n",
       "23          62                                    {8277}\n",
       "24          63                                   {25659}\n",
       "25          65                             {6656, 33768}\n",
       "26          66                                   {28842}\n",
       "27          71                {38689, 14874, 47547, 117}\n",
       "28          74                                   {18479}\n",
       "29          79                                   {16616}\n",
       "...        ...                                       ...\n",
       "90007   206132                                     {890}\n",
       "90008   206134                      {1804, 11933, 41950}\n",
       "90009   206139        {45613, 49518, 6003, 24852, 24413}\n",
       "90010   206141                                   {27471}\n",
       "90011   206144                                   {39844}\n",
       "90012   206149                            {35536, 12745}\n",
       "90013   206150                                   {17957}\n",
       "90014   206153                                   {14421}\n",
       "90015   206154                     {30024, 30353, 21709}\n",
       "90016   206155                                    {1160}\n",
       "90017   206157                     {39322, 27196, 27407}\n",
       "90018   206165                                     {703}\n",
       "90019   206167                            {27796, 30422}\n",
       "90020   206169                                   {20876}\n",
       "90021   206172                                   {13790}\n",
       "90022   206174                            {13512, 19950}\n",
       "90023   206177                                   {24852}\n",
       "90024   206178                                   {19678}\n",
       "90025   206186                                   {14891}\n",
       "90026   206188        {35898, 33894, 6473, 28427, 31066}\n",
       "90027   206191        {27104, 24838, 48679, 22509, 5621}\n",
       "90028   206193                                   {46906}\n",
       "90029   206195                             {3376, 18598}\n",
       "90030   206196                                   {44632}\n",
       "90031   206198                            {10411, 21709}\n",
       "90032   206199                      {22105, 29429, 7702}\n",
       "90033   206200                     {29344, 35221, 21709}\n",
       "90034   206203  {36929, 41007, 26384, 2482, 3765, 21469}\n",
       "90035   206205                     {29499, 24852, 43726}\n",
       "90036   206209                            {40603, 37966}\n",
       "\n",
       "[90037 rows x 2 columns]"
      ]
     },
     "execution_count": 20,
     "metadata": {},
     "output_type": "execute_result"
    }
   ],
   "source": [
    "train_carts"
   ]
  },
  {
   "cell_type": "code",
   "execution_count": 21,
   "metadata": {
    "ExecuteTime": {
     "end_time": "2019-06-18T18:56:47.639110Z",
     "start_time": "2019-06-18T18:56:47.634368Z"
    }
   },
   "outputs": [],
   "source": [
    "# Plotting function, takes the dataframe and sample size\n",
    "def plot_features(df, sample_size=500):\n",
    "    sample = (df.drop(['product_id', 'user_id', 'latest_cart'], axis = 1)\n",
    "               .sample(1000, random_state=42))\n",
    "    sns.pairplot(sample, hue='in_cart', plot_kws=dict(alpha=.3, edgecolor='none'))\n",
    "# what does 'alpha' and 'edgecolor' do?"
   ]
  },
  {
   "cell_type": "code",
   "execution_count": 22,
   "metadata": {
    "ExecuteTime": {
     "end_time": "2019-06-18T18:56:48.820416Z",
     "start_time": "2019-06-18T18:56:47.667686Z"
    }
   },
   "outputs": [
    {
     "name": "stderr",
     "output_type": "stream",
     "text": [
      "/Users/joe.kholodenko/anaconda3/lib/python3.7/site-packages/statsmodels/nonparametric/kde.py:488: RuntimeWarning: invalid value encountered in true_divide\n",
      "  binned = fast_linbin(X, a, b, gridsize) / (delta * nobs)\n",
      "/Users/joe.kholodenko/anaconda3/lib/python3.7/site-packages/statsmodels/nonparametric/kdetools.py:34: RuntimeWarning: invalid value encountered in double_scalars\n",
      "  FAC1 = 2*(np.pi*bw/RANGE)**2\n",
      "/Users/joe.kholodenko/anaconda3/lib/python3.7/site-packages/numpy/core/fromnumeric.py:83: RuntimeWarning: invalid value encountered in reduce\n",
      "  return ufunc.reduce(obj, axis, dtype, out, **passkwargs)\n"
     ]
    },
    {
     "data": {
      "image/png": "[encoded data removed]",
      "text/plain": [
       "<Figure size 405.725x360 with 6 Axes>"
      ]
     },
     "metadata": {
      "image/png": {
       "height": 349,
       "width": 398
      },
      "needs_background": "light"
     },
     "output_type": "display_data"
    }
   ],
   "source": [
    "plot_features(df_X)"
   ]
  },
  {
   "cell_type": "code",
   "execution_count": 23,
   "metadata": {
    "ExecuteTime": {
     "end_time": "2019-06-18T18:56:48.865083Z",
     "start_time": "2019-06-18T18:56:48.832961Z"
    }
   },
   "outputs": [
    {
     "data": {
      "text/html": [
       "<div>\n",
       "<style scoped>\n",
       "    .dataframe tbody tr th:only-of-type {\n",
       "        vertical-align: middle;\n",
       "    }\n",
       "\n",
       "    .dataframe tbody tr th {\n",
       "        vertical-align: top;\n",
       "    }\n",
       "\n",
       "    .dataframe thead th {\n",
       "        text-align: right;\n",
       "    }\n",
       "</style>\n",
       "<table border=\"1\" class=\"dataframe\">\n",
       "  <thead>\n",
       "    <tr style=\"text-align: right;\">\n",
       "      <th></th>\n",
       "      <th>product_id</th>\n",
       "      <th>user_id</th>\n",
       "      <th>user_product_total_orders</th>\n",
       "      <th>latest_cart</th>\n",
       "      <th>in_cart</th>\n",
       "    </tr>\n",
       "  </thead>\n",
       "  <tbody>\n",
       "    <tr>\n",
       "      <th>0</th>\n",
       "      <td>1</td>\n",
       "      <td>50005</td>\n",
       "      <td>1</td>\n",
       "      <td>{22028}</td>\n",
       "      <td>0</td>\n",
       "    </tr>\n",
       "    <tr>\n",
       "      <th>1</th>\n",
       "      <td>37600</td>\n",
       "      <td>50005</td>\n",
       "      <td>1</td>\n",
       "      <td>{22028}</td>\n",
       "      <td>0</td>\n",
       "    </tr>\n",
       "    <tr>\n",
       "      <th>2</th>\n",
       "      <td>42265</td>\n",
       "      <td>50005</td>\n",
       "      <td>1</td>\n",
       "      <td>{22028}</td>\n",
       "      <td>0</td>\n",
       "    </tr>\n",
       "    <tr>\n",
       "      <th>3</th>\n",
       "      <td>1</td>\n",
       "      <td>94870</td>\n",
       "      <td>1</td>\n",
       "      <td>{48733, 26767}</td>\n",
       "      <td>0</td>\n",
       "    </tr>\n",
       "    <tr>\n",
       "      <th>4</th>\n",
       "      <td>196</td>\n",
       "      <td>94870</td>\n",
       "      <td>1</td>\n",
       "      <td>{48733, 26767}</td>\n",
       "      <td>0</td>\n",
       "    </tr>\n",
       "    <tr>\n",
       "      <th>5</th>\n",
       "      <td>48733</td>\n",
       "      <td>94870</td>\n",
       "      <td>1</td>\n",
       "      <td>{48733, 26767}</td>\n",
       "      <td>1</td>\n",
       "    </tr>\n",
       "    <tr>\n",
       "      <th>6</th>\n",
       "      <td>1</td>\n",
       "      <td>170714</td>\n",
       "      <td>1</td>\n",
       "      <td>{23915, 40939}</td>\n",
       "      <td>0</td>\n",
       "    </tr>\n",
       "    <tr>\n",
       "      <th>7</th>\n",
       "      <td>3</td>\n",
       "      <td>204485</td>\n",
       "      <td>1</td>\n",
       "      <td>{40656, 47249, 25013, 31183}</td>\n",
       "      <td>0</td>\n",
       "    </tr>\n",
       "    <tr>\n",
       "      <th>8</th>\n",
       "      <td>7</td>\n",
       "      <td>29045</td>\n",
       "      <td>1</td>\n",
       "      <td>{47766}</td>\n",
       "      <td>0</td>\n",
       "    </tr>\n",
       "    <tr>\n",
       "      <th>9</th>\n",
       "      <td>20114</td>\n",
       "      <td>29045</td>\n",
       "      <td>1</td>\n",
       "      <td>{47766}</td>\n",
       "      <td>0</td>\n",
       "    </tr>\n",
       "    <tr>\n",
       "      <th>10</th>\n",
       "      <td>10</td>\n",
       "      <td>15448</td>\n",
       "      <td>1</td>\n",
       "      <td>{21137, 15779, 40852, 5883}</td>\n",
       "      <td>0</td>\n",
       "    </tr>\n",
       "    <tr>\n",
       "      <th>11</th>\n",
       "      <td>7622</td>\n",
       "      <td>15448</td>\n",
       "      <td>1</td>\n",
       "      <td>{21137, 15779, 40852, 5883}</td>\n",
       "      <td>0</td>\n",
       "    </tr>\n",
       "    <tr>\n",
       "      <th>12</th>\n",
       "      <td>7677</td>\n",
       "      <td>15448</td>\n",
       "      <td>1</td>\n",
       "      <td>{21137, 15779, 40852, 5883}</td>\n",
       "      <td>0</td>\n",
       "    </tr>\n",
       "    <tr>\n",
       "      <th>13</th>\n",
       "      <td>18739</td>\n",
       "      <td>15448</td>\n",
       "      <td>1</td>\n",
       "      <td>{21137, 15779, 40852, 5883}</td>\n",
       "      <td>0</td>\n",
       "    </tr>\n",
       "    <tr>\n",
       "      <th>14</th>\n",
       "      <td>21936</td>\n",
       "      <td>15448</td>\n",
       "      <td>1</td>\n",
       "      <td>{21137, 15779, 40852, 5883}</td>\n",
       "      <td>0</td>\n",
       "    </tr>\n",
       "    <tr>\n",
       "      <th>15</th>\n",
       "      <td>34817</td>\n",
       "      <td>15448</td>\n",
       "      <td>1</td>\n",
       "      <td>{21137, 15779, 40852, 5883}</td>\n",
       "      <td>0</td>\n",
       "    </tr>\n",
       "    <tr>\n",
       "      <th>16</th>\n",
       "      <td>10</td>\n",
       "      <td>22698</td>\n",
       "      <td>1</td>\n",
       "      <td>{42701, 9270}</td>\n",
       "      <td>0</td>\n",
       "    </tr>\n",
       "    <tr>\n",
       "      <th>17</th>\n",
       "      <td>16797</td>\n",
       "      <td>22698</td>\n",
       "      <td>1</td>\n",
       "      <td>{42701, 9270}</td>\n",
       "      <td>0</td>\n",
       "    </tr>\n",
       "    <tr>\n",
       "      <th>18</th>\n",
       "      <td>35336</td>\n",
       "      <td>22698</td>\n",
       "      <td>1</td>\n",
       "      <td>{42701, 9270}</td>\n",
       "      <td>0</td>\n",
       "    </tr>\n",
       "    <tr>\n",
       "      <th>19</th>\n",
       "      <td>10</td>\n",
       "      <td>24938</td>\n",
       "      <td>1</td>\n",
       "      <td>{36076}</td>\n",
       "      <td>0</td>\n",
       "    </tr>\n",
       "  </tbody>\n",
       "</table>\n",
       "</div>"
      ],
      "text/plain": [
       "    product_id  user_id  user_product_total_orders  \\\n",
       "0            1    50005                          1   \n",
       "1        37600    50005                          1   \n",
       "2        42265    50005                          1   \n",
       "3            1    94870                          1   \n",
       "4          196    94870                          1   \n",
       "5        48733    94870                          1   \n",
       "6            1   170714                          1   \n",
       "7            3   204485                          1   \n",
       "8            7    29045                          1   \n",
       "9        20114    29045                          1   \n",
       "10          10    15448                          1   \n",
       "11        7622    15448                          1   \n",
       "12        7677    15448                          1   \n",
       "13       18739    15448                          1   \n",
       "14       21936    15448                          1   \n",
       "15       34817    15448                          1   \n",
       "16          10    22698                          1   \n",
       "17       16797    22698                          1   \n",
       "18       35336    22698                          1   \n",
       "19          10    24938                          1   \n",
       "\n",
       "                     latest_cart  in_cart  \n",
       "0                        {22028}        0  \n",
       "1                        {22028}        0  \n",
       "2                        {22028}        0  \n",
       "3                 {48733, 26767}        0  \n",
       "4                 {48733, 26767}        0  \n",
       "5                 {48733, 26767}        1  \n",
       "6                 {23915, 40939}        0  \n",
       "7   {40656, 47249, 25013, 31183}        0  \n",
       "8                        {47766}        0  \n",
       "9                        {47766}        0  \n",
       "10   {21137, 15779, 40852, 5883}        0  \n",
       "11   {21137, 15779, 40852, 5883}        0  \n",
       "12   {21137, 15779, 40852, 5883}        0  \n",
       "13   {21137, 15779, 40852, 5883}        0  \n",
       "14   {21137, 15779, 40852, 5883}        0  \n",
       "15   {21137, 15779, 40852, 5883}        0  \n",
       "16                 {42701, 9270}        0  \n",
       "17                 {42701, 9270}        0  \n",
       "18                 {42701, 9270}        0  \n",
       "19                       {36076}        0  "
      ]
     },
     "execution_count": 23,
     "metadata": {},
     "output_type": "execute_result"
    }
   ],
   "source": [
    "df_X.head(20)"
   ]
  },
  {
   "cell_type": "code",
   "execution_count": 24,
   "metadata": {
    "ExecuteTime": {
     "end_time": "2019-06-18T18:56:49.099166Z",
     "start_time": "2019-06-18T18:56:49.086888Z"
    }
   },
   "outputs": [
    {
     "data": {
      "text/html": [
       "<div>\n",
       "<style scoped>\n",
       "    .dataframe tbody tr th:only-of-type {\n",
       "        vertical-align: middle;\n",
       "    }\n",
       "\n",
       "    .dataframe tbody tr th {\n",
       "        vertical-align: top;\n",
       "    }\n",
       "\n",
       "    .dataframe thead th {\n",
       "        text-align: right;\n",
       "    }\n",
       "</style>\n",
       "<table border=\"1\" class=\"dataframe\">\n",
       "  <thead>\n",
       "    <tr style=\"text-align: right;\">\n",
       "      <th></th>\n",
       "      <th>product_id</th>\n",
       "      <th>user_id</th>\n",
       "      <th>user_product_total_orders</th>\n",
       "      <th>latest_cart</th>\n",
       "      <th>in_cart</th>\n",
       "    </tr>\n",
       "  </thead>\n",
       "  <tbody>\n",
       "    <tr>\n",
       "      <th>0</th>\n",
       "      <td>1</td>\n",
       "      <td>50005</td>\n",
       "      <td>1</td>\n",
       "      <td>{22028}</td>\n",
       "      <td>0</td>\n",
       "    </tr>\n",
       "    <tr>\n",
       "      <th>1</th>\n",
       "      <td>37600</td>\n",
       "      <td>50005</td>\n",
       "      <td>1</td>\n",
       "      <td>{22028}</td>\n",
       "      <td>0</td>\n",
       "    </tr>\n",
       "    <tr>\n",
       "      <th>2</th>\n",
       "      <td>42265</td>\n",
       "      <td>50005</td>\n",
       "      <td>1</td>\n",
       "      <td>{22028}</td>\n",
       "      <td>0</td>\n",
       "    </tr>\n",
       "    <tr>\n",
       "      <th>3</th>\n",
       "      <td>1</td>\n",
       "      <td>94870</td>\n",
       "      <td>1</td>\n",
       "      <td>{48733, 26767}</td>\n",
       "      <td>0</td>\n",
       "    </tr>\n",
       "    <tr>\n",
       "      <th>4</th>\n",
       "      <td>196</td>\n",
       "      <td>94870</td>\n",
       "      <td>1</td>\n",
       "      <td>{48733, 26767}</td>\n",
       "      <td>0</td>\n",
       "    </tr>\n",
       "  </tbody>\n",
       "</table>\n",
       "</div>"
      ],
      "text/plain": [
       "   product_id  user_id  user_product_total_orders     latest_cart  in_cart\n",
       "0           1    50005                          1         {22028}        0\n",
       "1       37600    50005                          1         {22028}        0\n",
       "2       42265    50005                          1         {22028}        0\n",
       "3           1    94870                          1  {48733, 26767}        0\n",
       "4         196    94870                          1  {48733, 26767}        0"
      ]
     },
     "execution_count": 24,
     "metadata": {},
     "output_type": "execute_result"
    }
   ],
   "source": [
    "df_X.head()"
   ]
  },
  {
   "cell_type": "code",
   "execution_count": 25,
   "metadata": {
    "ExecuteTime": {
     "end_time": "2019-06-18T18:56:49.112726Z",
     "start_time": "2019-06-18T18:56:49.102664Z"
    }
   },
   "outputs": [],
   "source": [
    "def get_user_split_data(df, test_size=.2, seed=44):\n",
    "    rs = np.random.RandomState(seed)\n",
    "    \n",
    "    total_users = df['user_id'].unique()\n",
    "#     the logic here is useful. take a subsection of users, not just overall rows\n",
    "    test_users = rs.choice((total_users), size=int(total_users.shape[0], * test_size), replace=False)\n",
    "    \n",
    "#     what does the tilde do? bitwise not operator, basically the same as ! in js\n",
    "    df_tr = df[~df['user_id'].isin(test_users)]\n",
    "    df_te = df[df['user_id'].isin(test_users)]\n",
    "    \n",
    "    y_tr, y_te = df_tr['in_cart'], df_te['in_cart']\n",
    "    X_tr = df_tr.drop(['product_id', 'user_id', 'latest_cart', 'in_cart'], axis=1)\n",
    "    X_te = df_te.drop(['product_id', 'user_id', 'latest_cart', 'in_cart'], axis=1)\n",
    "    \n",
    "    return X_tr, X_te, y_tr, y_te"
   ]
  },
  {
   "cell_type": "markdown",
   "metadata": {},
   "source": [
    "- aisle_df\n",
    "- departments_df\n",
    "- df_order_products_train\n",
    "- df_order_products_prior\n",
    "- orders_df\n",
    "- products_df\n",
    "- sample_submission_df"
   ]
  },
  {
   "cell_type": "code",
   "execution_count": 26,
   "metadata": {
    "ExecuteTime": {
     "end_time": "2019-06-18T18:56:50.502780Z",
     "start_time": "2019-06-18T18:56:50.275625Z"
    }
   },
   "outputs": [
    {
     "name": "stdout",
     "output_type": "stream",
     "text": [
      "0    0.961437\n",
      "1    0.038563\n",
      "Name: in_cart, dtype: float64\n"
     ]
    },
    {
     "data": {
      "text/plain": [
       "<matplotlib.axes._subplots.AxesSubplot at 0x1a234ed278>"
      ]
     },
     "execution_count": 26,
     "metadata": {},
     "output_type": "execute_result"
    },
    {
     "data": {
      "image/png": "[encoded data removed]",
      "text/plain": [
       "<Figure size 432x288 with 1 Axes>"
      ]
     },
     "metadata": {
      "image/png": {
       "height": 250,
       "width": 376
      },
      "needs_background": "light"
     },
     "output_type": "display_data"
    }
   ],
   "source": [
    "target_pcts = df_X.in_cart.value_counts(normalize=True) \n",
    "print(target_pcts)\n",
    "\n",
    "target_pcts.plot(kind='bar')"
   ]
  },
  {
   "cell_type": "markdown",
   "metadata": {},
   "source": [
    "##### My first goal is to find a good way to accurately sample data from my largest datasets so I can quickly iterate on a smaller dataset."
   ]
  },
  {
   "cell_type": "code",
   "execution_count": 27,
   "metadata": {
    "ExecuteTime": {
     "end_time": "2019-06-18T18:56:50.754432Z",
     "start_time": "2019-06-18T18:56:50.746389Z"
    }
   },
   "outputs": [],
   "source": [
    "# 134 unique aisle ids\n",
    "count_aisles = aisles_df.groupby('aisle')['aisle_id'].count()"
   ]
  },
  {
   "cell_type": "code",
   "execution_count": 28,
   "metadata": {
    "ExecuteTime": {
     "end_time": "2019-06-18T18:56:51.033154Z",
     "start_time": "2019-06-18T18:56:51.016665Z"
    }
   },
   "outputs": [
    {
     "data": {
      "text/html": [
       "<div>\n",
       "<style scoped>\n",
       "    .dataframe tbody tr th:only-of-type {\n",
       "        vertical-align: middle;\n",
       "    }\n",
       "\n",
       "    .dataframe tbody tr th {\n",
       "        vertical-align: top;\n",
       "    }\n",
       "\n",
       "    .dataframe thead th {\n",
       "        text-align: right;\n",
       "    }\n",
       "</style>\n",
       "<table border=\"1\" class=\"dataframe\">\n",
       "  <thead>\n",
       "    <tr style=\"text-align: right;\">\n",
       "      <th></th>\n",
       "      <th>order_id</th>\n",
       "      <th>product_id</th>\n",
       "      <th>add_to_cart_order</th>\n",
       "      <th>reordered</th>\n",
       "      <th>user_id</th>\n",
       "      <th>order_number</th>\n",
       "      <th>order_dow</th>\n",
       "      <th>order_hour_of_day</th>\n",
       "      <th>days_since_prior_order</th>\n",
       "    </tr>\n",
       "  </thead>\n",
       "  <tbody>\n",
       "    <tr>\n",
       "      <th>952713</th>\n",
       "      <td>2350027</td>\n",
       "      <td>47766</td>\n",
       "      <td>8</td>\n",
       "      <td>0</td>\n",
       "      <td>79131</td>\n",
       "      <td>4</td>\n",
       "      <td>4</td>\n",
       "      <td>18</td>\n",
       "      <td>7.0</td>\n",
       "    </tr>\n",
       "    <tr>\n",
       "      <th>124673</th>\n",
       "      <td>304819</td>\n",
       "      <td>18394</td>\n",
       "      <td>1</td>\n",
       "      <td>0</td>\n",
       "      <td>120778</td>\n",
       "      <td>24</td>\n",
       "      <td>1</td>\n",
       "      <td>15</td>\n",
       "      <td>7.0</td>\n",
       "    </tr>\n",
       "    <tr>\n",
       "      <th>838062</th>\n",
       "      <td>2066279</td>\n",
       "      <td>26369</td>\n",
       "      <td>9</td>\n",
       "      <td>1</td>\n",
       "      <td>36541</td>\n",
       "      <td>17</td>\n",
       "      <td>1</td>\n",
       "      <td>16</td>\n",
       "      <td>30.0</td>\n",
       "    </tr>\n",
       "    <tr>\n",
       "      <th>477312</th>\n",
       "      <td>1169670</td>\n",
       "      <td>45603</td>\n",
       "      <td>5</td>\n",
       "      <td>0</td>\n",
       "      <td>163133</td>\n",
       "      <td>5</td>\n",
       "      <td>0</td>\n",
       "      <td>11</td>\n",
       "      <td>5.0</td>\n",
       "    </tr>\n",
       "    <tr>\n",
       "      <th>348449</th>\n",
       "      <td>849608</td>\n",
       "      <td>22260</td>\n",
       "      <td>16</td>\n",
       "      <td>1</td>\n",
       "      <td>161063</td>\n",
       "      <td>22</td>\n",
       "      <td>6</td>\n",
       "      <td>16</td>\n",
       "      <td>12.0</td>\n",
       "    </tr>\n",
       "  </tbody>\n",
       "</table>\n",
       "</div>"
      ],
      "text/plain": [
       "        order_id  product_id  add_to_cart_order  reordered  user_id  \\\n",
       "952713   2350027       47766                  8          0    79131   \n",
       "124673    304819       18394                  1          0   120778   \n",
       "838062   2066279       26369                  9          1    36541   \n",
       "477312   1169670       45603                  5          0   163133   \n",
       "348449    849608       22260                 16          1   161063   \n",
       "\n",
       "        order_number  order_dow  order_hour_of_day  days_since_prior_order  \n",
       "952713             4          4                 18                     7.0  \n",
       "124673            24          1                 15                     7.0  \n",
       "838062            17          1                 16                    30.0  \n",
       "477312             5          0                 11                     5.0  \n",
       "348449            22          6                 16                    12.0  "
      ]
     },
     "execution_count": 28,
     "metadata": {},
     "output_type": "execute_result"
    }
   ],
   "source": [
    "df_order_products_train.head()"
   ]
  },
  {
   "cell_type": "code",
   "execution_count": 29,
   "metadata": {
    "ExecuteTime": {
     "end_time": "2019-06-18T18:56:51.312294Z",
     "start_time": "2019-06-18T18:56:51.300927Z"
    }
   },
   "outputs": [
    {
     "data": {
      "text/plain": [
       "aisle\n",
       "air fresheners candles        1\n",
       "packaged seafood              1\n",
       "packaged produce              1\n",
       "packaged poultry              1\n",
       "packaged meat                 1\n",
       "packaged cheese               1\n",
       "other creams cheeses          1\n",
       "other                         1\n",
       "oral hygiene                  1\n",
       "oils vinegars                 1\n",
       "nuts seeds dried fruit        1\n",
       "muscles joints pain relief    1\n",
       "more household                1\n",
       "missing                       1\n",
       "mint gum                      1\n",
       "milk                          1\n",
       "meat counter                  1\n",
       "marinades meat preparation    1\n",
       "lunch meat                    1\n",
       "laundry                       1\n",
       "latino foods                  1\n",
       "kosher foods                  1\n",
       "kitchen supplies              1\n",
       "juice nectars                 1\n",
       "instant foods                 1\n",
       "indian foods                  1\n",
       "ice cream toppings            1\n",
       "ice cream ice                 1\n",
       "hot dogs bacon sausage        1\n",
       "hot cereal pancake mixes      1\n",
       "                             ..\n",
       "frozen produce                1\n",
       "frozen pizza                  1\n",
       "frozen meat seafood           1\n",
       "frozen meals                  1\n",
       "frozen juice                  1\n",
       "frozen dessert                1\n",
       "frozen breakfast              1\n",
       "frozen breads doughs          1\n",
       "frozen appetizers sides       1\n",
       "fresh vegetables              1\n",
       "fresh pasta                   1\n",
       "fresh herbs                   1\n",
       "cream                         1\n",
       "fresh fruits                  1\n",
       "food storage                  1\n",
       "first aid                     1\n",
       "feminine care                 1\n",
       "facial care                   1\n",
       "eye ear care                  1\n",
       "energy sports drinks          1\n",
       "energy granola bars           1\n",
       "eggs                          1\n",
       "dry pasta                     1\n",
       "doughs gelatins bake mixes    1\n",
       "dog food care                 1\n",
       "dish detergents               1\n",
       "digestion                     1\n",
       "diapers wipes                 1\n",
       "fresh dips tapenades          1\n",
       "yogurt                        1\n",
       "Name: aisle_id, Length: 134, dtype: int64"
      ]
     },
     "execution_count": 29,
     "metadata": {},
     "output_type": "execute_result"
    }
   ],
   "source": [
    "count_aisles.sort_values(ascending=True)"
   ]
  },
  {
   "cell_type": "code",
   "execution_count": 30,
   "metadata": {
    "ExecuteTime": {
     "end_time": "2019-06-18T18:56:51.547642Z",
     "start_time": "2019-06-18T18:56:51.543163Z"
    }
   },
   "outputs": [],
   "source": [
    "user_products_df = order_products_prior_df"
   ]
  },
  {
   "cell_type": "markdown",
   "metadata": {},
   "source": [
    "## Questions to explore after looking at aisle data:\n",
    "- How many unique products are there in each category?\n",
    "- What are the most ordered categories?\n",
    "- Which categories have a high re-ordering likelihood (within a window)?"
   ]
  },
  {
   "cell_type": "code",
   "execution_count": 31,
   "metadata": {
    "ExecuteTime": {
     "end_time": "2019-06-18T18:56:51.775242Z",
     "start_time": "2019-06-18T18:56:51.769106Z"
    }
   },
   "outputs": [
    {
     "data": {
      "text/plain": [
       "21"
      ]
     },
     "execution_count": 31,
     "metadata": {},
     "output_type": "execute_result"
    }
   ],
   "source": [
    "# 21 Unique departments\n",
    "departments_df['department'].nunique()"
   ]
  },
  {
   "cell_type": "code",
   "execution_count": 32,
   "metadata": {
    "ExecuteTime": {
     "end_time": "2019-06-18T18:56:52.035280Z",
     "start_time": "2019-06-18T18:56:52.024598Z"
    }
   },
   "outputs": [
    {
     "data": {
      "text/plain": [
       "array(['frozen', 'other', 'bakery', 'produce', 'alcohol', 'international',\n",
       "       'beverages', 'pets', 'dry goods pasta', 'bulk', 'personal care',\n",
       "       'meat seafood', 'pantry', 'breakfast', 'canned goods',\n",
       "       'dairy eggs', 'household', 'babies', 'snacks', 'deli', 'missing'],\n",
       "      dtype=object)"
      ]
     },
     "execution_count": 32,
     "metadata": {},
     "output_type": "execute_result"
    }
   ],
   "source": [
    "departments_df['department'].values"
   ]
  },
  {
   "cell_type": "code",
   "execution_count": null,
   "metadata": {},
   "outputs": [],
   "source": []
  },
  {
   "cell_type": "code",
   "execution_count": 33,
   "metadata": {
    "ExecuteTime": {
     "end_time": "2019-06-18T18:56:52.274552Z",
     "start_time": "2019-06-18T18:56:52.259270Z"
    }
   },
   "outputs": [
    {
     "data": {
      "text/html": [
       "<div>\n",
       "<style scoped>\n",
       "    .dataframe tbody tr th:only-of-type {\n",
       "        vertical-align: middle;\n",
       "    }\n",
       "\n",
       "    .dataframe tbody tr th {\n",
       "        vertical-align: top;\n",
       "    }\n",
       "\n",
       "    .dataframe thead th {\n",
       "        text-align: right;\n",
       "    }\n",
       "</style>\n",
       "<table border=\"1\" class=\"dataframe\">\n",
       "  <thead>\n",
       "    <tr style=\"text-align: right;\">\n",
       "      <th></th>\n",
       "      <th>order_id</th>\n",
       "      <th>product_id</th>\n",
       "      <th>add_to_cart_order</th>\n",
       "      <th>reordered</th>\n",
       "    </tr>\n",
       "  </thead>\n",
       "  <tbody>\n",
       "    <tr>\n",
       "      <th>0</th>\n",
       "      <td>2</td>\n",
       "      <td>33120</td>\n",
       "      <td>1</td>\n",
       "      <td>1</td>\n",
       "    </tr>\n",
       "    <tr>\n",
       "      <th>1</th>\n",
       "      <td>2</td>\n",
       "      <td>28985</td>\n",
       "      <td>2</td>\n",
       "      <td>1</td>\n",
       "    </tr>\n",
       "    <tr>\n",
       "      <th>2</th>\n",
       "      <td>2</td>\n",
       "      <td>9327</td>\n",
       "      <td>3</td>\n",
       "      <td>0</td>\n",
       "    </tr>\n",
       "    <tr>\n",
       "      <th>3</th>\n",
       "      <td>2</td>\n",
       "      <td>45918</td>\n",
       "      <td>4</td>\n",
       "      <td>1</td>\n",
       "    </tr>\n",
       "    <tr>\n",
       "      <th>4</th>\n",
       "      <td>2</td>\n",
       "      <td>30035</td>\n",
       "      <td>5</td>\n",
       "      <td>0</td>\n",
       "    </tr>\n",
       "  </tbody>\n",
       "</table>\n",
       "</div>"
      ],
      "text/plain": [
       "   order_id  product_id  add_to_cart_order  reordered\n",
       "0         2       33120                  1          1\n",
       "1         2       28985                  2          1\n",
       "2         2        9327                  3          0\n",
       "3         2       45918                  4          1\n",
       "4         2       30035                  5          0"
      ]
     },
     "execution_count": 33,
     "metadata": {},
     "output_type": "execute_result"
    }
   ],
   "source": [
    "order_products_prior_df.head(5)"
   ]
  },
  {
   "cell_type": "code",
   "execution_count": 34,
   "metadata": {
    "ExecuteTime": {
     "end_time": "2019-06-18T18:56:52.541171Z",
     "start_time": "2019-06-18T18:56:52.531250Z"
    }
   },
   "outputs": [
    {
     "data": {
      "text/plain": [
       "0           1\n",
       "1           1\n",
       "2           0\n",
       "3           1\n",
       "4           0\n",
       "5           1\n",
       "6           1\n",
       "7           1\n",
       "8           0\n",
       "9           1\n",
       "10          1\n",
       "11          1\n",
       "12          1\n",
       "13          1\n",
       "14          1\n",
       "15          1\n",
       "16          1\n",
       "17          0\n",
       "18          1\n",
       "19          1\n",
       "20          1\n",
       "21          1\n",
       "22          1\n",
       "23          1\n",
       "24          1\n",
       "25          1\n",
       "26          1\n",
       "27          1\n",
       "28          1\n",
       "29          1\n",
       "           ..\n",
       "32434459    0\n",
       "32434460    0\n",
       "32434461    1\n",
       "32434462    0\n",
       "32434463    0\n",
       "32434464    0\n",
       "32434465    0\n",
       "32434466    0\n",
       "32434467    0\n",
       "32434468    0\n",
       "32434469    0\n",
       "32434470    0\n",
       "32434471    0\n",
       "32434472    1\n",
       "32434473    1\n",
       "32434474    0\n",
       "32434475    1\n",
       "32434476    1\n",
       "32434477    0\n",
       "32434478    0\n",
       "32434479    0\n",
       "32434480    0\n",
       "32434481    0\n",
       "32434482    1\n",
       "32434483    0\n",
       "32434484    1\n",
       "32434485    0\n",
       "32434486    0\n",
       "32434487    1\n",
       "32434488    1\n",
       "Name: reordered, Length: 32434489, dtype: int64"
      ]
     },
     "execution_count": 34,
     "metadata": {},
     "output_type": "execute_result"
    }
   ],
   "source": [
    "order_products_prior_df['reordered']"
   ]
  },
  {
   "cell_type": "code",
   "execution_count": 35,
   "metadata": {
    "ExecuteTime": {
     "end_time": "2019-06-18T18:56:56.287574Z",
     "start_time": "2019-06-18T18:56:52.751977Z"
    }
   },
   "outputs": [
    {
     "data": {
      "text/html": [
       "<div>\n",
       "<style scoped>\n",
       "    .dataframe tbody tr th:only-of-type {\n",
       "        vertical-align: middle;\n",
       "    }\n",
       "\n",
       "    .dataframe tbody tr th {\n",
       "        vertical-align: top;\n",
       "    }\n",
       "\n",
       "    .dataframe thead th {\n",
       "        text-align: right;\n",
       "    }\n",
       "</style>\n",
       "<table border=\"1\" class=\"dataframe\">\n",
       "  <thead>\n",
       "    <tr style=\"text-align: right;\">\n",
       "      <th></th>\n",
       "      <th>product_id</th>\n",
       "      <th>reordered</th>\n",
       "    </tr>\n",
       "  </thead>\n",
       "  <tbody>\n",
       "    <tr>\n",
       "      <th>0</th>\n",
       "      <td>1</td>\n",
       "      <td>1136</td>\n",
       "    </tr>\n",
       "    <tr>\n",
       "      <th>1</th>\n",
       "      <td>2</td>\n",
       "      <td>12</td>\n",
       "    </tr>\n",
       "    <tr>\n",
       "      <th>2</th>\n",
       "      <td>3</td>\n",
       "      <td>203</td>\n",
       "    </tr>\n",
       "    <tr>\n",
       "      <th>3</th>\n",
       "      <td>4</td>\n",
       "      <td>147</td>\n",
       "    </tr>\n",
       "    <tr>\n",
       "      <th>4</th>\n",
       "      <td>5</td>\n",
       "      <td>9</td>\n",
       "    </tr>\n",
       "  </tbody>\n",
       "</table>\n",
       "</div>"
      ],
      "text/plain": [
       "   product_id  reordered\n",
       "0           1       1136\n",
       "1           2         12\n",
       "2           3        203\n",
       "3           4        147\n",
       "4           5          9"
      ]
     },
     "execution_count": 35,
     "metadata": {},
     "output_type": "execute_result"
    }
   ],
   "source": [
    "# How many products are in each order? \n",
    "# What are the most reordered products?\n",
    "\n",
    "sum_products_reordered = order_products_prior_df.groupby('product_id')['reordered'].sum().reset_index()\n",
    "sum_products_reordered.head()"
   ]
  },
  {
   "cell_type": "code",
   "execution_count": 36,
   "metadata": {
    "ExecuteTime": {
     "end_time": "2019-06-18T18:56:56.536109Z",
     "start_time": "2019-06-18T18:56:56.518991Z"
    },
    "scrolled": true
   },
   "outputs": [],
   "source": [
    "# 39123 different products len(sum_products_reordered)\n",
    "sum_products_reordered = (sum_products_reordered.sort_values('reordered', ascending=False)\n",
    "                                                .reset_index()\n",
    "                                                .drop( ['index'], axis=1))"
   ]
  },
  {
   "cell_type": "code",
   "execution_count": 37,
   "metadata": {
    "ExecuteTime": {
     "end_time": "2019-06-18T18:56:56.775150Z",
     "start_time": "2019-06-18T18:56:56.761038Z"
    }
   },
   "outputs": [
    {
     "data": {
      "text/html": [
       "<div>\n",
       "<style scoped>\n",
       "    .dataframe tbody tr th:only-of-type {\n",
       "        vertical-align: middle;\n",
       "    }\n",
       "\n",
       "    .dataframe tbody tr th {\n",
       "        vertical-align: top;\n",
       "    }\n",
       "\n",
       "    .dataframe thead th {\n",
       "        text-align: right;\n",
       "    }\n",
       "</style>\n",
       "<table border=\"1\" class=\"dataframe\">\n",
       "  <thead>\n",
       "    <tr style=\"text-align: right;\">\n",
       "      <th></th>\n",
       "      <th>product_id</th>\n",
       "      <th>reordered</th>\n",
       "    </tr>\n",
       "  </thead>\n",
       "  <tbody>\n",
       "    <tr>\n",
       "      <th>0</th>\n",
       "      <td>24852</td>\n",
       "      <td>398609</td>\n",
       "    </tr>\n",
       "    <tr>\n",
       "      <th>1</th>\n",
       "      <td>13176</td>\n",
       "      <td>315913</td>\n",
       "    </tr>\n",
       "    <tr>\n",
       "      <th>2</th>\n",
       "      <td>21137</td>\n",
       "      <td>205845</td>\n",
       "    </tr>\n",
       "    <tr>\n",
       "      <th>3</th>\n",
       "      <td>21903</td>\n",
       "      <td>186884</td>\n",
       "    </tr>\n",
       "    <tr>\n",
       "      <th>4</th>\n",
       "      <td>47209</td>\n",
       "      <td>170131</td>\n",
       "    </tr>\n",
       "    <tr>\n",
       "      <th>5</th>\n",
       "      <td>47766</td>\n",
       "      <td>134044</td>\n",
       "    </tr>\n",
       "    <tr>\n",
       "      <th>6</th>\n",
       "      <td>27845</td>\n",
       "      <td>114510</td>\n",
       "    </tr>\n",
       "    <tr>\n",
       "      <th>7</th>\n",
       "      <td>47626</td>\n",
       "      <td>106255</td>\n",
       "    </tr>\n",
       "    <tr>\n",
       "      <th>8</th>\n",
       "      <td>27966</td>\n",
       "      <td>105409</td>\n",
       "    </tr>\n",
       "    <tr>\n",
       "      <th>9</th>\n",
       "      <td>16797</td>\n",
       "      <td>99802</td>\n",
       "    </tr>\n",
       "    <tr>\n",
       "      <th>10</th>\n",
       "      <td>26209</td>\n",
       "      <td>95768</td>\n",
       "    </tr>\n",
       "    <tr>\n",
       "      <th>11</th>\n",
       "      <td>22935</td>\n",
       "      <td>79072</td>\n",
       "    </tr>\n",
       "    <tr>\n",
       "      <th>12</th>\n",
       "      <td>24964</td>\n",
       "      <td>74663</td>\n",
       "    </tr>\n",
       "    <tr>\n",
       "      <th>13</th>\n",
       "      <td>45007</td>\n",
       "      <td>72165</td>\n",
       "    </tr>\n",
       "    <tr>\n",
       "      <th>14</th>\n",
       "      <td>49683</td>\n",
       "      <td>67313</td>\n",
       "    </tr>\n",
       "    <tr>\n",
       "      <th>15</th>\n",
       "      <td>28204</td>\n",
       "      <td>63811</td>\n",
       "    </tr>\n",
       "    <tr>\n",
       "      <th>16</th>\n",
       "      <td>39275</td>\n",
       "      <td>62922</td>\n",
       "    </tr>\n",
       "    <tr>\n",
       "      <th>17</th>\n",
       "      <td>8277</td>\n",
       "      <td>62510</td>\n",
       "    </tr>\n",
       "    <tr>\n",
       "      <th>18</th>\n",
       "      <td>5876</td>\n",
       "      <td>60536</td>\n",
       "    </tr>\n",
       "    <tr>\n",
       "      <th>19</th>\n",
       "      <td>49235</td>\n",
       "      <td>59672</td>\n",
       "    </tr>\n",
       "    <tr>\n",
       "      <th>20</th>\n",
       "      <td>44632</td>\n",
       "      <td>58513</td>\n",
       "    </tr>\n",
       "    <tr>\n",
       "      <th>21</th>\n",
       "      <td>45066</td>\n",
       "      <td>57818</td>\n",
       "    </tr>\n",
       "    <tr>\n",
       "      <th>22</th>\n",
       "      <td>19057</td>\n",
       "      <td>57201</td>\n",
       "    </tr>\n",
       "    <tr>\n",
       "      <th>23</th>\n",
       "      <td>30391</td>\n",
       "      <td>56051</td>\n",
       "    </tr>\n",
       "    <tr>\n",
       "      <th>24</th>\n",
       "      <td>40706</td>\n",
       "      <td>55230</td>\n",
       "    </tr>\n",
       "    <tr>\n",
       "      <th>25</th>\n",
       "      <td>4920</td>\n",
       "      <td>55177</td>\n",
       "    </tr>\n",
       "    <tr>\n",
       "      <th>26</th>\n",
       "      <td>37646</td>\n",
       "      <td>53406</td>\n",
       "    </tr>\n",
       "    <tr>\n",
       "      <th>27</th>\n",
       "      <td>27086</td>\n",
       "      <td>52728</td>\n",
       "    </tr>\n",
       "    <tr>\n",
       "      <th>28</th>\n",
       "      <td>30489</td>\n",
       "      <td>51690</td>\n",
       "    </tr>\n",
       "    <tr>\n",
       "      <th>29</th>\n",
       "      <td>42265</td>\n",
       "      <td>50472</td>\n",
       "    </tr>\n",
       "    <tr>\n",
       "      <th>...</th>\n",
       "      <td>...</td>\n",
       "      <td>...</td>\n",
       "    </tr>\n",
       "    <tr>\n",
       "      <th>49647</th>\n",
       "      <td>20405</td>\n",
       "      <td>0</td>\n",
       "    </tr>\n",
       "    <tr>\n",
       "      <th>49648</th>\n",
       "      <td>41940</td>\n",
       "      <td>0</td>\n",
       "    </tr>\n",
       "    <tr>\n",
       "      <th>49649</th>\n",
       "      <td>41936</td>\n",
       "      <td>0</td>\n",
       "    </tr>\n",
       "    <tr>\n",
       "      <th>49650</th>\n",
       "      <td>42019</td>\n",
       "      <td>0</td>\n",
       "    </tr>\n",
       "    <tr>\n",
       "      <th>49651</th>\n",
       "      <td>42021</td>\n",
       "      <td>0</td>\n",
       "    </tr>\n",
       "    <tr>\n",
       "      <th>49652</th>\n",
       "      <td>26259</td>\n",
       "      <td>0</td>\n",
       "    </tr>\n",
       "    <tr>\n",
       "      <th>49653</th>\n",
       "      <td>14125</td>\n",
       "      <td>0</td>\n",
       "    </tr>\n",
       "    <tr>\n",
       "      <th>49654</th>\n",
       "      <td>20311</td>\n",
       "      <td>0</td>\n",
       "    </tr>\n",
       "    <tr>\n",
       "      <th>49655</th>\n",
       "      <td>42099</td>\n",
       "      <td>0</td>\n",
       "    </tr>\n",
       "    <tr>\n",
       "      <th>49656</th>\n",
       "      <td>14138</td>\n",
       "      <td>0</td>\n",
       "    </tr>\n",
       "    <tr>\n",
       "      <th>49657</th>\n",
       "      <td>42096</td>\n",
       "      <td>0</td>\n",
       "    </tr>\n",
       "    <tr>\n",
       "      <th>49658</th>\n",
       "      <td>42095</td>\n",
       "      <td>0</td>\n",
       "    </tr>\n",
       "    <tr>\n",
       "      <th>49659</th>\n",
       "      <td>14137</td>\n",
       "      <td>0</td>\n",
       "    </tr>\n",
       "    <tr>\n",
       "      <th>49660</th>\n",
       "      <td>14128</td>\n",
       "      <td>0</td>\n",
       "    </tr>\n",
       "    <tr>\n",
       "      <th>49661</th>\n",
       "      <td>42087</td>\n",
       "      <td>0</td>\n",
       "    </tr>\n",
       "    <tr>\n",
       "      <th>49662</th>\n",
       "      <td>3587</td>\n",
       "      <td>0</td>\n",
       "    </tr>\n",
       "    <tr>\n",
       "      <th>49663</th>\n",
       "      <td>26268</td>\n",
       "      <td>0</td>\n",
       "    </tr>\n",
       "    <tr>\n",
       "      <th>49664</th>\n",
       "      <td>20325</td>\n",
       "      <td>0</td>\n",
       "    </tr>\n",
       "    <tr>\n",
       "      <th>49665</th>\n",
       "      <td>42027</td>\n",
       "      <td>0</td>\n",
       "    </tr>\n",
       "    <tr>\n",
       "      <th>49666</th>\n",
       "      <td>14122</td>\n",
       "      <td>0</td>\n",
       "    </tr>\n",
       "    <tr>\n",
       "      <th>49667</th>\n",
       "      <td>26267</td>\n",
       "      <td>0</td>\n",
       "    </tr>\n",
       "    <tr>\n",
       "      <th>49668</th>\n",
       "      <td>20342</td>\n",
       "      <td>0</td>\n",
       "    </tr>\n",
       "    <tr>\n",
       "      <th>49669</th>\n",
       "      <td>42055</td>\n",
       "      <td>0</td>\n",
       "    </tr>\n",
       "    <tr>\n",
       "      <th>49670</th>\n",
       "      <td>42047</td>\n",
       "      <td>0</td>\n",
       "    </tr>\n",
       "    <tr>\n",
       "      <th>49671</th>\n",
       "      <td>42045</td>\n",
       "      <td>0</td>\n",
       "    </tr>\n",
       "    <tr>\n",
       "      <th>49672</th>\n",
       "      <td>42034</td>\n",
       "      <td>0</td>\n",
       "    </tr>\n",
       "    <tr>\n",
       "      <th>49673</th>\n",
       "      <td>14116</td>\n",
       "      <td>0</td>\n",
       "    </tr>\n",
       "    <tr>\n",
       "      <th>49674</th>\n",
       "      <td>30711</td>\n",
       "      <td>0</td>\n",
       "    </tr>\n",
       "    <tr>\n",
       "      <th>49675</th>\n",
       "      <td>42031</td>\n",
       "      <td>0</td>\n",
       "    </tr>\n",
       "    <tr>\n",
       "      <th>49676</th>\n",
       "      <td>10579</td>\n",
       "      <td>0</td>\n",
       "    </tr>\n",
       "  </tbody>\n",
       "</table>\n",
       "<p>49677 rows × 2 columns</p>\n",
       "</div>"
      ],
      "text/plain": [
       "       product_id  reordered\n",
       "0           24852     398609\n",
       "1           13176     315913\n",
       "2           21137     205845\n",
       "3           21903     186884\n",
       "4           47209     170131\n",
       "5           47766     134044\n",
       "6           27845     114510\n",
       "7           47626     106255\n",
       "8           27966     105409\n",
       "9           16797      99802\n",
       "10          26209      95768\n",
       "11          22935      79072\n",
       "12          24964      74663\n",
       "13          45007      72165\n",
       "14          49683      67313\n",
       "15          28204      63811\n",
       "16          39275      62922\n",
       "17           8277      62510\n",
       "18           5876      60536\n",
       "19          49235      59672\n",
       "20          44632      58513\n",
       "21          45066      57818\n",
       "22          19057      57201\n",
       "23          30391      56051\n",
       "24          40706      55230\n",
       "25           4920      55177\n",
       "26          37646      53406\n",
       "27          27086      52728\n",
       "28          30489      51690\n",
       "29          42265      50472\n",
       "...           ...        ...\n",
       "49647       20405          0\n",
       "49648       41940          0\n",
       "49649       41936          0\n",
       "49650       42019          0\n",
       "49651       42021          0\n",
       "49652       26259          0\n",
       "49653       14125          0\n",
       "49654       20311          0\n",
       "49655       42099          0\n",
       "49656       14138          0\n",
       "49657       42096          0\n",
       "49658       42095          0\n",
       "49659       14137          0\n",
       "49660       14128          0\n",
       "49661       42087          0\n",
       "49662        3587          0\n",
       "49663       26268          0\n",
       "49664       20325          0\n",
       "49665       42027          0\n",
       "49666       14122          0\n",
       "49667       26267          0\n",
       "49668       20342          0\n",
       "49669       42055          0\n",
       "49670       42047          0\n",
       "49671       42045          0\n",
       "49672       42034          0\n",
       "49673       14116          0\n",
       "49674       30711          0\n",
       "49675       42031          0\n",
       "49676       10579          0\n",
       "\n",
       "[49677 rows x 2 columns]"
      ]
     },
     "execution_count": 37,
     "metadata": {},
     "output_type": "execute_result"
    }
   ],
   "source": [
    "sum_products_reordered"
   ]
  },
  {
   "cell_type": "code",
   "execution_count": 111,
   "metadata": {
    "ExecuteTime": {
     "end_time": "2019-06-18T19:25:05.205688Z",
     "start_time": "2019-06-18T19:25:05.194410Z"
    }
   },
   "outputs": [
    {
     "data": {
      "text/html": [
       "<div>\n",
       "<style scoped>\n",
       "    .dataframe tbody tr th:only-of-type {\n",
       "        vertical-align: middle;\n",
       "    }\n",
       "\n",
       "    .dataframe tbody tr th {\n",
       "        vertical-align: top;\n",
       "    }\n",
       "\n",
       "    .dataframe thead th {\n",
       "        text-align: right;\n",
       "    }\n",
       "</style>\n",
       "<table border=\"1\" class=\"dataframe\">\n",
       "  <thead>\n",
       "    <tr style=\"text-align: right;\">\n",
       "      <th></th>\n",
       "      <th>product_id</th>\n",
       "      <th>reordered</th>\n",
       "    </tr>\n",
       "  </thead>\n",
       "  <tbody>\n",
       "    <tr>\n",
       "      <th>0</th>\n",
       "      <td>24852</td>\n",
       "      <td>398609</td>\n",
       "    </tr>\n",
       "    <tr>\n",
       "      <th>1</th>\n",
       "      <td>13176</td>\n",
       "      <td>315913</td>\n",
       "    </tr>\n",
       "    <tr>\n",
       "      <th>2</th>\n",
       "      <td>21137</td>\n",
       "      <td>205845</td>\n",
       "    </tr>\n",
       "    <tr>\n",
       "      <th>3</th>\n",
       "      <td>21903</td>\n",
       "      <td>186884</td>\n",
       "    </tr>\n",
       "    <tr>\n",
       "      <th>4</th>\n",
       "      <td>47209</td>\n",
       "      <td>170131</td>\n",
       "    </tr>\n",
       "  </tbody>\n",
       "</table>\n",
       "</div>"
      ],
      "text/plain": [
       "   product_id  reordered\n",
       "0       24852     398609\n",
       "1       13176     315913\n",
       "2       21137     205845\n",
       "3       21903     186884\n",
       "4       47209     170131"
      ]
     },
     "execution_count": 111,
     "metadata": {},
     "output_type": "execute_result"
    }
   ],
   "source": [
    "# sum_products_reordered = sum_products_reordered.drop(['level_0'], axis=1)\n",
    "sum_products_reordered.head()"
   ]
  },
  {
   "cell_type": "code",
   "execution_count": 39,
   "metadata": {
    "ExecuteTime": {
     "end_time": "2019-06-18T18:56:57.003532Z",
     "start_time": "2019-06-18T18:56:56.990752Z"
    }
   },
   "outputs": [
    {
     "data": {
      "text/plain": [
       "2047     1\n",
       "44351    1\n",
       "48477    1\n",
       "46428    1\n",
       "36187    1\n",
       "34138    1\n",
       "40281    1\n",
       "38232    1\n",
       "11599    1\n",
       "9550     1\n",
       "15693    1\n",
       "13644    1\n",
       "3403     1\n",
       "1354     1\n",
       "7497     1\n",
       "5448     1\n",
       "27975    1\n",
       "25926    1\n",
       "32069    1\n",
       "30020    1\n",
       "19779    1\n",
       "17730    1\n",
       "23873    1\n",
       "42334    1\n",
       "44383    1\n",
       "21856    1\n",
       "13676    1\n",
       "48509    1\n",
       "46460    1\n",
       "36219    1\n",
       "        ..\n",
       "29307    1\n",
       "31354    1\n",
       "25209    1\n",
       "27256    1\n",
       "4727     1\n",
       "12947    1\n",
       "661      1\n",
       "12979    1\n",
       "41633    1\n",
       "15026    1\n",
       "8881     1\n",
       "10928    1\n",
       "37543    1\n",
       "39590    1\n",
       "33445    1\n",
       "35492    1\n",
       "45731    1\n",
       "47778    1\n",
       "43680    1\n",
       "6806     1\n",
       "21151    1\n",
       "23198    1\n",
       "17053    1\n",
       "19100    1\n",
       "29339    1\n",
       "31386    1\n",
       "25241    1\n",
       "27288    1\n",
       "4759     1\n",
       "2049     1\n",
       "Name: product_id, Length: 49677, dtype: int64"
      ]
     },
     "execution_count": 39,
     "metadata": {},
     "output_type": "execute_result"
    }
   ],
   "source": [
    "sum_products_reordered"
   ]
  },
  {
   "cell_type": "code",
   "execution_count": 110,
   "metadata": {
    "ExecuteTime": {
     "end_time": "2019-06-18T19:23:52.277305Z",
     "start_time": "2019-06-18T19:23:52.269894Z"
    }
   },
   "outputs": [
    {
     "data": {
      "text/plain": [
       "3134"
      ]
     },
     "execution_count": 110,
     "metadata": {},
     "output_type": "execute_result"
    }
   ],
   "source": [
    "sum_products_reordered['reordered'].nunique()\n",
    "# 4372 / 49677\n",
    "\n",
    "#  / 3134"
   ]
  },
  {
   "cell_type": "code",
   "execution_count": null,
   "metadata": {
    "ExecuteTime": {
     "start_time": "2019-06-18T19:25:34.508Z"
    }
   },
   "outputs": [],
   "source": [
    "# Lots of outliers!\n",
    "# sum_products_reordered.head()\n",
    "\n",
    "plt.xlim([0,40])\n",
    "plt.hist(sum_products_reordered, bins=np.arange(0, 40, 5))"
   ]
  },
  {
   "cell_type": "code",
   "execution_count": 99,
   "metadata": {
    "ExecuteTime": {
     "end_time": "2019-06-18T19:19:02.539319Z",
     "start_time": "2019-06-18T19:13:55.882833Z"
    }
   },
   "outputs": [
    {
     "data": {
      "image/png": "[encoded data removed]",
      "text/plain": [
       "<Figure size 432x288 with 1 Axes>"
      ]
     },
     "metadata": {
      "image/png": {
       "height": 269,
       "width": 422
      },
      "needs_background": "light"
     },
     "output_type": "display_data"
    }
   ],
   "source": [
    "reordered_products_plt = sns.barplot(x='reordered', y='product_id', data=sum_products_reordered)"
   ]
  },
  {
   "cell_type": "code",
   "execution_count": 41,
   "metadata": {
    "ExecuteTime": {
     "end_time": "2019-06-18T18:56:57.315113Z",
     "start_time": "2019-06-18T18:56:57.305825Z"
    }
   },
   "outputs": [
    {
     "data": {
      "text/html": [
       "<div>\n",
       "<style scoped>\n",
       "    .dataframe tbody tr th:only-of-type {\n",
       "        vertical-align: middle;\n",
       "    }\n",
       "\n",
       "    .dataframe tbody tr th {\n",
       "        vertical-align: top;\n",
       "    }\n",
       "\n",
       "    .dataframe thead th {\n",
       "        text-align: right;\n",
       "    }\n",
       "</style>\n",
       "<table border=\"1\" class=\"dataframe\">\n",
       "  <thead>\n",
       "    <tr style=\"text-align: right;\">\n",
       "      <th></th>\n",
       "      <th>product_id</th>\n",
       "      <th>reordered</th>\n",
       "    </tr>\n",
       "  </thead>\n",
       "  <tbody>\n",
       "    <tr>\n",
       "      <th>0</th>\n",
       "      <td>24852</td>\n",
       "      <td>398609</td>\n",
       "    </tr>\n",
       "    <tr>\n",
       "      <th>1</th>\n",
       "      <td>13176</td>\n",
       "      <td>315913</td>\n",
       "    </tr>\n",
       "    <tr>\n",
       "      <th>2</th>\n",
       "      <td>21137</td>\n",
       "      <td>205845</td>\n",
       "    </tr>\n",
       "    <tr>\n",
       "      <th>3</th>\n",
       "      <td>21903</td>\n",
       "      <td>186884</td>\n",
       "    </tr>\n",
       "    <tr>\n",
       "      <th>4</th>\n",
       "      <td>47209</td>\n",
       "      <td>170131</td>\n",
       "    </tr>\n",
       "  </tbody>\n",
       "</table>\n",
       "</div>"
      ],
      "text/plain": [
       "   product_id  reordered\n",
       "0       24852     398609\n",
       "1       13176     315913\n",
       "2       21137     205845\n",
       "3       21903     186884\n",
       "4       47209     170131"
      ]
     },
     "execution_count": 41,
     "metadata": {},
     "output_type": "execute_result"
    }
   ],
   "source": [
    "sum_products_reordered.head()"
   ]
  },
  {
   "cell_type": "code",
   "execution_count": null,
   "metadata": {},
   "outputs": [],
   "source": []
  },
  {
   "cell_type": "code",
   "execution_count": 42,
   "metadata": {
    "ExecuteTime": {
     "end_time": "2019-06-18T18:56:57.334218Z",
     "start_time": "2019-06-18T18:56:57.319465Z"
    }
   },
   "outputs": [
    {
     "data": {
      "text/plain": [
       "count     49677.000000\n",
       "mean        385.017936\n",
       "std        3601.713646\n",
       "min           0.000000\n",
       "25%           4.000000\n",
       "50%          22.000000\n",
       "75%         115.000000\n",
       "max      398609.000000\n",
       "Name: reordered, dtype: float64"
      ]
     },
     "execution_count": 42,
     "metadata": {},
     "output_type": "execute_result"
    }
   ],
   "source": [
    "sum_products_reordered['reordered'].describe()"
   ]
  },
  {
   "cell_type": "code",
   "execution_count": 43,
   "metadata": {
    "ExecuteTime": {
     "end_time": "2019-06-18T18:56:57.570378Z",
     "start_time": "2019-06-18T18:56:57.561535Z"
    }
   },
   "outputs": [
    {
     "data": {
      "text/plain": [
       "product_id    4372\n",
       "reordered     4372\n",
       "dtype: int64"
      ]
     },
     "execution_count": 43,
     "metadata": {},
     "output_type": "execute_result"
    }
   ],
   "source": [
    "# 8947 products have been reordered 0 times.\n",
    "sum_products_reordered[sum_products_reordered['reordered'] == 0].count()"
   ]
  },
  {
   "cell_type": "code",
   "execution_count": 44,
   "metadata": {
    "ExecuteTime": {
     "end_time": "2019-06-18T18:56:57.587701Z",
     "start_time": "2019-06-18T18:56:57.574124Z"
    }
   },
   "outputs": [
    {
     "data": {
      "text/html": [
       "<div>\n",
       "<style scoped>\n",
       "    .dataframe tbody tr th:only-of-type {\n",
       "        vertical-align: middle;\n",
       "    }\n",
       "\n",
       "    .dataframe tbody tr th {\n",
       "        vertical-align: top;\n",
       "    }\n",
       "\n",
       "    .dataframe thead th {\n",
       "        text-align: right;\n",
       "    }\n",
       "</style>\n",
       "<table border=\"1\" class=\"dataframe\">\n",
       "  <thead>\n",
       "    <tr style=\"text-align: right;\">\n",
       "      <th></th>\n",
       "      <th>order_id</th>\n",
       "      <th>user_id</th>\n",
       "      <th>eval_set</th>\n",
       "      <th>order_number</th>\n",
       "      <th>order_dow</th>\n",
       "      <th>order_hour_of_day</th>\n",
       "      <th>days_since_prior_order</th>\n",
       "    </tr>\n",
       "  </thead>\n",
       "  <tbody>\n",
       "    <tr>\n",
       "      <th>0</th>\n",
       "      <td>2539329</td>\n",
       "      <td>1</td>\n",
       "      <td>prior</td>\n",
       "      <td>1</td>\n",
       "      <td>2</td>\n",
       "      <td>8</td>\n",
       "      <td>NaN</td>\n",
       "    </tr>\n",
       "    <tr>\n",
       "      <th>1</th>\n",
       "      <td>2398795</td>\n",
       "      <td>1</td>\n",
       "      <td>prior</td>\n",
       "      <td>2</td>\n",
       "      <td>3</td>\n",
       "      <td>7</td>\n",
       "      <td>15.0</td>\n",
       "    </tr>\n",
       "    <tr>\n",
       "      <th>2</th>\n",
       "      <td>473747</td>\n",
       "      <td>1</td>\n",
       "      <td>prior</td>\n",
       "      <td>3</td>\n",
       "      <td>3</td>\n",
       "      <td>12</td>\n",
       "      <td>21.0</td>\n",
       "    </tr>\n",
       "    <tr>\n",
       "      <th>3</th>\n",
       "      <td>2254736</td>\n",
       "      <td>1</td>\n",
       "      <td>prior</td>\n",
       "      <td>4</td>\n",
       "      <td>4</td>\n",
       "      <td>7</td>\n",
       "      <td>29.0</td>\n",
       "    </tr>\n",
       "    <tr>\n",
       "      <th>4</th>\n",
       "      <td>431534</td>\n",
       "      <td>1</td>\n",
       "      <td>prior</td>\n",
       "      <td>5</td>\n",
       "      <td>4</td>\n",
       "      <td>15</td>\n",
       "      <td>28.0</td>\n",
       "    </tr>\n",
       "  </tbody>\n",
       "</table>\n",
       "</div>"
      ],
      "text/plain": [
       "   order_id  user_id eval_set  order_number  order_dow  order_hour_of_day  \\\n",
       "0   2539329        1    prior             1          2                  8   \n",
       "1   2398795        1    prior             2          3                  7   \n",
       "2    473747        1    prior             3          3                 12   \n",
       "3   2254736        1    prior             4          4                  7   \n",
       "4    431534        1    prior             5          4                 15   \n",
       "\n",
       "   days_since_prior_order  \n",
       "0                     NaN  \n",
       "1                    15.0  \n",
       "2                    21.0  \n",
       "3                    29.0  \n",
       "4                    28.0  "
      ]
     },
     "execution_count": 44,
     "metadata": {},
     "output_type": "execute_result"
    }
   ],
   "source": [
    "orders_df.head()\n",
    "# products_df\n",
    "# sample_submission_df"
   ]
  },
  {
   "cell_type": "code",
   "execution_count": null,
   "metadata": {},
   "outputs": [],
   "source": []
  },
  {
   "cell_type": "markdown",
   "metadata": {},
   "source": [
    "## # of orders per hour of the day\n"
   ]
  },
  {
   "cell_type": "code",
   "execution_count": 45,
   "metadata": {
    "ExecuteTime": {
     "end_time": "2019-06-18T18:56:57.802280Z",
     "start_time": "2019-06-18T18:56:57.591473Z"
    }
   },
   "outputs": [],
   "source": [
    "orders_per_hour = orders_df.groupby('order_hour_of_day')['order_id'].count().reset_index()"
   ]
  },
  {
   "cell_type": "code",
   "execution_count": 46,
   "metadata": {
    "ExecuteTime": {
     "end_time": "2019-06-18T18:56:57.989350Z",
     "start_time": "2019-06-18T18:56:57.804636Z"
    }
   },
   "outputs": [
    {
     "data": {
      "text/plain": [
       "<matplotlib.axes._subplots.AxesSubplot at 0x1a22540518>"
      ]
     },
     "execution_count": 46,
     "metadata": {},
     "output_type": "execute_result"
    },
    {
     "data": {
      "image/png": "[encoded data removed]",
      "text/plain": [
       "<Figure size 432x288 with 1 Axes>"
      ]
     },
     "metadata": {
      "image/png": {
       "height": 269,
       "width": 413
      },
      "needs_background": "light"
     },
     "output_type": "display_data"
    }
   ],
   "source": [
    "sns.scatterplot(orders_per_hour['order_hour_of_day'], orders_per_hour['order_id'])\n"
   ]
  },
  {
   "cell_type": "code",
   "execution_count": 47,
   "metadata": {
    "ExecuteTime": {
     "end_time": "2019-06-18T18:56:57.998509Z",
     "start_time": "2019-06-18T18:56:57.993592Z"
    }
   },
   "outputs": [],
   "source": [
    "# certain items that are ordered in the morning or night time vs the daytime\n"
   ]
  },
  {
   "cell_type": "code",
   "execution_count": 48,
   "metadata": {
    "ExecuteTime": {
     "end_time": "2019-06-18T18:56:58.017025Z",
     "start_time": "2019-06-18T18:56:58.002738Z"
    }
   },
   "outputs": [
    {
     "data": {
      "text/html": [
       "<div>\n",
       "<style scoped>\n",
       "    .dataframe tbody tr th:only-of-type {\n",
       "        vertical-align: middle;\n",
       "    }\n",
       "\n",
       "    .dataframe tbody tr th {\n",
       "        vertical-align: top;\n",
       "    }\n",
       "\n",
       "    .dataframe thead th {\n",
       "        text-align: right;\n",
       "    }\n",
       "</style>\n",
       "<table border=\"1\" class=\"dataframe\">\n",
       "  <thead>\n",
       "    <tr style=\"text-align: right;\">\n",
       "      <th></th>\n",
       "      <th>order_id</th>\n",
       "      <th>user_id</th>\n",
       "      <th>eval_set</th>\n",
       "      <th>order_number</th>\n",
       "      <th>order_dow</th>\n",
       "      <th>order_hour_of_day</th>\n",
       "      <th>days_since_prior_order</th>\n",
       "    </tr>\n",
       "  </thead>\n",
       "  <tbody>\n",
       "    <tr>\n",
       "      <th>0</th>\n",
       "      <td>2539329</td>\n",
       "      <td>1</td>\n",
       "      <td>prior</td>\n",
       "      <td>1</td>\n",
       "      <td>2</td>\n",
       "      <td>8</td>\n",
       "      <td>NaN</td>\n",
       "    </tr>\n",
       "    <tr>\n",
       "      <th>1</th>\n",
       "      <td>2398795</td>\n",
       "      <td>1</td>\n",
       "      <td>prior</td>\n",
       "      <td>2</td>\n",
       "      <td>3</td>\n",
       "      <td>7</td>\n",
       "      <td>15.0</td>\n",
       "    </tr>\n",
       "    <tr>\n",
       "      <th>2</th>\n",
       "      <td>473747</td>\n",
       "      <td>1</td>\n",
       "      <td>prior</td>\n",
       "      <td>3</td>\n",
       "      <td>3</td>\n",
       "      <td>12</td>\n",
       "      <td>21.0</td>\n",
       "    </tr>\n",
       "    <tr>\n",
       "      <th>3</th>\n",
       "      <td>2254736</td>\n",
       "      <td>1</td>\n",
       "      <td>prior</td>\n",
       "      <td>4</td>\n",
       "      <td>4</td>\n",
       "      <td>7</td>\n",
       "      <td>29.0</td>\n",
       "    </tr>\n",
       "    <tr>\n",
       "      <th>4</th>\n",
       "      <td>431534</td>\n",
       "      <td>1</td>\n",
       "      <td>prior</td>\n",
       "      <td>5</td>\n",
       "      <td>4</td>\n",
       "      <td>15</td>\n",
       "      <td>28.0</td>\n",
       "    </tr>\n",
       "  </tbody>\n",
       "</table>\n",
       "</div>"
      ],
      "text/plain": [
       "   order_id  user_id eval_set  order_number  order_dow  order_hour_of_day  \\\n",
       "0   2539329        1    prior             1          2                  8   \n",
       "1   2398795        1    prior             2          3                  7   \n",
       "2    473747        1    prior             3          3                 12   \n",
       "3   2254736        1    prior             4          4                  7   \n",
       "4    431534        1    prior             5          4                 15   \n",
       "\n",
       "   days_since_prior_order  \n",
       "0                     NaN  \n",
       "1                    15.0  \n",
       "2                    21.0  \n",
       "3                    29.0  \n",
       "4                    28.0  "
      ]
     },
     "execution_count": 48,
     "metadata": {},
     "output_type": "execute_result"
    }
   ],
   "source": [
    "# Things that are ordered together, or oredered consecutively\n",
    "\n",
    "# Try a random forest!\n",
    "orders_df.head()"
   ]
  },
  {
   "cell_type": "code",
   "execution_count": 49,
   "metadata": {
    "ExecuteTime": {
     "end_time": "2019-06-18T18:56:59.359544Z",
     "start_time": "2019-06-18T18:56:58.020249Z"
    }
   },
   "outputs": [],
   "source": [
    "# 206209 unique users\n",
    "# random_user_orders = orders_df[]\n",
    "\n",
    "o = pd.DataFrame(list(set(list(orders_df['user_id'].values))))"
   ]
  },
  {
   "cell_type": "code",
   "execution_count": 50,
   "metadata": {
    "ExecuteTime": {
     "end_time": "2019-06-18T18:56:59.371323Z",
     "start_time": "2019-06-18T18:56:59.362780Z"
    }
   },
   "outputs": [
    {
     "data": {
      "text/plain": [
       "3421083"
      ]
     },
     "execution_count": 50,
     "metadata": {},
     "output_type": "execute_result"
    }
   ],
   "source": [
    "len(orders_df['user_id'])"
   ]
  },
  {
   "cell_type": "code",
   "execution_count": 51,
   "metadata": {
    "ExecuteTime": {
     "end_time": "2019-06-18T18:56:59.385418Z",
     "start_time": "2019-06-18T18:56:59.374747Z"
    }
   },
   "outputs": [
    {
     "data": {
      "text/plain": [
       "206209"
      ]
     },
     "execution_count": 51,
     "metadata": {},
     "output_type": "execute_result"
    }
   ],
   "source": [
    "len(o)"
   ]
  },
  {
   "cell_type": "code",
   "execution_count": 52,
   "metadata": {
    "ExecuteTime": {
     "end_time": "2019-06-18T18:56:59.412083Z",
     "start_time": "2019-06-18T18:56:59.390265Z"
    }
   },
   "outputs": [
    {
     "data": {
      "text/html": [
       "<div>\n",
       "<style scoped>\n",
       "    .dataframe tbody tr th:only-of-type {\n",
       "        vertical-align: middle;\n",
       "    }\n",
       "\n",
       "    .dataframe tbody tr th {\n",
       "        vertical-align: top;\n",
       "    }\n",
       "\n",
       "    .dataframe thead th {\n",
       "        text-align: right;\n",
       "    }\n",
       "</style>\n",
       "<table border=\"1\" class=\"dataframe\">\n",
       "  <thead>\n",
       "    <tr style=\"text-align: right;\">\n",
       "      <th></th>\n",
       "      <th>user_id</th>\n",
       "    </tr>\n",
       "  </thead>\n",
       "  <tbody>\n",
       "    <tr>\n",
       "      <th>189032</th>\n",
       "      <td>189033</td>\n",
       "    </tr>\n",
       "    <tr>\n",
       "      <th>113006</th>\n",
       "      <td>113007</td>\n",
       "    </tr>\n",
       "    <tr>\n",
       "      <th>40368</th>\n",
       "      <td>40369</td>\n",
       "    </tr>\n",
       "    <tr>\n",
       "      <th>2152</th>\n",
       "      <td>2153</td>\n",
       "    </tr>\n",
       "    <tr>\n",
       "      <th>194849</th>\n",
       "      <td>194850</td>\n",
       "    </tr>\n",
       "  </tbody>\n",
       "</table>\n",
       "</div>"
      ],
      "text/plain": [
       "        user_id\n",
       "189032   189033\n",
       "113006   113007\n",
       "40368     40369\n",
       "2152       2153\n",
       "194849   194850"
      ]
     },
     "execution_count": 52,
     "metadata": {},
     "output_type": "execute_result"
    }
   ],
   "source": [
    "from sklearn.utils.random import sample_without_replacement\n",
    "\n",
    "user_id_sample = o.sample(n=5000, random_state=42)\n",
    "user_id_sample.columns = ['user_id']\n",
    "user_id_sample.head()"
   ]
  },
  {
   "cell_type": "code",
   "execution_count": 53,
   "metadata": {
    "ExecuteTime": {
     "end_time": "2019-06-18T18:57:00.097493Z",
     "start_time": "2019-06-18T18:56:59.415266Z"
    }
   },
   "outputs": [],
   "source": [
    "# rejoin smaller sample back onto the orders table\n",
    "orders_df_sample = user_id_sample.merge(orders_df, how='inner', on='user_id')"
   ]
  },
  {
   "cell_type": "code",
   "execution_count": 54,
   "metadata": {
    "ExecuteTime": {
     "end_time": "2019-06-18T18:57:00.219470Z",
     "start_time": "2019-06-18T18:57:00.100404Z"
    }
   },
   "outputs": [
    {
     "data": {
      "text/html": [
       "<div>\n",
       "<style scoped>\n",
       "    .dataframe tbody tr th:only-of-type {\n",
       "        vertical-align: middle;\n",
       "    }\n",
       "\n",
       "    .dataframe tbody tr th {\n",
       "        vertical-align: top;\n",
       "    }\n",
       "\n",
       "    .dataframe thead th {\n",
       "        text-align: right;\n",
       "    }\n",
       "</style>\n",
       "<table border=\"1\" class=\"dataframe\">\n",
       "  <thead>\n",
       "    <tr style=\"text-align: right;\">\n",
       "      <th></th>\n",
       "      <th>user_id</th>\n",
       "      <th>order_id</th>\n",
       "      <th>eval_set</th>\n",
       "      <th>order_number</th>\n",
       "      <th>order_dow</th>\n",
       "      <th>order_hour_of_day</th>\n",
       "      <th>days_since_prior_order</th>\n",
       "    </tr>\n",
       "  </thead>\n",
       "  <tbody>\n",
       "    <tr>\n",
       "      <th>0</th>\n",
       "      <td>189033</td>\n",
       "      <td>296605</td>\n",
       "      <td>prior</td>\n",
       "      <td>1</td>\n",
       "      <td>3</td>\n",
       "      <td>8</td>\n",
       "      <td>NaN</td>\n",
       "    </tr>\n",
       "    <tr>\n",
       "      <th>1</th>\n",
       "      <td>189033</td>\n",
       "      <td>956270</td>\n",
       "      <td>prior</td>\n",
       "      <td>2</td>\n",
       "      <td>4</td>\n",
       "      <td>20</td>\n",
       "      <td>8.0</td>\n",
       "    </tr>\n",
       "    <tr>\n",
       "      <th>2</th>\n",
       "      <td>189033</td>\n",
       "      <td>1153213</td>\n",
       "      <td>prior</td>\n",
       "      <td>3</td>\n",
       "      <td>0</td>\n",
       "      <td>14</td>\n",
       "      <td>3.0</td>\n",
       "    </tr>\n",
       "    <tr>\n",
       "      <th>3</th>\n",
       "      <td>189033</td>\n",
       "      <td>2084846</td>\n",
       "      <td>prior</td>\n",
       "      <td>4</td>\n",
       "      <td>1</td>\n",
       "      <td>12</td>\n",
       "      <td>8.0</td>\n",
       "    </tr>\n",
       "    <tr>\n",
       "      <th>4</th>\n",
       "      <td>189033</td>\n",
       "      <td>2526872</td>\n",
       "      <td>prior</td>\n",
       "      <td>5</td>\n",
       "      <td>0</td>\n",
       "      <td>23</td>\n",
       "      <td>20.0</td>\n",
       "    </tr>\n",
       "  </tbody>\n",
       "</table>\n",
       "</div>"
      ],
      "text/plain": [
       "   user_id  order_id eval_set  order_number  order_dow  order_hour_of_day  \\\n",
       "0   189033    296605    prior             1          3                  8   \n",
       "1   189033    956270    prior             2          4                 20   \n",
       "2   189033   1153213    prior             3          0                 14   \n",
       "3   189033   2084846    prior             4          1                 12   \n",
       "4   189033   2526872    prior             5          0                 23   \n",
       "\n",
       "   days_since_prior_order  \n",
       "0                     NaN  \n",
       "1                     8.0  \n",
       "2                     3.0  \n",
       "3                     8.0  \n",
       "4                    20.0  "
      ]
     },
     "execution_count": 54,
     "metadata": {},
     "output_type": "execute_result"
    }
   ],
   "source": [
    "orders_df_sample.head()"
   ]
  },
  {
   "cell_type": "code",
   "execution_count": 55,
   "metadata": {
    "ExecuteTime": {
     "end_time": "2019-06-18T18:57:07.311235Z",
     "start_time": "2019-06-18T18:57:00.223196Z"
    }
   },
   "outputs": [],
   "source": [
    "orders_products_df_sample = orders_df_sample.merge(order_products_prior_df, how='inner', on='order_id')"
   ]
  },
  {
   "cell_type": "code",
   "execution_count": 56,
   "metadata": {
    "ExecuteTime": {
     "end_time": "2019-06-18T18:57:14.092502Z",
     "start_time": "2019-06-18T18:57:14.077326Z"
    }
   },
   "outputs": [
    {
     "data": {
      "text/html": [
       "<div>\n",
       "<style scoped>\n",
       "    .dataframe tbody tr th:only-of-type {\n",
       "        vertical-align: middle;\n",
       "    }\n",
       "\n",
       "    .dataframe tbody tr th {\n",
       "        vertical-align: top;\n",
       "    }\n",
       "\n",
       "    .dataframe thead th {\n",
       "        text-align: right;\n",
       "    }\n",
       "</style>\n",
       "<table border=\"1\" class=\"dataframe\">\n",
       "  <thead>\n",
       "    <tr style=\"text-align: right;\">\n",
       "      <th></th>\n",
       "      <th>user_id</th>\n",
       "      <th>order_id</th>\n",
       "      <th>eval_set</th>\n",
       "      <th>order_number</th>\n",
       "      <th>order_dow</th>\n",
       "      <th>order_hour_of_day</th>\n",
       "      <th>days_since_prior_order</th>\n",
       "      <th>product_id</th>\n",
       "      <th>add_to_cart_order</th>\n",
       "      <th>reordered</th>\n",
       "    </tr>\n",
       "  </thead>\n",
       "  <tbody>\n",
       "    <tr>\n",
       "      <th>0</th>\n",
       "      <td>189033</td>\n",
       "      <td>296605</td>\n",
       "      <td>prior</td>\n",
       "      <td>1</td>\n",
       "      <td>3</td>\n",
       "      <td>8</td>\n",
       "      <td>NaN</td>\n",
       "      <td>28058</td>\n",
       "      <td>1</td>\n",
       "      <td>0</td>\n",
       "    </tr>\n",
       "    <tr>\n",
       "      <th>1</th>\n",
       "      <td>189033</td>\n",
       "      <td>296605</td>\n",
       "      <td>prior</td>\n",
       "      <td>1</td>\n",
       "      <td>3</td>\n",
       "      <td>8</td>\n",
       "      <td>NaN</td>\n",
       "      <td>18465</td>\n",
       "      <td>2</td>\n",
       "      <td>0</td>\n",
       "    </tr>\n",
       "    <tr>\n",
       "      <th>2</th>\n",
       "      <td>189033</td>\n",
       "      <td>296605</td>\n",
       "      <td>prior</td>\n",
       "      <td>1</td>\n",
       "      <td>3</td>\n",
       "      <td>8</td>\n",
       "      <td>NaN</td>\n",
       "      <td>27344</td>\n",
       "      <td>3</td>\n",
       "      <td>0</td>\n",
       "    </tr>\n",
       "    <tr>\n",
       "      <th>3</th>\n",
       "      <td>189033</td>\n",
       "      <td>296605</td>\n",
       "      <td>prior</td>\n",
       "      <td>1</td>\n",
       "      <td>3</td>\n",
       "      <td>8</td>\n",
       "      <td>NaN</td>\n",
       "      <td>26751</td>\n",
       "      <td>4</td>\n",
       "      <td>0</td>\n",
       "    </tr>\n",
       "    <tr>\n",
       "      <th>4</th>\n",
       "      <td>189033</td>\n",
       "      <td>296605</td>\n",
       "      <td>prior</td>\n",
       "      <td>1</td>\n",
       "      <td>3</td>\n",
       "      <td>8</td>\n",
       "      <td>NaN</td>\n",
       "      <td>28204</td>\n",
       "      <td>5</td>\n",
       "      <td>0</td>\n",
       "    </tr>\n",
       "  </tbody>\n",
       "</table>\n",
       "</div>"
      ],
      "text/plain": [
       "   user_id  order_id eval_set  order_number  order_dow  order_hour_of_day  \\\n",
       "0   189033    296605    prior             1          3                  8   \n",
       "1   189033    296605    prior             1          3                  8   \n",
       "2   189033    296605    prior             1          3                  8   \n",
       "3   189033    296605    prior             1          3                  8   \n",
       "4   189033    296605    prior             1          3                  8   \n",
       "\n",
       "   days_since_prior_order  product_id  add_to_cart_order  reordered  \n",
       "0                     NaN       28058                  1          0  \n",
       "1                     NaN       18465                  2          0  \n",
       "2                     NaN       27344                  3          0  \n",
       "3                     NaN       26751                  4          0  \n",
       "4                     NaN       28204                  5          0  "
      ]
     },
     "execution_count": 56,
     "metadata": {},
     "output_type": "execute_result"
    }
   ],
   "source": [
    "orders_products_df_sample.head()"
   ]
  },
  {
   "cell_type": "code",
   "execution_count": 57,
   "metadata": {
    "ExecuteTime": {
     "end_time": "2019-06-18T18:57:14.801819Z",
     "start_time": "2019-06-18T18:57:14.452353Z"
    }
   },
   "outputs": [],
   "source": [
    "orders_products_dept_df_sample = orders_products_df_sample.merge(products_df, how='inner', on='product_id')"
   ]
  },
  {
   "cell_type": "code",
   "execution_count": 58,
   "metadata": {
    "ExecuteTime": {
     "end_time": "2019-06-18T18:57:14.827155Z",
     "start_time": "2019-06-18T18:57:14.806694Z"
    }
   },
   "outputs": [
    {
     "data": {
      "text/html": [
       "<div>\n",
       "<style scoped>\n",
       "    .dataframe tbody tr th:only-of-type {\n",
       "        vertical-align: middle;\n",
       "    }\n",
       "\n",
       "    .dataframe tbody tr th {\n",
       "        vertical-align: top;\n",
       "    }\n",
       "\n",
       "    .dataframe thead th {\n",
       "        text-align: right;\n",
       "    }\n",
       "</style>\n",
       "<table border=\"1\" class=\"dataframe\">\n",
       "  <thead>\n",
       "    <tr style=\"text-align: right;\">\n",
       "      <th></th>\n",
       "      <th>user_id</th>\n",
       "      <th>order_id</th>\n",
       "      <th>eval_set</th>\n",
       "      <th>order_number</th>\n",
       "      <th>order_dow</th>\n",
       "      <th>order_hour_of_day</th>\n",
       "      <th>days_since_prior_order</th>\n",
       "      <th>product_id</th>\n",
       "      <th>add_to_cart_order</th>\n",
       "      <th>reordered</th>\n",
       "      <th>product_name</th>\n",
       "      <th>aisle_id</th>\n",
       "      <th>department_id</th>\n",
       "    </tr>\n",
       "  </thead>\n",
       "  <tbody>\n",
       "    <tr>\n",
       "      <th>0</th>\n",
       "      <td>189033</td>\n",
       "      <td>296605</td>\n",
       "      <td>prior</td>\n",
       "      <td>1</td>\n",
       "      <td>3</td>\n",
       "      <td>8</td>\n",
       "      <td>NaN</td>\n",
       "      <td>28058</td>\n",
       "      <td>1</td>\n",
       "      <td>0</td>\n",
       "      <td>Gluten Free Sliced Mountain White Bread</td>\n",
       "      <td>112</td>\n",
       "      <td>3</td>\n",
       "    </tr>\n",
       "    <tr>\n",
       "      <th>1</th>\n",
       "      <td>189033</td>\n",
       "      <td>956270</td>\n",
       "      <td>prior</td>\n",
       "      <td>2</td>\n",
       "      <td>4</td>\n",
       "      <td>20</td>\n",
       "      <td>8.0</td>\n",
       "      <td>28058</td>\n",
       "      <td>1</td>\n",
       "      <td>1</td>\n",
       "      <td>Gluten Free Sliced Mountain White Bread</td>\n",
       "      <td>112</td>\n",
       "      <td>3</td>\n",
       "    </tr>\n",
       "    <tr>\n",
       "      <th>2</th>\n",
       "      <td>189033</td>\n",
       "      <td>2526872</td>\n",
       "      <td>prior</td>\n",
       "      <td>5</td>\n",
       "      <td>0</td>\n",
       "      <td>23</td>\n",
       "      <td>20.0</td>\n",
       "      <td>28058</td>\n",
       "      <td>8</td>\n",
       "      <td>1</td>\n",
       "      <td>Gluten Free Sliced Mountain White Bread</td>\n",
       "      <td>112</td>\n",
       "      <td>3</td>\n",
       "    </tr>\n",
       "    <tr>\n",
       "      <th>3</th>\n",
       "      <td>189033</td>\n",
       "      <td>3255589</td>\n",
       "      <td>prior</td>\n",
       "      <td>8</td>\n",
       "      <td>0</td>\n",
       "      <td>15</td>\n",
       "      <td>30.0</td>\n",
       "      <td>28058</td>\n",
       "      <td>2</td>\n",
       "      <td>1</td>\n",
       "      <td>Gluten Free Sliced Mountain White Bread</td>\n",
       "      <td>112</td>\n",
       "      <td>3</td>\n",
       "    </tr>\n",
       "    <tr>\n",
       "      <th>4</th>\n",
       "      <td>49658</td>\n",
       "      <td>1178962</td>\n",
       "      <td>prior</td>\n",
       "      <td>10</td>\n",
       "      <td>3</td>\n",
       "      <td>12</td>\n",
       "      <td>18.0</td>\n",
       "      <td>28058</td>\n",
       "      <td>9</td>\n",
       "      <td>0</td>\n",
       "      <td>Gluten Free Sliced Mountain White Bread</td>\n",
       "      <td>112</td>\n",
       "      <td>3</td>\n",
       "    </tr>\n",
       "  </tbody>\n",
       "</table>\n",
       "</div>"
      ],
      "text/plain": [
       "   user_id  order_id eval_set  order_number  order_dow  order_hour_of_day  \\\n",
       "0   189033    296605    prior             1          3                  8   \n",
       "1   189033    956270    prior             2          4                 20   \n",
       "2   189033   2526872    prior             5          0                 23   \n",
       "3   189033   3255589    prior             8          0                 15   \n",
       "4    49658   1178962    prior            10          3                 12   \n",
       "\n",
       "   days_since_prior_order  product_id  add_to_cart_order  reordered  \\\n",
       "0                     NaN       28058                  1          0   \n",
       "1                     8.0       28058                  1          1   \n",
       "2                    20.0       28058                  8          1   \n",
       "3                    30.0       28058                  2          1   \n",
       "4                    18.0       28058                  9          0   \n",
       "\n",
       "                              product_name  aisle_id  department_id  \n",
       "0  Gluten Free Sliced Mountain White Bread       112              3  \n",
       "1  Gluten Free Sliced Mountain White Bread       112              3  \n",
       "2  Gluten Free Sliced Mountain White Bread       112              3  \n",
       "3  Gluten Free Sliced Mountain White Bread       112              3  \n",
       "4  Gluten Free Sliced Mountain White Bread       112              3  "
      ]
     },
     "execution_count": 58,
     "metadata": {},
     "output_type": "execute_result"
    }
   ],
   "source": [
    "orders_products_dept_df_sample.head()"
   ]
  },
  {
   "cell_type": "code",
   "execution_count": 59,
   "metadata": {
    "ExecuteTime": {
     "end_time": "2019-06-18T18:57:14.846240Z",
     "start_time": "2019-06-18T18:57:14.831190Z"
    }
   },
   "outputs": [
    {
     "data": {
      "text/html": [
       "<div>\n",
       "<style scoped>\n",
       "    .dataframe tbody tr th:only-of-type {\n",
       "        vertical-align: middle;\n",
       "    }\n",
       "\n",
       "    .dataframe tbody tr th {\n",
       "        vertical-align: top;\n",
       "    }\n",
       "\n",
       "    .dataframe thead th {\n",
       "        text-align: right;\n",
       "    }\n",
       "</style>\n",
       "<table border=\"1\" class=\"dataframe\">\n",
       "  <thead>\n",
       "    <tr style=\"text-align: right;\">\n",
       "      <th></th>\n",
       "      <th>product_id</th>\n",
       "      <th>product_name</th>\n",
       "      <th>aisle_id</th>\n",
       "      <th>department_id</th>\n",
       "    </tr>\n",
       "  </thead>\n",
       "  <tbody>\n",
       "    <tr>\n",
       "      <th>0</th>\n",
       "      <td>1</td>\n",
       "      <td>Chocolate Sandwich Cookies</td>\n",
       "      <td>61</td>\n",
       "      <td>19</td>\n",
       "    </tr>\n",
       "    <tr>\n",
       "      <th>1</th>\n",
       "      <td>2</td>\n",
       "      <td>All-Seasons Salt</td>\n",
       "      <td>104</td>\n",
       "      <td>13</td>\n",
       "    </tr>\n",
       "    <tr>\n",
       "      <th>2</th>\n",
       "      <td>3</td>\n",
       "      <td>Robust Golden Unsweetened Oolong Tea</td>\n",
       "      <td>94</td>\n",
       "      <td>7</td>\n",
       "    </tr>\n",
       "    <tr>\n",
       "      <th>3</th>\n",
       "      <td>4</td>\n",
       "      <td>Smart Ones Classic Favorites Mini Rigatoni Wit...</td>\n",
       "      <td>38</td>\n",
       "      <td>1</td>\n",
       "    </tr>\n",
       "    <tr>\n",
       "      <th>4</th>\n",
       "      <td>5</td>\n",
       "      <td>Green Chile Anytime Sauce</td>\n",
       "      <td>5</td>\n",
       "      <td>13</td>\n",
       "    </tr>\n",
       "  </tbody>\n",
       "</table>\n",
       "</div>"
      ],
      "text/plain": [
       "   product_id                                       product_name  aisle_id  \\\n",
       "0           1                         Chocolate Sandwich Cookies        61   \n",
       "1           2                                   All-Seasons Salt       104   \n",
       "2           3               Robust Golden Unsweetened Oolong Tea        94   \n",
       "3           4  Smart Ones Classic Favorites Mini Rigatoni Wit...        38   \n",
       "4           5                          Green Chile Anytime Sauce         5   \n",
       "\n",
       "   department_id  \n",
       "0             19  \n",
       "1             13  \n",
       "2              7  \n",
       "3              1  \n",
       "4             13  "
      ]
     },
     "execution_count": 59,
     "metadata": {},
     "output_type": "execute_result"
    }
   ],
   "source": [
    "products_df.head()"
   ]
  },
  {
   "cell_type": "code",
   "execution_count": 60,
   "metadata": {
    "ExecuteTime": {
     "end_time": "2019-06-18T18:57:14.857066Z",
     "start_time": "2019-06-18T18:57:14.850768Z"
    }
   },
   "outputs": [],
   "source": [
    "# questions: having a harder time conceptualizing what sort of features i can create that\n",
    "# actually will help the model and not be a proxy for an existing column if i use random forest"
   ]
  },
  {
   "cell_type": "code",
   "execution_count": 61,
   "metadata": {
    "ExecuteTime": {
     "end_time": "2019-06-18T18:57:14.866961Z",
     "start_time": "2019-06-18T18:57:14.862515Z"
    }
   },
   "outputs": [],
   "source": [
    "# orders by user by department by time of day"
   ]
  },
  {
   "cell_type": "code",
   "execution_count": 62,
   "metadata": {
    "ExecuteTime": {
     "end_time": "2019-06-18T18:57:15.380170Z",
     "start_time": "2019-06-18T18:57:14.870876Z"
    }
   },
   "outputs": [],
   "source": [
    "# Let's try to use a random forest classifier on this sample dataset\n",
    "\n",
    "orders_products_dept_df_sample.head(10)\n",
    "orders_products_dept_df_sample_droped_na = orders_products_dept_df_sample.dropna(axis=1)"
   ]
  },
  {
   "cell_type": "code",
   "execution_count": 63,
   "metadata": {
    "ExecuteTime": {
     "end_time": "2019-06-18T18:57:15.398881Z",
     "start_time": "2019-06-18T18:57:15.383000Z"
    }
   },
   "outputs": [
    {
     "data": {
      "text/html": [
       "<div>\n",
       "<style scoped>\n",
       "    .dataframe tbody tr th:only-of-type {\n",
       "        vertical-align: middle;\n",
       "    }\n",
       "\n",
       "    .dataframe tbody tr th {\n",
       "        vertical-align: top;\n",
       "    }\n",
       "\n",
       "    .dataframe thead th {\n",
       "        text-align: right;\n",
       "    }\n",
       "</style>\n",
       "<table border=\"1\" class=\"dataframe\">\n",
       "  <thead>\n",
       "    <tr style=\"text-align: right;\">\n",
       "      <th></th>\n",
       "      <th>user_id</th>\n",
       "      <th>order_id</th>\n",
       "      <th>eval_set</th>\n",
       "      <th>order_number</th>\n",
       "      <th>order_dow</th>\n",
       "      <th>order_hour_of_day</th>\n",
       "      <th>product_id</th>\n",
       "      <th>add_to_cart_order</th>\n",
       "      <th>reordered</th>\n",
       "      <th>product_name</th>\n",
       "      <th>aisle_id</th>\n",
       "      <th>department_id</th>\n",
       "    </tr>\n",
       "  </thead>\n",
       "  <tbody>\n",
       "    <tr>\n",
       "      <th>0</th>\n",
       "      <td>189033</td>\n",
       "      <td>296605</td>\n",
       "      <td>prior</td>\n",
       "      <td>1</td>\n",
       "      <td>3</td>\n",
       "      <td>8</td>\n",
       "      <td>28058</td>\n",
       "      <td>1</td>\n",
       "      <td>0</td>\n",
       "      <td>Gluten Free Sliced Mountain White Bread</td>\n",
       "      <td>112</td>\n",
       "      <td>3</td>\n",
       "    </tr>\n",
       "    <tr>\n",
       "      <th>1</th>\n",
       "      <td>189033</td>\n",
       "      <td>956270</td>\n",
       "      <td>prior</td>\n",
       "      <td>2</td>\n",
       "      <td>4</td>\n",
       "      <td>20</td>\n",
       "      <td>28058</td>\n",
       "      <td>1</td>\n",
       "      <td>1</td>\n",
       "      <td>Gluten Free Sliced Mountain White Bread</td>\n",
       "      <td>112</td>\n",
       "      <td>3</td>\n",
       "    </tr>\n",
       "    <tr>\n",
       "      <th>2</th>\n",
       "      <td>189033</td>\n",
       "      <td>2526872</td>\n",
       "      <td>prior</td>\n",
       "      <td>5</td>\n",
       "      <td>0</td>\n",
       "      <td>23</td>\n",
       "      <td>28058</td>\n",
       "      <td>8</td>\n",
       "      <td>1</td>\n",
       "      <td>Gluten Free Sliced Mountain White Bread</td>\n",
       "      <td>112</td>\n",
       "      <td>3</td>\n",
       "    </tr>\n",
       "    <tr>\n",
       "      <th>3</th>\n",
       "      <td>189033</td>\n",
       "      <td>3255589</td>\n",
       "      <td>prior</td>\n",
       "      <td>8</td>\n",
       "      <td>0</td>\n",
       "      <td>15</td>\n",
       "      <td>28058</td>\n",
       "      <td>2</td>\n",
       "      <td>1</td>\n",
       "      <td>Gluten Free Sliced Mountain White Bread</td>\n",
       "      <td>112</td>\n",
       "      <td>3</td>\n",
       "    </tr>\n",
       "    <tr>\n",
       "      <th>4</th>\n",
       "      <td>49658</td>\n",
       "      <td>1178962</td>\n",
       "      <td>prior</td>\n",
       "      <td>10</td>\n",
       "      <td>3</td>\n",
       "      <td>12</td>\n",
       "      <td>28058</td>\n",
       "      <td>9</td>\n",
       "      <td>0</td>\n",
       "      <td>Gluten Free Sliced Mountain White Bread</td>\n",
       "      <td>112</td>\n",
       "      <td>3</td>\n",
       "    </tr>\n",
       "  </tbody>\n",
       "</table>\n",
       "</div>"
      ],
      "text/plain": [
       "   user_id  order_id eval_set  order_number  order_dow  order_hour_of_day  \\\n",
       "0   189033    296605    prior             1          3                  8   \n",
       "1   189033    956270    prior             2          4                 20   \n",
       "2   189033   2526872    prior             5          0                 23   \n",
       "3   189033   3255589    prior             8          0                 15   \n",
       "4    49658   1178962    prior            10          3                 12   \n",
       "\n",
       "   product_id  add_to_cart_order  reordered  \\\n",
       "0       28058                  1          0   \n",
       "1       28058                  1          1   \n",
       "2       28058                  8          1   \n",
       "3       28058                  2          1   \n",
       "4       28058                  9          0   \n",
       "\n",
       "                              product_name  aisle_id  department_id  \n",
       "0  Gluten Free Sliced Mountain White Bread       112              3  \n",
       "1  Gluten Free Sliced Mountain White Bread       112              3  \n",
       "2  Gluten Free Sliced Mountain White Bread       112              3  \n",
       "3  Gluten Free Sliced Mountain White Bread       112              3  \n",
       "4  Gluten Free Sliced Mountain White Bread       112              3  "
      ]
     },
     "execution_count": 63,
     "metadata": {},
     "output_type": "execute_result"
    }
   ],
   "source": [
    "orders_products_dept_df_sample_droped_na.head()"
   ]
  },
  {
   "cell_type": "code",
   "execution_count": 64,
   "metadata": {
    "ExecuteTime": {
     "end_time": "2019-06-18T18:57:15.425388Z",
     "start_time": "2019-06-18T18:57:15.405169Z"
    }
   },
   "outputs": [
    {
     "data": {
      "text/plain": [
       "4     230992\n",
       "16    127521\n",
       "19     68134\n",
       "7      63737\n",
       "1      54877\n",
       "13     45802\n",
       "3      28544\n",
       "20     25296\n",
       "15     25199\n",
       "9      20738\n",
       "12     17963\n",
       "17     17178\n",
       "14     16955\n",
       "11     10867\n",
       "18      9249\n",
       "6       7133\n",
       "5       3024\n",
       "8       2248\n",
       "21      1644\n",
       "2        933\n",
       "10       780\n",
       "Name: department_id, dtype: int64"
      ]
     },
     "execution_count": 64,
     "metadata": {},
     "output_type": "execute_result"
    }
   ],
   "source": [
    "orders_products_dept_df_sample_droped_na['department_id'].value_counts()\n"
   ]
  },
  {
   "cell_type": "code",
   "execution_count": 65,
   "metadata": {
    "ExecuteTime": {
     "end_time": "2019-06-18T18:57:15.648965Z",
     "start_time": "2019-06-18T18:57:15.429126Z"
    }
   },
   "outputs": [],
   "source": [
    "from sklearn.ensemble import RandomForestClassifier\n",
    "from sklearn.model_selection import train_test_split\n",
    "\n",
    "decisiontree = RandomForestClassifier()\n",
    "\n",
    "# removed 'reordered' column, since it's probably the target\n",
    "# removed 'product_name' column, isnce it's a string\n",
    "# removed 'days_since_prior_order'\n",
    "features = orders_products_dept_df_sample_droped_na[['order_number', 'order_dow', 'order_hour_of_day', 'add_to_cart_order', 'aisle_id', 'department_id']]\n",
    "target = orders_products_dept_df_sample_droped_na['reordered']\n",
    "\n",
    "x_train, x_test, y_train, y_test = train_test_split(features, target, test_size=.3, random_state=42)"
   ]
  },
  {
   "cell_type": "code",
   "execution_count": 66,
   "metadata": {
    "ExecuteTime": {
     "end_time": "2019-06-18T18:57:29.608689Z",
     "start_time": "2019-06-18T18:57:16.077615Z"
    }
   },
   "outputs": [
    {
     "name": "stderr",
     "output_type": "stream",
     "text": [
      "/Users/joe.kholodenko/anaconda3/lib/python3.7/site-packages/sklearn/ensemble/forest.py:246: FutureWarning: The default value of n_estimators will change from 10 in version 0.20 to 100 in 0.22.\n",
      "  \"10 in version 0.20 to 100 in 0.22.\", FutureWarning)\n"
     ]
    },
    {
     "data": {
      "text/plain": [
       "RandomForestClassifier(bootstrap=True, class_weight=None, criterion='gini',\n",
       "            max_depth=None, max_features='auto', max_leaf_nodes=None,\n",
       "            min_impurity_decrease=0.0, min_impurity_split=None,\n",
       "            min_samples_leaf=1, min_samples_split=2,\n",
       "            min_weight_fraction_leaf=0.0, n_estimators=10, n_jobs=None,\n",
       "            oob_score=False, random_state=None, verbose=0,\n",
       "            warm_start=False)"
      ]
     },
     "execution_count": 66,
     "metadata": {},
     "output_type": "execute_result"
    }
   ],
   "source": [
    "decisiontree.fit(x_train, y_train)"
   ]
  },
  {
   "cell_type": "code",
   "execution_count": 67,
   "metadata": {
    "ExecuteTime": {
     "end_time": "2019-06-18T18:57:29.622336Z",
     "start_time": "2019-06-18T18:57:29.613500Z"
    }
   },
   "outputs": [
    {
     "data": {
      "text/plain": [
       "Index(['order_id', 'product_id', 'add_to_cart_order', 'reordered'], dtype='object')"
      ]
     },
     "execution_count": 67,
     "metadata": {},
     "output_type": "execute_result"
    }
   ],
   "source": [
    "order_products_train_df.columns"
   ]
  },
  {
   "cell_type": "code",
   "execution_count": 68,
   "metadata": {
    "ExecuteTime": {
     "end_time": "2019-06-18T18:57:31.034169Z",
     "start_time": "2019-06-18T18:57:29.629136Z"
    }
   },
   "outputs": [],
   "source": [
    "rf1_test_pred = decisiontree.predict(x_test)"
   ]
  },
  {
   "cell_type": "code",
   "execution_count": 69,
   "metadata": {
    "ExecuteTime": {
     "end_time": "2019-06-18T18:57:34.999700Z",
     "start_time": "2019-06-18T18:57:31.037844Z"
    },
    "scrolled": true
   },
   "outputs": [
    {
     "data": {
      "text/plain": [
       "[<matplotlib.lines.Line2D at 0x1a2350a390>]"
      ]
     },
     "execution_count": 69,
     "metadata": {},
     "output_type": "execute_result"
    },
    {
     "data": {
      "image/png": "[encoded data removed]",
      "text/plain": [
       "<Figure size 432x288 with 1 Axes>"
      ]
     },
     "metadata": {
      "image/png": {
       "height": 254,
       "width": 376
      },
      "needs_background": "light"
     },
     "output_type": "display_data"
    }
   ],
   "source": [
    "plt.scatter(y_test, rf1_test_pred,alpha=.1)\n",
    "plt.plot(np.linspace(0,1,2),np.linspace(0,1,2))\n"
   ]
  },
  {
   "cell_type": "code",
   "execution_count": 70,
   "metadata": {
    "ExecuteTime": {
     "end_time": "2019-06-18T18:57:35.029483Z",
     "start_time": "2019-06-18T18:57:35.003818Z"
    }
   },
   "outputs": [
    {
     "data": {
      "text/html": [
       "<div>\n",
       "<style scoped>\n",
       "    .dataframe tbody tr th:only-of-type {\n",
       "        vertical-align: middle;\n",
       "    }\n",
       "\n",
       "    .dataframe tbody tr th {\n",
       "        vertical-align: top;\n",
       "    }\n",
       "\n",
       "    .dataframe thead th {\n",
       "        text-align: right;\n",
       "    }\n",
       "</style>\n",
       "<table border=\"1\" class=\"dataframe\">\n",
       "  <thead>\n",
       "    <tr style=\"text-align: right;\">\n",
       "      <th></th>\n",
       "      <th>user_id</th>\n",
       "      <th>order_id</th>\n",
       "      <th>eval_set</th>\n",
       "      <th>order_number</th>\n",
       "      <th>order_dow</th>\n",
       "      <th>order_hour_of_day</th>\n",
       "      <th>days_since_prior_order</th>\n",
       "      <th>product_id</th>\n",
       "      <th>add_to_cart_order</th>\n",
       "      <th>reordered</th>\n",
       "      <th>product_name</th>\n",
       "      <th>aisle_id</th>\n",
       "      <th>department_id</th>\n",
       "    </tr>\n",
       "  </thead>\n",
       "  <tbody>\n",
       "    <tr>\n",
       "      <th>0</th>\n",
       "      <td>189033</td>\n",
       "      <td>296605</td>\n",
       "      <td>prior</td>\n",
       "      <td>1</td>\n",
       "      <td>3</td>\n",
       "      <td>8</td>\n",
       "      <td>NaN</td>\n",
       "      <td>28058</td>\n",
       "      <td>1</td>\n",
       "      <td>0</td>\n",
       "      <td>Gluten Free Sliced Mountain White Bread</td>\n",
       "      <td>112</td>\n",
       "      <td>3</td>\n",
       "    </tr>\n",
       "    <tr>\n",
       "      <th>1</th>\n",
       "      <td>189033</td>\n",
       "      <td>956270</td>\n",
       "      <td>prior</td>\n",
       "      <td>2</td>\n",
       "      <td>4</td>\n",
       "      <td>20</td>\n",
       "      <td>8.0</td>\n",
       "      <td>28058</td>\n",
       "      <td>1</td>\n",
       "      <td>1</td>\n",
       "      <td>Gluten Free Sliced Mountain White Bread</td>\n",
       "      <td>112</td>\n",
       "      <td>3</td>\n",
       "    </tr>\n",
       "    <tr>\n",
       "      <th>2</th>\n",
       "      <td>189033</td>\n",
       "      <td>2526872</td>\n",
       "      <td>prior</td>\n",
       "      <td>5</td>\n",
       "      <td>0</td>\n",
       "      <td>23</td>\n",
       "      <td>20.0</td>\n",
       "      <td>28058</td>\n",
       "      <td>8</td>\n",
       "      <td>1</td>\n",
       "      <td>Gluten Free Sliced Mountain White Bread</td>\n",
       "      <td>112</td>\n",
       "      <td>3</td>\n",
       "    </tr>\n",
       "    <tr>\n",
       "      <th>3</th>\n",
       "      <td>189033</td>\n",
       "      <td>3255589</td>\n",
       "      <td>prior</td>\n",
       "      <td>8</td>\n",
       "      <td>0</td>\n",
       "      <td>15</td>\n",
       "      <td>30.0</td>\n",
       "      <td>28058</td>\n",
       "      <td>2</td>\n",
       "      <td>1</td>\n",
       "      <td>Gluten Free Sliced Mountain White Bread</td>\n",
       "      <td>112</td>\n",
       "      <td>3</td>\n",
       "    </tr>\n",
       "    <tr>\n",
       "      <th>4</th>\n",
       "      <td>49658</td>\n",
       "      <td>1178962</td>\n",
       "      <td>prior</td>\n",
       "      <td>10</td>\n",
       "      <td>3</td>\n",
       "      <td>12</td>\n",
       "      <td>18.0</td>\n",
       "      <td>28058</td>\n",
       "      <td>9</td>\n",
       "      <td>0</td>\n",
       "      <td>Gluten Free Sliced Mountain White Bread</td>\n",
       "      <td>112</td>\n",
       "      <td>3</td>\n",
       "    </tr>\n",
       "  </tbody>\n",
       "</table>\n",
       "</div>"
      ],
      "text/plain": [
       "   user_id  order_id eval_set  order_number  order_dow  order_hour_of_day  \\\n",
       "0   189033    296605    prior             1          3                  8   \n",
       "1   189033    956270    prior             2          4                 20   \n",
       "2   189033   2526872    prior             5          0                 23   \n",
       "3   189033   3255589    prior             8          0                 15   \n",
       "4    49658   1178962    prior            10          3                 12   \n",
       "\n",
       "   days_since_prior_order  product_id  add_to_cart_order  reordered  \\\n",
       "0                     NaN       28058                  1          0   \n",
       "1                     8.0       28058                  1          1   \n",
       "2                    20.0       28058                  8          1   \n",
       "3                    30.0       28058                  2          1   \n",
       "4                    18.0       28058                  9          0   \n",
       "\n",
       "                              product_name  aisle_id  department_id  \n",
       "0  Gluten Free Sliced Mountain White Bread       112              3  \n",
       "1  Gluten Free Sliced Mountain White Bread       112              3  \n",
       "2  Gluten Free Sliced Mountain White Bread       112              3  \n",
       "3  Gluten Free Sliced Mountain White Bread       112              3  \n",
       "4  Gluten Free Sliced Mountain White Bread       112              3  "
      ]
     },
     "execution_count": 70,
     "metadata": {},
     "output_type": "execute_result"
    }
   ],
   "source": [
    "orders_products_dept_df_sample.head()"
   ]
  },
  {
   "cell_type": "code",
   "execution_count": 71,
   "metadata": {
    "ExecuteTime": {
     "end_time": "2019-06-18T18:57:35.076146Z",
     "start_time": "2019-06-18T18:57:35.035055Z"
    }
   },
   "outputs": [
    {
     "data": {
      "text/html": [
       "<div>\n",
       "<style scoped>\n",
       "    .dataframe tbody tr th:only-of-type {\n",
       "        vertical-align: middle;\n",
       "    }\n",
       "\n",
       "    .dataframe tbody tr th {\n",
       "        vertical-align: top;\n",
       "    }\n",
       "\n",
       "    .dataframe thead th {\n",
       "        text-align: right;\n",
       "    }\n",
       "</style>\n",
       "<table border=\"1\" class=\"dataframe\">\n",
       "  <thead>\n",
       "    <tr style=\"text-align: right;\">\n",
       "      <th></th>\n",
       "      <th>user_id</th>\n",
       "      <th>order_id</th>\n",
       "      <th>product_id</th>\n",
       "    </tr>\n",
       "  </thead>\n",
       "  <tbody>\n",
       "    <tr>\n",
       "      <th>636515</th>\n",
       "      <td>71</td>\n",
       "      <td>21889</td>\n",
       "      <td>117</td>\n",
       "    </tr>\n",
       "    <tr>\n",
       "      <th>148679</th>\n",
       "      <td>71</td>\n",
       "      <td>21889</td>\n",
       "      <td>5785</td>\n",
       "    </tr>\n",
       "    <tr>\n",
       "      <th>184062</th>\n",
       "      <td>71</td>\n",
       "      <td>21889</td>\n",
       "      <td>9839</td>\n",
       "    </tr>\n",
       "    <tr>\n",
       "      <th>490712</th>\n",
       "      <td>71</td>\n",
       "      <td>21889</td>\n",
       "      <td>18531</td>\n",
       "    </tr>\n",
       "    <tr>\n",
       "      <th>449541</th>\n",
       "      <td>71</td>\n",
       "      <td>21889</td>\n",
       "      <td>19019</td>\n",
       "    </tr>\n",
       "    <tr>\n",
       "      <th>725017</th>\n",
       "      <td>71</td>\n",
       "      <td>21889</td>\n",
       "      <td>23216</td>\n",
       "    </tr>\n",
       "    <tr>\n",
       "      <th>94691</th>\n",
       "      <td>71</td>\n",
       "      <td>21889</td>\n",
       "      <td>24221</td>\n",
       "    </tr>\n",
       "    <tr>\n",
       "      <th>50486</th>\n",
       "      <td>71</td>\n",
       "      <td>21889</td>\n",
       "      <td>27243</td>\n",
       "    </tr>\n",
       "    <tr>\n",
       "      <th>502628</th>\n",
       "      <td>71</td>\n",
       "      <td>21889</td>\n",
       "      <td>30442</td>\n",
       "    </tr>\n",
       "    <tr>\n",
       "      <th>299131</th>\n",
       "      <td>71</td>\n",
       "      <td>21889</td>\n",
       "      <td>32537</td>\n",
       "    </tr>\n",
       "    <tr>\n",
       "      <th>588721</th>\n",
       "      <td>71</td>\n",
       "      <td>21889</td>\n",
       "      <td>33290</td>\n",
       "    </tr>\n",
       "    <tr>\n",
       "      <th>86203</th>\n",
       "      <td>71</td>\n",
       "      <td>21889</td>\n",
       "      <td>33754</td>\n",
       "    </tr>\n",
       "    <tr>\n",
       "      <th>558509</th>\n",
       "      <td>71</td>\n",
       "      <td>21889</td>\n",
       "      <td>33825</td>\n",
       "    </tr>\n",
       "    <tr>\n",
       "      <th>19566</th>\n",
       "      <td>71</td>\n",
       "      <td>21889</td>\n",
       "      <td>35108</td>\n",
       "    </tr>\n",
       "    <tr>\n",
       "      <th>697961</th>\n",
       "      <td>71</td>\n",
       "      <td>21889</td>\n",
       "      <td>37973</td>\n",
       "    </tr>\n",
       "    <tr>\n",
       "      <th>583058</th>\n",
       "      <td>71</td>\n",
       "      <td>21889</td>\n",
       "      <td>42244</td>\n",
       "    </tr>\n",
       "    <tr>\n",
       "      <th>114877</th>\n",
       "      <td>71</td>\n",
       "      <td>21889</td>\n",
       "      <td>43768</td>\n",
       "    </tr>\n",
       "    <tr>\n",
       "      <th>102927</th>\n",
       "      <td>71</td>\n",
       "      <td>21889</td>\n",
       "      <td>45007</td>\n",
       "    </tr>\n",
       "    <tr>\n",
       "      <th>418433</th>\n",
       "      <td>71</td>\n",
       "      <td>21889</td>\n",
       "      <td>48745</td>\n",
       "    </tr>\n",
       "    <tr>\n",
       "      <th>286625</th>\n",
       "      <td>71</td>\n",
       "      <td>21889</td>\n",
       "      <td>48857</td>\n",
       "    </tr>\n",
       "    <tr>\n",
       "      <th>322447</th>\n",
       "      <td>71</td>\n",
       "      <td>21889</td>\n",
       "      <td>48953</td>\n",
       "    </tr>\n",
       "    <tr>\n",
       "      <th>636519</th>\n",
       "      <td>71</td>\n",
       "      <td>322607</td>\n",
       "      <td>117</td>\n",
       "    </tr>\n",
       "    <tr>\n",
       "      <th>718382</th>\n",
       "      <td>71</td>\n",
       "      <td>322607</td>\n",
       "      <td>7911</td>\n",
       "    </tr>\n",
       "    <tr>\n",
       "      <th>637115</th>\n",
       "      <td>71</td>\n",
       "      <td>322607</td>\n",
       "      <td>9598</td>\n",
       "    </tr>\n",
       "    <tr>\n",
       "      <th>111244</th>\n",
       "      <td>71</td>\n",
       "      <td>322607</td>\n",
       "      <td>13176</td>\n",
       "    </tr>\n",
       "    <tr>\n",
       "      <th>98224</th>\n",
       "      <td>71</td>\n",
       "      <td>322607</td>\n",
       "      <td>22849</td>\n",
       "    </tr>\n",
       "    <tr>\n",
       "      <th>655088</th>\n",
       "      <td>71</td>\n",
       "      <td>322607</td>\n",
       "      <td>30967</td>\n",
       "    </tr>\n",
       "    <tr>\n",
       "      <th>38929</th>\n",
       "      <td>71</td>\n",
       "      <td>322607</td>\n",
       "      <td>37646</td>\n",
       "    </tr>\n",
       "    <tr>\n",
       "      <th>453790</th>\n",
       "      <td>71</td>\n",
       "      <td>322607</td>\n",
       "      <td>38689</td>\n",
       "    </tr>\n",
       "    <tr>\n",
       "      <th>114878</th>\n",
       "      <td>71</td>\n",
       "      <td>322607</td>\n",
       "      <td>43768</td>\n",
       "    </tr>\n",
       "    <tr>\n",
       "      <th>...</th>\n",
       "      <td>...</td>\n",
       "      <td>...</td>\n",
       "      <td>...</td>\n",
       "    </tr>\n",
       "    <tr>\n",
       "      <th>382639</th>\n",
       "      <td>71</td>\n",
       "      <td>3112384</td>\n",
       "      <td>3376</td>\n",
       "    </tr>\n",
       "    <tr>\n",
       "      <th>52288</th>\n",
       "      <td>71</td>\n",
       "      <td>3112384</td>\n",
       "      <td>5876</td>\n",
       "    </tr>\n",
       "    <tr>\n",
       "      <th>459804</th>\n",
       "      <td>71</td>\n",
       "      <td>3112384</td>\n",
       "      <td>6336</td>\n",
       "    </tr>\n",
       "    <tr>\n",
       "      <th>344029</th>\n",
       "      <td>71</td>\n",
       "      <td>3112384</td>\n",
       "      <td>9076</td>\n",
       "    </tr>\n",
       "    <tr>\n",
       "      <th>446062</th>\n",
       "      <td>71</td>\n",
       "      <td>3112384</td>\n",
       "      <td>13780</td>\n",
       "    </tr>\n",
       "    <tr>\n",
       "      <th>415789</th>\n",
       "      <td>71</td>\n",
       "      <td>3112384</td>\n",
       "      <td>17200</td>\n",
       "    </tr>\n",
       "    <tr>\n",
       "      <th>490709</th>\n",
       "      <td>71</td>\n",
       "      <td>3112384</td>\n",
       "      <td>18531</td>\n",
       "    </tr>\n",
       "    <tr>\n",
       "      <th>647752</th>\n",
       "      <td>71</td>\n",
       "      <td>3112384</td>\n",
       "      <td>19154</td>\n",
       "    </tr>\n",
       "    <tr>\n",
       "      <th>433932</th>\n",
       "      <td>71</td>\n",
       "      <td>3112384</td>\n",
       "      <td>19156</td>\n",
       "    </tr>\n",
       "    <tr>\n",
       "      <th>509832</th>\n",
       "      <td>71</td>\n",
       "      <td>3112384</td>\n",
       "      <td>19938</td>\n",
       "    </tr>\n",
       "    <tr>\n",
       "      <th>598269</th>\n",
       "      <td>71</td>\n",
       "      <td>3112384</td>\n",
       "      <td>20034</td>\n",
       "    </tr>\n",
       "    <tr>\n",
       "      <th>461219</th>\n",
       "      <td>71</td>\n",
       "      <td>3112384</td>\n",
       "      <td>22124</td>\n",
       "    </tr>\n",
       "    <tr>\n",
       "      <th>98219</th>\n",
       "      <td>71</td>\n",
       "      <td>3112384</td>\n",
       "      <td>22849</td>\n",
       "    </tr>\n",
       "    <tr>\n",
       "      <th>47716</th>\n",
       "      <td>71</td>\n",
       "      <td>3112384</td>\n",
       "      <td>24964</td>\n",
       "    </tr>\n",
       "    <tr>\n",
       "      <th>362630</th>\n",
       "      <td>71</td>\n",
       "      <td>3112384</td>\n",
       "      <td>28278</td>\n",
       "    </tr>\n",
       "    <tr>\n",
       "      <th>756795</th>\n",
       "      <td>71</td>\n",
       "      <td>3112384</td>\n",
       "      <td>31194</td>\n",
       "    </tr>\n",
       "    <tr>\n",
       "      <th>86201</th>\n",
       "      <td>71</td>\n",
       "      <td>3112384</td>\n",
       "      <td>33754</td>\n",
       "    </tr>\n",
       "    <tr>\n",
       "      <th>19562</th>\n",
       "      <td>71</td>\n",
       "      <td>3112384</td>\n",
       "      <td>35108</td>\n",
       "    </tr>\n",
       "    <tr>\n",
       "      <th>175482</th>\n",
       "      <td>71</td>\n",
       "      <td>3112384</td>\n",
       "      <td>40706</td>\n",
       "    </tr>\n",
       "    <tr>\n",
       "      <th>203713</th>\n",
       "      <td>71</td>\n",
       "      <td>3112384</td>\n",
       "      <td>41319</td>\n",
       "    </tr>\n",
       "    <tr>\n",
       "      <th>668082</th>\n",
       "      <td>71</td>\n",
       "      <td>3112384</td>\n",
       "      <td>41408</td>\n",
       "    </tr>\n",
       "    <tr>\n",
       "      <th>424952</th>\n",
       "      <td>71</td>\n",
       "      <td>3112384</td>\n",
       "      <td>41757</td>\n",
       "    </tr>\n",
       "    <tr>\n",
       "      <th>192150</th>\n",
       "      <td>71</td>\n",
       "      <td>3112384</td>\n",
       "      <td>42356</td>\n",
       "    </tr>\n",
       "    <tr>\n",
       "      <th>385218</th>\n",
       "      <td>71</td>\n",
       "      <td>3112384</td>\n",
       "      <td>45002</td>\n",
       "    </tr>\n",
       "    <tr>\n",
       "      <th>563618</th>\n",
       "      <td>71</td>\n",
       "      <td>3112384</td>\n",
       "      <td>45368</td>\n",
       "    </tr>\n",
       "    <tr>\n",
       "      <th>44053</th>\n",
       "      <td>71</td>\n",
       "      <td>3112384</td>\n",
       "      <td>47209</td>\n",
       "    </tr>\n",
       "    <tr>\n",
       "      <th>660947</th>\n",
       "      <td>71</td>\n",
       "      <td>3112384</td>\n",
       "      <td>47861</td>\n",
       "    </tr>\n",
       "    <tr>\n",
       "      <th>121679</th>\n",
       "      <td>71</td>\n",
       "      <td>3112384</td>\n",
       "      <td>48364</td>\n",
       "    </tr>\n",
       "    <tr>\n",
       "      <th>286619</th>\n",
       "      <td>71</td>\n",
       "      <td>3112384</td>\n",
       "      <td>48857</td>\n",
       "    </tr>\n",
       "    <tr>\n",
       "      <th>322442</th>\n",
       "      <td>71</td>\n",
       "      <td>3112384</td>\n",
       "      <td>48953</td>\n",
       "    </tr>\n",
       "  </tbody>\n",
       "</table>\n",
       "<p>437 rows × 3 columns</p>\n",
       "</div>"
      ],
      "text/plain": [
       "        user_id  order_id  product_id\n",
       "636515       71     21889         117\n",
       "148679       71     21889        5785\n",
       "184062       71     21889        9839\n",
       "490712       71     21889       18531\n",
       "449541       71     21889       19019\n",
       "725017       71     21889       23216\n",
       "94691        71     21889       24221\n",
       "50486        71     21889       27243\n",
       "502628       71     21889       30442\n",
       "299131       71     21889       32537\n",
       "588721       71     21889       33290\n",
       "86203        71     21889       33754\n",
       "558509       71     21889       33825\n",
       "19566        71     21889       35108\n",
       "697961       71     21889       37973\n",
       "583058       71     21889       42244\n",
       "114877       71     21889       43768\n",
       "102927       71     21889       45007\n",
       "418433       71     21889       48745\n",
       "286625       71     21889       48857\n",
       "322447       71     21889       48953\n",
       "636519       71    322607         117\n",
       "718382       71    322607        7911\n",
       "637115       71    322607        9598\n",
       "111244       71    322607       13176\n",
       "98224        71    322607       22849\n",
       "655088       71    322607       30967\n",
       "38929        71    322607       37646\n",
       "453790       71    322607       38689\n",
       "114878       71    322607       43768\n",
       "...         ...       ...         ...\n",
       "382639       71   3112384        3376\n",
       "52288        71   3112384        5876\n",
       "459804       71   3112384        6336\n",
       "344029       71   3112384        9076\n",
       "446062       71   3112384       13780\n",
       "415789       71   3112384       17200\n",
       "490709       71   3112384       18531\n",
       "647752       71   3112384       19154\n",
       "433932       71   3112384       19156\n",
       "509832       71   3112384       19938\n",
       "598269       71   3112384       20034\n",
       "461219       71   3112384       22124\n",
       "98219        71   3112384       22849\n",
       "47716        71   3112384       24964\n",
       "362630       71   3112384       28278\n",
       "756795       71   3112384       31194\n",
       "86201        71   3112384       33754\n",
       "19562        71   3112384       35108\n",
       "175482       71   3112384       40706\n",
       "203713       71   3112384       41319\n",
       "668082       71   3112384       41408\n",
       "424952       71   3112384       41757\n",
       "192150       71   3112384       42356\n",
       "385218       71   3112384       45002\n",
       "563618       71   3112384       45368\n",
       "44053        71   3112384       47209\n",
       "660947       71   3112384       47861\n",
       "121679       71   3112384       48364\n",
       "286619       71   3112384       48857\n",
       "322442       71   3112384       48953\n",
       "\n",
       "[437 rows x 3 columns]"
      ]
     },
     "execution_count": 71,
     "metadata": {},
     "output_type": "execute_result"
    }
   ],
   "source": [
    "orders_products_dept_df_sample[['user_id', 'order_id', 'product_id']][orders_products_dept_df_sample['user_id'] == 71].sort_values(['user_id', 'order_id', 'product_id'])"
   ]
  },
  {
   "cell_type": "code",
   "execution_count": 72,
   "metadata": {
    "ExecuteTime": {
     "end_time": "2019-06-18T18:57:35.120594Z",
     "start_time": "2019-06-18T18:57:35.079453Z"
    }
   },
   "outputs": [
    {
     "data": {
      "text/html": [
       "<div>\n",
       "<style scoped>\n",
       "    .dataframe tbody tr th:only-of-type {\n",
       "        vertical-align: middle;\n",
       "    }\n",
       "\n",
       "    .dataframe tbody tr th {\n",
       "        vertical-align: top;\n",
       "    }\n",
       "\n",
       "    .dataframe thead th {\n",
       "        text-align: right;\n",
       "    }\n",
       "</style>\n",
       "<table border=\"1\" class=\"dataframe\">\n",
       "  <thead>\n",
       "    <tr style=\"text-align: right;\">\n",
       "      <th></th>\n",
       "      <th>user_id</th>\n",
       "      <th>order_id</th>\n",
       "      <th>order_number</th>\n",
       "      <th>days_since_prior_order</th>\n",
       "      <th>product_id</th>\n",
       "      <th>add_to_cart_order</th>\n",
       "    </tr>\n",
       "  </thead>\n",
       "  <tbody>\n",
       "    <tr>\n",
       "      <th>0</th>\n",
       "      <td>189033</td>\n",
       "      <td>296605</td>\n",
       "      <td>1</td>\n",
       "      <td>NaN</td>\n",
       "      <td>28058</td>\n",
       "      <td>1</td>\n",
       "    </tr>\n",
       "    <tr>\n",
       "      <th>1</th>\n",
       "      <td>189033</td>\n",
       "      <td>956270</td>\n",
       "      <td>2</td>\n",
       "      <td>8.0</td>\n",
       "      <td>28058</td>\n",
       "      <td>1</td>\n",
       "    </tr>\n",
       "    <tr>\n",
       "      <th>2</th>\n",
       "      <td>189033</td>\n",
       "      <td>2526872</td>\n",
       "      <td>5</td>\n",
       "      <td>20.0</td>\n",
       "      <td>28058</td>\n",
       "      <td>8</td>\n",
       "    </tr>\n",
       "    <tr>\n",
       "      <th>3</th>\n",
       "      <td>189033</td>\n",
       "      <td>3255589</td>\n",
       "      <td>8</td>\n",
       "      <td>30.0</td>\n",
       "      <td>28058</td>\n",
       "      <td>2</td>\n",
       "    </tr>\n",
       "    <tr>\n",
       "      <th>4</th>\n",
       "      <td>49658</td>\n",
       "      <td>1178962</td>\n",
       "      <td>10</td>\n",
       "      <td>18.0</td>\n",
       "      <td>28058</td>\n",
       "      <td>9</td>\n",
       "    </tr>\n",
       "  </tbody>\n",
       "</table>\n",
       "</div>"
      ],
      "text/plain": [
       "   user_id  order_id  order_number  days_since_prior_order  product_id  \\\n",
       "0   189033    296605             1                     NaN       28058   \n",
       "1   189033    956270             2                     8.0       28058   \n",
       "2   189033   2526872             5                    20.0       28058   \n",
       "3   189033   3255589             8                    30.0       28058   \n",
       "4    49658   1178962            10                    18.0       28058   \n",
       "\n",
       "   add_to_cart_order  \n",
       "0                  1  \n",
       "1                  1  \n",
       "2                  8  \n",
       "3                  2  \n",
       "4                  9  "
      ]
     },
     "execution_count": 72,
     "metadata": {},
     "output_type": "execute_result"
    }
   ],
   "source": [
    "orders_products_dept_df_sample[['user_id', 'order_id', 'order_number', 'days_since_prior_order', 'product_id', 'add_to_cart_order']].head()"
   ]
  },
  {
   "cell_type": "code",
   "execution_count": 73,
   "metadata": {
    "ExecuteTime": {
     "end_time": "2019-06-18T18:57:35.144804Z",
     "start_time": "2019-06-18T18:57:35.125328Z"
    }
   },
   "outputs": [],
   "source": [
    "products_per_user = orders_products_dept_df_sample[['user_id', 'product_id']][orders_products_dept_df_sample['user_id'] == 71]\n",
    "products_counts_per_user = products_per_user.groupby(['user_id', 'product_id'])['product_id'].agg({'count'})\n"
   ]
  },
  {
   "cell_type": "code",
   "execution_count": 74,
   "metadata": {
    "ExecuteTime": {
     "end_time": "2019-06-18T18:57:35.156547Z",
     "start_time": "2019-06-18T18:57:35.147978Z"
    }
   },
   "outputs": [],
   "source": [
    "products_counts_per_user = products_counts_per_user.sort_values('count', ascending=False).reset_index()"
   ]
  },
  {
   "cell_type": "code",
   "execution_count": 75,
   "metadata": {
    "ExecuteTime": {
     "end_time": "2019-06-18T18:57:36.540779Z",
     "start_time": "2019-06-18T18:57:36.346869Z"
    }
   },
   "outputs": [],
   "source": [
    "products_per_user = orders_products_dept_df_sample.groupby(['user_id', 'order_id'], sort=True)['product_id'].count().reset_index()"
   ]
  },
  {
   "cell_type": "code",
   "execution_count": 76,
   "metadata": {
    "ExecuteTime": {
     "end_time": "2019-06-18T18:57:36.566179Z",
     "start_time": "2019-06-18T18:57:36.543632Z"
    }
   },
   "outputs": [
    {
     "data": {
      "text/html": [
       "<div>\n",
       "<style scoped>\n",
       "    .dataframe tbody tr th:only-of-type {\n",
       "        vertical-align: middle;\n",
       "    }\n",
       "\n",
       "    .dataframe tbody tr th {\n",
       "        vertical-align: top;\n",
       "    }\n",
       "\n",
       "    .dataframe thead th {\n",
       "        text-align: right;\n",
       "    }\n",
       "</style>\n",
       "<table border=\"1\" class=\"dataframe\">\n",
       "  <thead>\n",
       "    <tr style=\"text-align: right;\">\n",
       "      <th></th>\n",
       "      <th>user_id</th>\n",
       "      <th>order_id</th>\n",
       "      <th>product_id</th>\n",
       "    </tr>\n",
       "  </thead>\n",
       "  <tbody>\n",
       "    <tr>\n",
       "      <th>0</th>\n",
       "      <td>71</td>\n",
       "      <td>21889</td>\n",
       "      <td>21</td>\n",
       "    </tr>\n",
       "    <tr>\n",
       "      <th>1</th>\n",
       "      <td>71</td>\n",
       "      <td>322607</td>\n",
       "      <td>13</td>\n",
       "    </tr>\n",
       "    <tr>\n",
       "      <th>2</th>\n",
       "      <td>71</td>\n",
       "      <td>364423</td>\n",
       "      <td>24</td>\n",
       "    </tr>\n",
       "    <tr>\n",
       "      <th>3</th>\n",
       "      <td>71</td>\n",
       "      <td>434668</td>\n",
       "      <td>26</td>\n",
       "    </tr>\n",
       "    <tr>\n",
       "      <th>4</th>\n",
       "      <td>71</td>\n",
       "      <td>461359</td>\n",
       "      <td>17</td>\n",
       "    </tr>\n",
       "    <tr>\n",
       "      <th>5</th>\n",
       "      <td>71</td>\n",
       "      <td>703584</td>\n",
       "      <td>26</td>\n",
       "    </tr>\n",
       "    <tr>\n",
       "      <th>6</th>\n",
       "      <td>71</td>\n",
       "      <td>920597</td>\n",
       "      <td>23</td>\n",
       "    </tr>\n",
       "    <tr>\n",
       "      <th>7</th>\n",
       "      <td>71</td>\n",
       "      <td>1072501</td>\n",
       "      <td>27</td>\n",
       "    </tr>\n",
       "    <tr>\n",
       "      <th>8</th>\n",
       "      <td>71</td>\n",
       "      <td>1382694</td>\n",
       "      <td>5</td>\n",
       "    </tr>\n",
       "    <tr>\n",
       "      <th>9</th>\n",
       "      <td>71</td>\n",
       "      <td>1437649</td>\n",
       "      <td>8</td>\n",
       "    </tr>\n",
       "    <tr>\n",
       "      <th>10</th>\n",
       "      <td>71</td>\n",
       "      <td>1551092</td>\n",
       "      <td>23</td>\n",
       "    </tr>\n",
       "    <tr>\n",
       "      <th>11</th>\n",
       "      <td>71</td>\n",
       "      <td>1841185</td>\n",
       "      <td>9</td>\n",
       "    </tr>\n",
       "    <tr>\n",
       "      <th>12</th>\n",
       "      <td>71</td>\n",
       "      <td>1962560</td>\n",
       "      <td>23</td>\n",
       "    </tr>\n",
       "    <tr>\n",
       "      <th>13</th>\n",
       "      <td>71</td>\n",
       "      <td>1964503</td>\n",
       "      <td>17</td>\n",
       "    </tr>\n",
       "    <tr>\n",
       "      <th>14</th>\n",
       "      <td>71</td>\n",
       "      <td>2012622</td>\n",
       "      <td>21</td>\n",
       "    </tr>\n",
       "    <tr>\n",
       "      <th>15</th>\n",
       "      <td>71</td>\n",
       "      <td>2075249</td>\n",
       "      <td>30</td>\n",
       "    </tr>\n",
       "    <tr>\n",
       "      <th>16</th>\n",
       "      <td>71</td>\n",
       "      <td>2389339</td>\n",
       "      <td>22</td>\n",
       "    </tr>\n",
       "    <tr>\n",
       "      <th>17</th>\n",
       "      <td>71</td>\n",
       "      <td>2538672</td>\n",
       "      <td>9</td>\n",
       "    </tr>\n",
       "    <tr>\n",
       "      <th>18</th>\n",
       "      <td>71</td>\n",
       "      <td>2600443</td>\n",
       "      <td>9</td>\n",
       "    </tr>\n",
       "    <tr>\n",
       "      <th>19</th>\n",
       "      <td>71</td>\n",
       "      <td>2606009</td>\n",
       "      <td>13</td>\n",
       "    </tr>\n",
       "    <tr>\n",
       "      <th>20</th>\n",
       "      <td>71</td>\n",
       "      <td>2861050</td>\n",
       "      <td>14</td>\n",
       "    </tr>\n",
       "    <tr>\n",
       "      <th>21</th>\n",
       "      <td>71</td>\n",
       "      <td>3065988</td>\n",
       "      <td>26</td>\n",
       "    </tr>\n",
       "    <tr>\n",
       "      <th>22</th>\n",
       "      <td>71</td>\n",
       "      <td>3112384</td>\n",
       "      <td>31</td>\n",
       "    </tr>\n",
       "  </tbody>\n",
       "</table>\n",
       "</div>"
      ],
      "text/plain": [
       "    user_id  order_id  product_id\n",
       "0        71     21889          21\n",
       "1        71    322607          13\n",
       "2        71    364423          24\n",
       "3        71    434668          26\n",
       "4        71    461359          17\n",
       "5        71    703584          26\n",
       "6        71    920597          23\n",
       "7        71   1072501          27\n",
       "8        71   1382694           5\n",
       "9        71   1437649           8\n",
       "10       71   1551092          23\n",
       "11       71   1841185           9\n",
       "12       71   1962560          23\n",
       "13       71   1964503          17\n",
       "14       71   2012622          21\n",
       "15       71   2075249          30\n",
       "16       71   2389339          22\n",
       "17       71   2538672           9\n",
       "18       71   2600443           9\n",
       "19       71   2606009          13\n",
       "20       71   2861050          14\n",
       "21       71   3065988          26\n",
       "22       71   3112384          31"
      ]
     },
     "execution_count": 76,
     "metadata": {},
     "output_type": "execute_result"
    }
   ],
   "source": [
    "products_per_user[products_per_user['user_id'] == 71]"
   ]
  },
  {
   "cell_type": "code",
   "execution_count": 77,
   "metadata": {
    "ExecuteTime": {
     "end_time": "2019-06-18T18:57:36.576123Z",
     "start_time": "2019-06-18T18:57:36.571366Z"
    }
   },
   "outputs": [],
   "source": [
    "# products_counts_per_user['prob_of_item'] = products_counts_per_user['count'].apply(lambda x: x // products_counts_per_user['product_id'].sum().astype(float))\n",
    "\n",
    "\n",
    "\n",
    "\n"
   ]
  },
  {
   "cell_type": "code",
   "execution_count": 78,
   "metadata": {
    "ExecuteTime": {
     "end_time": "2019-06-18T18:57:36.594697Z",
     "start_time": "2019-06-18T18:57:36.579547Z"
    }
   },
   "outputs": [
    {
     "data": {
      "text/html": [
       "<div>\n",
       "<style scoped>\n",
       "    .dataframe tbody tr th:only-of-type {\n",
       "        vertical-align: middle;\n",
       "    }\n",
       "\n",
       "    .dataframe tbody tr th {\n",
       "        vertical-align: top;\n",
       "    }\n",
       "\n",
       "    .dataframe thead th {\n",
       "        text-align: right;\n",
       "    }\n",
       "</style>\n",
       "<table border=\"1\" class=\"dataframe\">\n",
       "  <thead>\n",
       "    <tr style=\"text-align: right;\">\n",
       "      <th></th>\n",
       "      <th>user_id</th>\n",
       "      <th>product_id</th>\n",
       "      <th>count</th>\n",
       "    </tr>\n",
       "  </thead>\n",
       "  <tbody>\n",
       "    <tr>\n",
       "      <th>0</th>\n",
       "      <td>71</td>\n",
       "      <td>48857</td>\n",
       "      <td>20</td>\n",
       "    </tr>\n",
       "    <tr>\n",
       "      <th>1</th>\n",
       "      <td>71</td>\n",
       "      <td>117</td>\n",
       "      <td>19</td>\n",
       "    </tr>\n",
       "    <tr>\n",
       "      <th>2</th>\n",
       "      <td>71</td>\n",
       "      <td>35108</td>\n",
       "      <td>14</td>\n",
       "    </tr>\n",
       "    <tr>\n",
       "      <th>3</th>\n",
       "      <td>71</td>\n",
       "      <td>42356</td>\n",
       "      <td>13</td>\n",
       "    </tr>\n",
       "    <tr>\n",
       "      <th>4</th>\n",
       "      <td>71</td>\n",
       "      <td>19730</td>\n",
       "      <td>12</td>\n",
       "    </tr>\n",
       "  </tbody>\n",
       "</table>\n",
       "</div>"
      ],
      "text/plain": [
       "   user_id  product_id  count\n",
       "0       71       48857     20\n",
       "1       71         117     19\n",
       "2       71       35108     14\n",
       "3       71       42356     13\n",
       "4       71       19730     12"
      ]
     },
     "execution_count": 78,
     "metadata": {},
     "output_type": "execute_result"
    }
   ],
   "source": [
    "products_counts_per_user.head()"
   ]
  },
  {
   "cell_type": "code",
   "execution_count": 79,
   "metadata": {
    "ExecuteTime": {
     "end_time": "2019-06-18T18:57:36.612127Z",
     "start_time": "2019-06-18T18:57:36.598260Z"
    }
   },
   "outputs": [
    {
     "data": {
      "text/html": [
       "<div>\n",
       "<style scoped>\n",
       "    .dataframe tbody tr th:only-of-type {\n",
       "        vertical-align: middle;\n",
       "    }\n",
       "\n",
       "    .dataframe tbody tr th {\n",
       "        vertical-align: top;\n",
       "    }\n",
       "\n",
       "    .dataframe thead th {\n",
       "        text-align: right;\n",
       "    }\n",
       "</style>\n",
       "<table border=\"1\" class=\"dataframe\">\n",
       "  <thead>\n",
       "    <tr style=\"text-align: right;\">\n",
       "      <th></th>\n",
       "      <th>order_id</th>\n",
       "      <th>product_id</th>\n",
       "      <th>add_to_cart_order</th>\n",
       "      <th>reordered</th>\n",
       "    </tr>\n",
       "  </thead>\n",
       "  <tbody>\n",
       "    <tr>\n",
       "      <th>0</th>\n",
       "      <td>2</td>\n",
       "      <td>33120</td>\n",
       "      <td>1</td>\n",
       "      <td>1</td>\n",
       "    </tr>\n",
       "    <tr>\n",
       "      <th>1</th>\n",
       "      <td>2</td>\n",
       "      <td>28985</td>\n",
       "      <td>2</td>\n",
       "      <td>1</td>\n",
       "    </tr>\n",
       "    <tr>\n",
       "      <th>2</th>\n",
       "      <td>2</td>\n",
       "      <td>9327</td>\n",
       "      <td>3</td>\n",
       "      <td>0</td>\n",
       "    </tr>\n",
       "    <tr>\n",
       "      <th>3</th>\n",
       "      <td>2</td>\n",
       "      <td>45918</td>\n",
       "      <td>4</td>\n",
       "      <td>1</td>\n",
       "    </tr>\n",
       "    <tr>\n",
       "      <th>4</th>\n",
       "      <td>2</td>\n",
       "      <td>30035</td>\n",
       "      <td>5</td>\n",
       "      <td>0</td>\n",
       "    </tr>\n",
       "  </tbody>\n",
       "</table>\n",
       "</div>"
      ],
      "text/plain": [
       "   order_id  product_id  add_to_cart_order  reordered\n",
       "0         2       33120                  1          1\n",
       "1         2       28985                  2          1\n",
       "2         2        9327                  3          0\n",
       "3         2       45918                  4          1\n",
       "4         2       30035                  5          0"
      ]
     },
     "execution_count": 79,
     "metadata": {},
     "output_type": "execute_result"
    }
   ],
   "source": [
    "order_products_prior_df.head()"
   ]
  },
  {
   "cell_type": "code",
   "execution_count": 80,
   "metadata": {
    "ExecuteTime": {
     "end_time": "2019-06-18T18:57:36.631128Z",
     "start_time": "2019-06-18T18:57:36.616890Z"
    }
   },
   "outputs": [
    {
     "data": {
      "text/html": [
       "<div>\n",
       "<style scoped>\n",
       "    .dataframe tbody tr th:only-of-type {\n",
       "        vertical-align: middle;\n",
       "    }\n",
       "\n",
       "    .dataframe tbody tr th {\n",
       "        vertical-align: top;\n",
       "    }\n",
       "\n",
       "    .dataframe thead th {\n",
       "        text-align: right;\n",
       "    }\n",
       "</style>\n",
       "<table border=\"1\" class=\"dataframe\">\n",
       "  <thead>\n",
       "    <tr style=\"text-align: right;\">\n",
       "      <th></th>\n",
       "      <th>order_id</th>\n",
       "      <th>product_id</th>\n",
       "      <th>add_to_cart_order</th>\n",
       "      <th>reordered</th>\n",
       "    </tr>\n",
       "  </thead>\n",
       "  <tbody>\n",
       "    <tr>\n",
       "      <th>0</th>\n",
       "      <td>1</td>\n",
       "      <td>49302</td>\n",
       "      <td>1</td>\n",
       "      <td>1</td>\n",
       "    </tr>\n",
       "    <tr>\n",
       "      <th>1</th>\n",
       "      <td>1</td>\n",
       "      <td>11109</td>\n",
       "      <td>2</td>\n",
       "      <td>1</td>\n",
       "    </tr>\n",
       "    <tr>\n",
       "      <th>2</th>\n",
       "      <td>1</td>\n",
       "      <td>10246</td>\n",
       "      <td>3</td>\n",
       "      <td>0</td>\n",
       "    </tr>\n",
       "    <tr>\n",
       "      <th>3</th>\n",
       "      <td>1</td>\n",
       "      <td>49683</td>\n",
       "      <td>4</td>\n",
       "      <td>0</td>\n",
       "    </tr>\n",
       "    <tr>\n",
       "      <th>4</th>\n",
       "      <td>1</td>\n",
       "      <td>43633</td>\n",
       "      <td>5</td>\n",
       "      <td>1</td>\n",
       "    </tr>\n",
       "  </tbody>\n",
       "</table>\n",
       "</div>"
      ],
      "text/plain": [
       "   order_id  product_id  add_to_cart_order  reordered\n",
       "0         1       49302                  1          1\n",
       "1         1       11109                  2          1\n",
       "2         1       10246                  3          0\n",
       "3         1       49683                  4          0\n",
       "4         1       43633                  5          1"
      ]
     },
     "execution_count": 80,
     "metadata": {},
     "output_type": "execute_result"
    }
   ],
   "source": [
    "order_products_train_df.head()"
   ]
  },
  {
   "cell_type": "code",
   "execution_count": 81,
   "metadata": {
    "ExecuteTime": {
     "end_time": "2019-06-18T18:57:36.981796Z",
     "start_time": "2019-06-18T18:57:36.635768Z"
    }
   },
   "outputs": [],
   "source": [
    "# user_id and \n",
    "products_ordered_per_user = orders_products_dept_df_sample[['user_id', 'order_id', 'order_number', 'product_id', 'days_since_prior_order']] \\\n",
    "    .sort_values(['user_id', 'order_id'], ascending=False).reset_index().drop(['index'], axis=1)\n",
    "\n",
    "# list orders sequentially based on days since prior order"
   ]
  },
  {
   "cell_type": "code",
   "execution_count": 82,
   "metadata": {
    "ExecuteTime": {
     "end_time": "2019-06-18T18:57:37.005697Z",
     "start_time": "2019-06-18T18:57:36.985093Z"
    }
   },
   "outputs": [
    {
     "data": {
      "text/html": [
       "<div>\n",
       "<style scoped>\n",
       "    .dataframe tbody tr th:only-of-type {\n",
       "        vertical-align: middle;\n",
       "    }\n",
       "\n",
       "    .dataframe tbody tr th {\n",
       "        vertical-align: top;\n",
       "    }\n",
       "\n",
       "    .dataframe thead th {\n",
       "        text-align: right;\n",
       "    }\n",
       "</style>\n",
       "<table border=\"1\" class=\"dataframe\">\n",
       "  <thead>\n",
       "    <tr style=\"text-align: right;\">\n",
       "      <th></th>\n",
       "      <th>user_id</th>\n",
       "      <th>order_id</th>\n",
       "      <th>order_number</th>\n",
       "      <th>product_id</th>\n",
       "      <th>days_since_prior_order</th>\n",
       "    </tr>\n",
       "  </thead>\n",
       "  <tbody>\n",
       "    <tr>\n",
       "      <th>0</th>\n",
       "      <td>206165</td>\n",
       "      <td>3420822</td>\n",
       "      <td>27</td>\n",
       "      <td>27521</td>\n",
       "      <td>9.0</td>\n",
       "    </tr>\n",
       "    <tr>\n",
       "      <th>1</th>\n",
       "      <td>206165</td>\n",
       "      <td>3420822</td>\n",
       "      <td>27</td>\n",
       "      <td>1529</td>\n",
       "      <td>9.0</td>\n",
       "    </tr>\n",
       "    <tr>\n",
       "      <th>2</th>\n",
       "      <td>206165</td>\n",
       "      <td>3420822</td>\n",
       "      <td>27</td>\n",
       "      <td>15399</td>\n",
       "      <td>9.0</td>\n",
       "    </tr>\n",
       "    <tr>\n",
       "      <th>3</th>\n",
       "      <td>206165</td>\n",
       "      <td>3420822</td>\n",
       "      <td>27</td>\n",
       "      <td>13176</td>\n",
       "      <td>9.0</td>\n",
       "    </tr>\n",
       "    <tr>\n",
       "      <th>4</th>\n",
       "      <td>206165</td>\n",
       "      <td>3420822</td>\n",
       "      <td>27</td>\n",
       "      <td>26604</td>\n",
       "      <td>9.0</td>\n",
       "    </tr>\n",
       "    <tr>\n",
       "      <th>5</th>\n",
       "      <td>206165</td>\n",
       "      <td>3420822</td>\n",
       "      <td>27</td>\n",
       "      <td>7175</td>\n",
       "      <td>9.0</td>\n",
       "    </tr>\n",
       "    <tr>\n",
       "      <th>6</th>\n",
       "      <td>206165</td>\n",
       "      <td>3420822</td>\n",
       "      <td>27</td>\n",
       "      <td>49235</td>\n",
       "      <td>9.0</td>\n",
       "    </tr>\n",
       "    <tr>\n",
       "      <th>7</th>\n",
       "      <td>206165</td>\n",
       "      <td>3420822</td>\n",
       "      <td>27</td>\n",
       "      <td>24838</td>\n",
       "      <td>9.0</td>\n",
       "    </tr>\n",
       "    <tr>\n",
       "      <th>8</th>\n",
       "      <td>206165</td>\n",
       "      <td>3420822</td>\n",
       "      <td>27</td>\n",
       "      <td>48775</td>\n",
       "      <td>9.0</td>\n",
       "    </tr>\n",
       "    <tr>\n",
       "      <th>9</th>\n",
       "      <td>206165</td>\n",
       "      <td>3420822</td>\n",
       "      <td>27</td>\n",
       "      <td>30391</td>\n",
       "      <td>9.0</td>\n",
       "    </tr>\n",
       "    <tr>\n",
       "      <th>10</th>\n",
       "      <td>206165</td>\n",
       "      <td>3420822</td>\n",
       "      <td>27</td>\n",
       "      <td>18618</td>\n",
       "      <td>9.0</td>\n",
       "    </tr>\n",
       "    <tr>\n",
       "      <th>11</th>\n",
       "      <td>206165</td>\n",
       "      <td>3420822</td>\n",
       "      <td>27</td>\n",
       "      <td>260</td>\n",
       "      <td>9.0</td>\n",
       "    </tr>\n",
       "    <tr>\n",
       "      <th>12</th>\n",
       "      <td>206165</td>\n",
       "      <td>3420822</td>\n",
       "      <td>27</td>\n",
       "      <td>32864</td>\n",
       "      <td>9.0</td>\n",
       "    </tr>\n",
       "    <tr>\n",
       "      <th>13</th>\n",
       "      <td>206165</td>\n",
       "      <td>3420822</td>\n",
       "      <td>27</td>\n",
       "      <td>14233</td>\n",
       "      <td>9.0</td>\n",
       "    </tr>\n",
       "    <tr>\n",
       "      <th>14</th>\n",
       "      <td>206165</td>\n",
       "      <td>3420822</td>\n",
       "      <td>27</td>\n",
       "      <td>43504</td>\n",
       "      <td>9.0</td>\n",
       "    </tr>\n",
       "    <tr>\n",
       "      <th>15</th>\n",
       "      <td>206165</td>\n",
       "      <td>3420822</td>\n",
       "      <td>27</td>\n",
       "      <td>36735</td>\n",
       "      <td>9.0</td>\n",
       "    </tr>\n",
       "    <tr>\n",
       "      <th>16</th>\n",
       "      <td>206165</td>\n",
       "      <td>3420822</td>\n",
       "      <td>27</td>\n",
       "      <td>24925</td>\n",
       "      <td>9.0</td>\n",
       "    </tr>\n",
       "    <tr>\n",
       "      <th>17</th>\n",
       "      <td>206165</td>\n",
       "      <td>3420822</td>\n",
       "      <td>27</td>\n",
       "      <td>11182</td>\n",
       "      <td>9.0</td>\n",
       "    </tr>\n",
       "    <tr>\n",
       "      <th>18</th>\n",
       "      <td>206165</td>\n",
       "      <td>3420822</td>\n",
       "      <td>27</td>\n",
       "      <td>37158</td>\n",
       "      <td>9.0</td>\n",
       "    </tr>\n",
       "    <tr>\n",
       "      <th>19</th>\n",
       "      <td>206165</td>\n",
       "      <td>3420822</td>\n",
       "      <td>27</td>\n",
       "      <td>40386</td>\n",
       "      <td>9.0</td>\n",
       "    </tr>\n",
       "    <tr>\n",
       "      <th>20</th>\n",
       "      <td>206165</td>\n",
       "      <td>3420822</td>\n",
       "      <td>27</td>\n",
       "      <td>20588</td>\n",
       "      <td>9.0</td>\n",
       "    </tr>\n",
       "    <tr>\n",
       "      <th>21</th>\n",
       "      <td>206165</td>\n",
       "      <td>3420822</td>\n",
       "      <td>27</td>\n",
       "      <td>25980</td>\n",
       "      <td>9.0</td>\n",
       "    </tr>\n",
       "    <tr>\n",
       "      <th>22</th>\n",
       "      <td>206165</td>\n",
       "      <td>3420822</td>\n",
       "      <td>27</td>\n",
       "      <td>49416</td>\n",
       "      <td>9.0</td>\n",
       "    </tr>\n",
       "    <tr>\n",
       "      <th>23</th>\n",
       "      <td>206165</td>\n",
       "      <td>3420822</td>\n",
       "      <td>27</td>\n",
       "      <td>261</td>\n",
       "      <td>9.0</td>\n",
       "    </tr>\n",
       "    <tr>\n",
       "      <th>24</th>\n",
       "      <td>206165</td>\n",
       "      <td>3420822</td>\n",
       "      <td>27</td>\n",
       "      <td>14881</td>\n",
       "      <td>9.0</td>\n",
       "    </tr>\n",
       "    <tr>\n",
       "      <th>25</th>\n",
       "      <td>206165</td>\n",
       "      <td>3420822</td>\n",
       "      <td>27</td>\n",
       "      <td>30135</td>\n",
       "      <td>9.0</td>\n",
       "    </tr>\n",
       "    <tr>\n",
       "      <th>26</th>\n",
       "      <td>206165</td>\n",
       "      <td>3420822</td>\n",
       "      <td>27</td>\n",
       "      <td>32517</td>\n",
       "      <td>9.0</td>\n",
       "    </tr>\n",
       "    <tr>\n",
       "      <th>27</th>\n",
       "      <td>206165</td>\n",
       "      <td>3420822</td>\n",
       "      <td>27</td>\n",
       "      <td>2497</td>\n",
       "      <td>9.0</td>\n",
       "    </tr>\n",
       "    <tr>\n",
       "      <th>28</th>\n",
       "      <td>206165</td>\n",
       "      <td>3420822</td>\n",
       "      <td>27</td>\n",
       "      <td>6999</td>\n",
       "      <td>9.0</td>\n",
       "    </tr>\n",
       "    <tr>\n",
       "      <th>29</th>\n",
       "      <td>206165</td>\n",
       "      <td>3420822</td>\n",
       "      <td>27</td>\n",
       "      <td>19084</td>\n",
       "      <td>9.0</td>\n",
       "    </tr>\n",
       "    <tr>\n",
       "      <th>30</th>\n",
       "      <td>206165</td>\n",
       "      <td>3420822</td>\n",
       "      <td>27</td>\n",
       "      <td>25551</td>\n",
       "      <td>9.0</td>\n",
       "    </tr>\n",
       "    <tr>\n",
       "      <th>31</th>\n",
       "      <td>206165</td>\n",
       "      <td>3420822</td>\n",
       "      <td>27</td>\n",
       "      <td>8594</td>\n",
       "      <td>9.0</td>\n",
       "    </tr>\n",
       "    <tr>\n",
       "      <th>32</th>\n",
       "      <td>206165</td>\n",
       "      <td>3420822</td>\n",
       "      <td>27</td>\n",
       "      <td>31630</td>\n",
       "      <td>9.0</td>\n",
       "    </tr>\n",
       "    <tr>\n",
       "      <th>33</th>\n",
       "      <td>206165</td>\n",
       "      <td>3420822</td>\n",
       "      <td>27</td>\n",
       "      <td>28885</td>\n",
       "      <td>9.0</td>\n",
       "    </tr>\n",
       "    <tr>\n",
       "      <th>34</th>\n",
       "      <td>206165</td>\n",
       "      <td>3420822</td>\n",
       "      <td>27</td>\n",
       "      <td>18353</td>\n",
       "      <td>9.0</td>\n",
       "    </tr>\n",
       "    <tr>\n",
       "      <th>35</th>\n",
       "      <td>206165</td>\n",
       "      <td>3420822</td>\n",
       "      <td>27</td>\n",
       "      <td>16505</td>\n",
       "      <td>9.0</td>\n",
       "    </tr>\n",
       "    <tr>\n",
       "      <th>36</th>\n",
       "      <td>206165</td>\n",
       "      <td>3420822</td>\n",
       "      <td>27</td>\n",
       "      <td>32773</td>\n",
       "      <td>9.0</td>\n",
       "    </tr>\n",
       "    <tr>\n",
       "      <th>37</th>\n",
       "      <td>206165</td>\n",
       "      <td>3420822</td>\n",
       "      <td>27</td>\n",
       "      <td>44585</td>\n",
       "      <td>9.0</td>\n",
       "    </tr>\n",
       "    <tr>\n",
       "      <th>38</th>\n",
       "      <td>206165</td>\n",
       "      <td>3420822</td>\n",
       "      <td>27</td>\n",
       "      <td>22807</td>\n",
       "      <td>9.0</td>\n",
       "    </tr>\n",
       "    <tr>\n",
       "      <th>39</th>\n",
       "      <td>206165</td>\n",
       "      <td>3420822</td>\n",
       "      <td>27</td>\n",
       "      <td>5014</td>\n",
       "      <td>9.0</td>\n",
       "    </tr>\n",
       "    <tr>\n",
       "      <th>40</th>\n",
       "      <td>206165</td>\n",
       "      <td>3420822</td>\n",
       "      <td>27</td>\n",
       "      <td>35937</td>\n",
       "      <td>9.0</td>\n",
       "    </tr>\n",
       "    <tr>\n",
       "      <th>41</th>\n",
       "      <td>206165</td>\n",
       "      <td>3420822</td>\n",
       "      <td>27</td>\n",
       "      <td>13116</td>\n",
       "      <td>9.0</td>\n",
       "    </tr>\n",
       "    <tr>\n",
       "      <th>42</th>\n",
       "      <td>206165</td>\n",
       "      <td>3420822</td>\n",
       "      <td>27</td>\n",
       "      <td>19312</td>\n",
       "      <td>9.0</td>\n",
       "    </tr>\n",
       "    <tr>\n",
       "      <th>43</th>\n",
       "      <td>206165</td>\n",
       "      <td>3420822</td>\n",
       "      <td>27</td>\n",
       "      <td>5792</td>\n",
       "      <td>9.0</td>\n",
       "    </tr>\n",
       "    <tr>\n",
       "      <th>44</th>\n",
       "      <td>206165</td>\n",
       "      <td>3420822</td>\n",
       "      <td>27</td>\n",
       "      <td>28898</td>\n",
       "      <td>9.0</td>\n",
       "    </tr>\n",
       "    <tr>\n",
       "      <th>45</th>\n",
       "      <td>206165</td>\n",
       "      <td>3314029</td>\n",
       "      <td>3</td>\n",
       "      <td>49267</td>\n",
       "      <td>5.0</td>\n",
       "    </tr>\n",
       "    <tr>\n",
       "      <th>46</th>\n",
       "      <td>206165</td>\n",
       "      <td>3314029</td>\n",
       "      <td>3</td>\n",
       "      <td>35871</td>\n",
       "      <td>5.0</td>\n",
       "    </tr>\n",
       "    <tr>\n",
       "      <th>47</th>\n",
       "      <td>206165</td>\n",
       "      <td>3314029</td>\n",
       "      <td>3</td>\n",
       "      <td>48790</td>\n",
       "      <td>5.0</td>\n",
       "    </tr>\n",
       "    <tr>\n",
       "      <th>48</th>\n",
       "      <td>206165</td>\n",
       "      <td>3314029</td>\n",
       "      <td>3</td>\n",
       "      <td>3456</td>\n",
       "      <td>5.0</td>\n",
       "    </tr>\n",
       "    <tr>\n",
       "      <th>49</th>\n",
       "      <td>206165</td>\n",
       "      <td>3314029</td>\n",
       "      <td>3</td>\n",
       "      <td>15995</td>\n",
       "      <td>5.0</td>\n",
       "    </tr>\n",
       "  </tbody>\n",
       "</table>\n",
       "</div>"
      ],
      "text/plain": [
       "    user_id  order_id  order_number  product_id  days_since_prior_order\n",
       "0    206165   3420822            27       27521                     9.0\n",
       "1    206165   3420822            27        1529                     9.0\n",
       "2    206165   3420822            27       15399                     9.0\n",
       "3    206165   3420822            27       13176                     9.0\n",
       "4    206165   3420822            27       26604                     9.0\n",
       "5    206165   3420822            27        7175                     9.0\n",
       "6    206165   3420822            27       49235                     9.0\n",
       "7    206165   3420822            27       24838                     9.0\n",
       "8    206165   3420822            27       48775                     9.0\n",
       "9    206165   3420822            27       30391                     9.0\n",
       "10   206165   3420822            27       18618                     9.0\n",
       "11   206165   3420822            27         260                     9.0\n",
       "12   206165   3420822            27       32864                     9.0\n",
       "13   206165   3420822            27       14233                     9.0\n",
       "14   206165   3420822            27       43504                     9.0\n",
       "15   206165   3420822            27       36735                     9.0\n",
       "16   206165   3420822            27       24925                     9.0\n",
       "17   206165   3420822            27       11182                     9.0\n",
       "18   206165   3420822            27       37158                     9.0\n",
       "19   206165   3420822            27       40386                     9.0\n",
       "20   206165   3420822            27       20588                     9.0\n",
       "21   206165   3420822            27       25980                     9.0\n",
       "22   206165   3420822            27       49416                     9.0\n",
       "23   206165   3420822            27         261                     9.0\n",
       "24   206165   3420822            27       14881                     9.0\n",
       "25   206165   3420822            27       30135                     9.0\n",
       "26   206165   3420822            27       32517                     9.0\n",
       "27   206165   3420822            27        2497                     9.0\n",
       "28   206165   3420822            27        6999                     9.0\n",
       "29   206165   3420822            27       19084                     9.0\n",
       "30   206165   3420822            27       25551                     9.0\n",
       "31   206165   3420822            27        8594                     9.0\n",
       "32   206165   3420822            27       31630                     9.0\n",
       "33   206165   3420822            27       28885                     9.0\n",
       "34   206165   3420822            27       18353                     9.0\n",
       "35   206165   3420822            27       16505                     9.0\n",
       "36   206165   3420822            27       32773                     9.0\n",
       "37   206165   3420822            27       44585                     9.0\n",
       "38   206165   3420822            27       22807                     9.0\n",
       "39   206165   3420822            27        5014                     9.0\n",
       "40   206165   3420822            27       35937                     9.0\n",
       "41   206165   3420822            27       13116                     9.0\n",
       "42   206165   3420822            27       19312                     9.0\n",
       "43   206165   3420822            27        5792                     9.0\n",
       "44   206165   3420822            27       28898                     9.0\n",
       "45   206165   3314029             3       49267                     5.0\n",
       "46   206165   3314029             3       35871                     5.0\n",
       "47   206165   3314029             3       48790                     5.0\n",
       "48   206165   3314029             3        3456                     5.0\n",
       "49   206165   3314029             3       15995                     5.0"
      ]
     },
     "execution_count": 82,
     "metadata": {},
     "output_type": "execute_result"
    }
   ],
   "source": [
    "products_ordered_per_user.head(50)"
   ]
  },
  {
   "cell_type": "code",
   "execution_count": 83,
   "metadata": {
    "ExecuteTime": {
     "end_time": "2019-06-18T18:57:37.014597Z",
     "start_time": "2019-06-18T18:57:37.010029Z"
    }
   },
   "outputs": [],
   "source": [
    "# user_id |  order_id | list of products by order\n",
    "# 10001   |  436456   | [254326,236457,12347,65849]\n",
    "\n",
    "# curr_cart = [15, 20] "
   ]
  },
  {
   "cell_type": "code",
   "execution_count": 84,
   "metadata": {
    "ExecuteTime": {
     "end_time": "2019-06-18T18:57:54.998358Z",
     "start_time": "2019-06-18T18:57:37.018804Z"
    }
   },
   "outputs": [],
   "source": [
    "df_prod_orders_ago = (df_order_products_prior.groupby(['user_id', 'product_id'],as_index=False)\n",
    "                                     .agg({'order_number':(lambda x: sorted(list(x)))})\n",
    "                                     .rename(columns={'order_number':'list_of_orders'}))\n",
    "\n"
   ]
  },
  {
   "cell_type": "code",
   "execution_count": 85,
   "metadata": {
    "ExecuteTime": {
     "end_time": "2019-06-18T18:57:58.995704Z",
     "start_time": "2019-06-18T18:57:55.001382Z"
    }
   },
   "outputs": [],
   "source": [
    "# Creates a column for most recent order\n",
    "df_prod_orders_ago['last_order_number'] = df_prod_orders_ago.apply(lambda x: x['list_of_orders'][-1], axis=1)\n",
    "# df_prod_orders_ago.head()\n"
   ]
  },
  {
   "cell_type": "code",
   "execution_count": 86,
   "metadata": {
    "ExecuteTime": {
     "end_time": "2019-06-18T18:57:59.005499Z",
     "start_time": "2019-06-18T18:57:58.998374Z"
    }
   },
   "outputs": [],
   "source": [
    "def returnUserSecondMostRecentOrder(lst):\n",
    "    if len(lst) < 2:\n",
    "        return np.nan\n",
    "    else:\n",
    "        return lst[-2]"
   ]
  },
  {
   "cell_type": "code",
   "execution_count": 87,
   "metadata": {
    "ExecuteTime": {
     "end_time": "2019-06-18T18:58:06.703804Z",
     "start_time": "2019-06-18T18:58:02.278288Z"
    }
   },
   "outputs": [
    {
     "data": {
      "text/plain": [
       "<function __main__.returnUserSecondMostRecentOrder(lst)>"
      ]
     },
     "execution_count": 87,
     "metadata": {},
     "output_type": "execute_result"
    }
   ],
   "source": [
    "# Creates a column for second most recent order, using \n",
    "df_prod_orders_ago['second_to_last_order_number'] = df_prod_orders_ago.apply(lambda x: returnUserSecondMostRecentOrder(x['list_of_orders']), axis=1)\n",
    "returnUserSecondMostRecentOrder"
   ]
  },
  {
   "cell_type": "code",
   "execution_count": 88,
   "metadata": {
    "ExecuteTime": {
     "end_time": "2019-06-18T18:58:11.796342Z",
     "start_time": "2019-06-18T18:58:06.706539Z"
    }
   },
   "outputs": [],
   "source": [
    "# Subtract distance between last orders per each product/user combo\n",
    "\n",
    "df_prod_orders_ago['orders_since_last_prod_purchase'] = df_prod_orders_ago.apply(lambda x: x['last_order_number'] - x['second_to_last_order_number'], axis=1)"
   ]
  },
  {
   "cell_type": "code",
   "execution_count": 89,
   "metadata": {
    "ExecuteTime": {
     "end_time": "2019-06-18T18:58:11.848308Z",
     "start_time": "2019-06-18T18:58:11.799357Z"
    }
   },
   "outputs": [
    {
     "data": {
      "text/html": [
       "<div>\n",
       "<style scoped>\n",
       "    .dataframe tbody tr th:only-of-type {\n",
       "        vertical-align: middle;\n",
       "    }\n",
       "\n",
       "    .dataframe tbody tr th {\n",
       "        vertical-align: top;\n",
       "    }\n",
       "\n",
       "    .dataframe thead th {\n",
       "        text-align: right;\n",
       "    }\n",
       "</style>\n",
       "<table border=\"1\" class=\"dataframe\">\n",
       "  <thead>\n",
       "    <tr style=\"text-align: right;\">\n",
       "      <th></th>\n",
       "      <th>user_id</th>\n",
       "      <th>product_id</th>\n",
       "      <th>list_of_orders</th>\n",
       "      <th>last_order_number</th>\n",
       "      <th>second_to_last_order_number</th>\n",
       "      <th>orders_since_last_prod_purchase</th>\n",
       "    </tr>\n",
       "  </thead>\n",
       "  <tbody>\n",
       "    <tr>\n",
       "      <th>0</th>\n",
       "      <td>2</td>\n",
       "      <td>22559</td>\n",
       "      <td>[9]</td>\n",
       "      <td>9</td>\n",
       "      <td>NaN</td>\n",
       "      <td>NaN</td>\n",
       "    </tr>\n",
       "    <tr>\n",
       "      <th>1</th>\n",
       "      <td>3</td>\n",
       "      <td>7503</td>\n",
       "      <td>[3]</td>\n",
       "      <td>3</td>\n",
       "      <td>NaN</td>\n",
       "      <td>NaN</td>\n",
       "    </tr>\n",
       "    <tr>\n",
       "      <th>2</th>\n",
       "      <td>3</td>\n",
       "      <td>17668</td>\n",
       "      <td>[11]</td>\n",
       "      <td>11</td>\n",
       "      <td>NaN</td>\n",
       "      <td>NaN</td>\n",
       "    </tr>\n",
       "    <tr>\n",
       "      <th>3</th>\n",
       "      <td>4</td>\n",
       "      <td>22199</td>\n",
       "      <td>[4]</td>\n",
       "      <td>4</td>\n",
       "      <td>NaN</td>\n",
       "      <td>NaN</td>\n",
       "    </tr>\n",
       "    <tr>\n",
       "      <th>4</th>\n",
       "      <td>7</td>\n",
       "      <td>27690</td>\n",
       "      <td>[3]</td>\n",
       "      <td>3</td>\n",
       "      <td>NaN</td>\n",
       "      <td>NaN</td>\n",
       "    </tr>\n",
       "    <tr>\n",
       "      <th>5</th>\n",
       "      <td>7</td>\n",
       "      <td>40852</td>\n",
       "      <td>[17]</td>\n",
       "      <td>17</td>\n",
       "      <td>NaN</td>\n",
       "      <td>NaN</td>\n",
       "    </tr>\n",
       "    <tr>\n",
       "      <th>6</th>\n",
       "      <td>11</td>\n",
       "      <td>8309</td>\n",
       "      <td>[1]</td>\n",
       "      <td>1</td>\n",
       "      <td>NaN</td>\n",
       "      <td>NaN</td>\n",
       "    </tr>\n",
       "    <tr>\n",
       "      <th>7</th>\n",
       "      <td>11</td>\n",
       "      <td>13176</td>\n",
       "      <td>[7]</td>\n",
       "      <td>7</td>\n",
       "      <td>NaN</td>\n",
       "      <td>NaN</td>\n",
       "    </tr>\n",
       "    <tr>\n",
       "      <th>8</th>\n",
       "      <td>14</td>\n",
       "      <td>23803</td>\n",
       "      <td>[5]</td>\n",
       "      <td>5</td>\n",
       "      <td>NaN</td>\n",
       "      <td>NaN</td>\n",
       "    </tr>\n",
       "    <tr>\n",
       "      <th>9</th>\n",
       "      <td>15</td>\n",
       "      <td>1747</td>\n",
       "      <td>[19]</td>\n",
       "      <td>19</td>\n",
       "      <td>NaN</td>\n",
       "      <td>NaN</td>\n",
       "    </tr>\n",
       "    <tr>\n",
       "      <th>10</th>\n",
       "      <td>21</td>\n",
       "      <td>48988</td>\n",
       "      <td>[11]</td>\n",
       "      <td>11</td>\n",
       "      <td>NaN</td>\n",
       "      <td>NaN</td>\n",
       "    </tr>\n",
       "    <tr>\n",
       "      <th>11</th>\n",
       "      <td>22</td>\n",
       "      <td>8518</td>\n",
       "      <td>[8]</td>\n",
       "      <td>8</td>\n",
       "      <td>NaN</td>\n",
       "      <td>NaN</td>\n",
       "    </tr>\n",
       "    <tr>\n",
       "      <th>12</th>\n",
       "      <td>22</td>\n",
       "      <td>24964</td>\n",
       "      <td>[7]</td>\n",
       "      <td>7</td>\n",
       "      <td>NaN</td>\n",
       "      <td>NaN</td>\n",
       "    </tr>\n",
       "    <tr>\n",
       "      <th>13</th>\n",
       "      <td>27</td>\n",
       "      <td>16398</td>\n",
       "      <td>[10]</td>\n",
       "      <td>10</td>\n",
       "      <td>NaN</td>\n",
       "      <td>NaN</td>\n",
       "    </tr>\n",
       "    <tr>\n",
       "      <th>14</th>\n",
       "      <td>27</td>\n",
       "      <td>32263</td>\n",
       "      <td>[81]</td>\n",
       "      <td>81</td>\n",
       "      <td>NaN</td>\n",
       "      <td>NaN</td>\n",
       "    </tr>\n",
       "    <tr>\n",
       "      <th>15</th>\n",
       "      <td>27</td>\n",
       "      <td>33929</td>\n",
       "      <td>[12]</td>\n",
       "      <td>12</td>\n",
       "      <td>NaN</td>\n",
       "      <td>NaN</td>\n",
       "    </tr>\n",
       "    <tr>\n",
       "      <th>16</th>\n",
       "      <td>27</td>\n",
       "      <td>35958</td>\n",
       "      <td>[61]</td>\n",
       "      <td>61</td>\n",
       "      <td>NaN</td>\n",
       "      <td>NaN</td>\n",
       "    </tr>\n",
       "    <tr>\n",
       "      <th>17</th>\n",
       "      <td>31</td>\n",
       "      <td>6287</td>\n",
       "      <td>[12]</td>\n",
       "      <td>12</td>\n",
       "      <td>NaN</td>\n",
       "      <td>NaN</td>\n",
       "    </tr>\n",
       "    <tr>\n",
       "      <th>18</th>\n",
       "      <td>31</td>\n",
       "      <td>25518</td>\n",
       "      <td>[16]</td>\n",
       "      <td>16</td>\n",
       "      <td>NaN</td>\n",
       "      <td>NaN</td>\n",
       "    </tr>\n",
       "    <tr>\n",
       "      <th>19</th>\n",
       "      <td>35</td>\n",
       "      <td>6384</td>\n",
       "      <td>[6]</td>\n",
       "      <td>6</td>\n",
       "      <td>NaN</td>\n",
       "      <td>NaN</td>\n",
       "    </tr>\n",
       "    <tr>\n",
       "      <th>20</th>\n",
       "      <td>35</td>\n",
       "      <td>46802</td>\n",
       "      <td>[4]</td>\n",
       "      <td>4</td>\n",
       "      <td>NaN</td>\n",
       "      <td>NaN</td>\n",
       "    </tr>\n",
       "    <tr>\n",
       "      <th>21</th>\n",
       "      <td>39</td>\n",
       "      <td>25890</td>\n",
       "      <td>[1]</td>\n",
       "      <td>1</td>\n",
       "      <td>NaN</td>\n",
       "      <td>NaN</td>\n",
       "    </tr>\n",
       "    <tr>\n",
       "      <th>22</th>\n",
       "      <td>40</td>\n",
       "      <td>24799</td>\n",
       "      <td>[6]</td>\n",
       "      <td>6</td>\n",
       "      <td>NaN</td>\n",
       "      <td>NaN</td>\n",
       "    </tr>\n",
       "    <tr>\n",
       "      <th>23</th>\n",
       "      <td>46</td>\n",
       "      <td>13733</td>\n",
       "      <td>[10]</td>\n",
       "      <td>10</td>\n",
       "      <td>NaN</td>\n",
       "      <td>NaN</td>\n",
       "    </tr>\n",
       "    <tr>\n",
       "      <th>24</th>\n",
       "      <td>49</td>\n",
       "      <td>44359</td>\n",
       "      <td>[6]</td>\n",
       "      <td>6</td>\n",
       "      <td>NaN</td>\n",
       "      <td>NaN</td>\n",
       "    </tr>\n",
       "    <tr>\n",
       "      <th>25</th>\n",
       "      <td>50</td>\n",
       "      <td>5612</td>\n",
       "      <td>[9]</td>\n",
       "      <td>9</td>\n",
       "      <td>NaN</td>\n",
       "      <td>NaN</td>\n",
       "    </tr>\n",
       "    <tr>\n",
       "      <th>26</th>\n",
       "      <td>50</td>\n",
       "      <td>10666</td>\n",
       "      <td>[55]</td>\n",
       "      <td>55</td>\n",
       "      <td>NaN</td>\n",
       "      <td>NaN</td>\n",
       "    </tr>\n",
       "    <tr>\n",
       "      <th>27</th>\n",
       "      <td>51</td>\n",
       "      <td>46650</td>\n",
       "      <td>[1]</td>\n",
       "      <td>1</td>\n",
       "      <td>NaN</td>\n",
       "      <td>NaN</td>\n",
       "    </tr>\n",
       "    <tr>\n",
       "      <th>28</th>\n",
       "      <td>52</td>\n",
       "      <td>196</td>\n",
       "      <td>[19]</td>\n",
       "      <td>19</td>\n",
       "      <td>NaN</td>\n",
       "      <td>NaN</td>\n",
       "    </tr>\n",
       "    <tr>\n",
       "      <th>29</th>\n",
       "      <td>52</td>\n",
       "      <td>35561</td>\n",
       "      <td>[1, 27]</td>\n",
       "      <td>27</td>\n",
       "      <td>1.0</td>\n",
       "      <td>26.0</td>\n",
       "    </tr>\n",
       "    <tr>\n",
       "      <th>...</th>\n",
       "      <td>...</td>\n",
       "      <td>...</td>\n",
       "      <td>...</td>\n",
       "      <td>...</td>\n",
       "      <td>...</td>\n",
       "      <td>...</td>\n",
       "    </tr>\n",
       "    <tr>\n",
       "      <th>40</th>\n",
       "      <td>75</td>\n",
       "      <td>9839</td>\n",
       "      <td>[6]</td>\n",
       "      <td>6</td>\n",
       "      <td>NaN</td>\n",
       "      <td>NaN</td>\n",
       "    </tr>\n",
       "    <tr>\n",
       "      <th>41</th>\n",
       "      <td>75</td>\n",
       "      <td>23622</td>\n",
       "      <td>[15]</td>\n",
       "      <td>15</td>\n",
       "      <td>NaN</td>\n",
       "      <td>NaN</td>\n",
       "    </tr>\n",
       "    <tr>\n",
       "      <th>42</th>\n",
       "      <td>75</td>\n",
       "      <td>28058</td>\n",
       "      <td>[5]</td>\n",
       "      <td>5</td>\n",
       "      <td>NaN</td>\n",
       "      <td>NaN</td>\n",
       "    </tr>\n",
       "    <tr>\n",
       "      <th>43</th>\n",
       "      <td>77</td>\n",
       "      <td>1999</td>\n",
       "      <td>[12]</td>\n",
       "      <td>12</td>\n",
       "      <td>NaN</td>\n",
       "      <td>NaN</td>\n",
       "    </tr>\n",
       "    <tr>\n",
       "      <th>44</th>\n",
       "      <td>77</td>\n",
       "      <td>4605</td>\n",
       "      <td>[5]</td>\n",
       "      <td>5</td>\n",
       "      <td>NaN</td>\n",
       "      <td>NaN</td>\n",
       "    </tr>\n",
       "    <tr>\n",
       "      <th>45</th>\n",
       "      <td>77</td>\n",
       "      <td>17956</td>\n",
       "      <td>[7]</td>\n",
       "      <td>7</td>\n",
       "      <td>NaN</td>\n",
       "      <td>NaN</td>\n",
       "    </tr>\n",
       "    <tr>\n",
       "      <th>46</th>\n",
       "      <td>77</td>\n",
       "      <td>21477</td>\n",
       "      <td>[6]</td>\n",
       "      <td>6</td>\n",
       "      <td>NaN</td>\n",
       "      <td>NaN</td>\n",
       "    </tr>\n",
       "    <tr>\n",
       "      <th>47</th>\n",
       "      <td>79</td>\n",
       "      <td>32747</td>\n",
       "      <td>[4]</td>\n",
       "      <td>4</td>\n",
       "      <td>NaN</td>\n",
       "      <td>NaN</td>\n",
       "    </tr>\n",
       "    <tr>\n",
       "      <th>48</th>\n",
       "      <td>80</td>\n",
       "      <td>8193</td>\n",
       "      <td>[9]</td>\n",
       "      <td>9</td>\n",
       "      <td>NaN</td>\n",
       "      <td>NaN</td>\n",
       "    </tr>\n",
       "    <tr>\n",
       "      <th>49</th>\n",
       "      <td>80</td>\n",
       "      <td>40545</td>\n",
       "      <td>[9]</td>\n",
       "      <td>9</td>\n",
       "      <td>NaN</td>\n",
       "      <td>NaN</td>\n",
       "    </tr>\n",
       "    <tr>\n",
       "      <th>50</th>\n",
       "      <td>80</td>\n",
       "      <td>43713</td>\n",
       "      <td>[10]</td>\n",
       "      <td>10</td>\n",
       "      <td>NaN</td>\n",
       "      <td>NaN</td>\n",
       "    </tr>\n",
       "    <tr>\n",
       "      <th>51</th>\n",
       "      <td>80</td>\n",
       "      <td>47630</td>\n",
       "      <td>[9]</td>\n",
       "      <td>9</td>\n",
       "      <td>NaN</td>\n",
       "      <td>NaN</td>\n",
       "    </tr>\n",
       "    <tr>\n",
       "      <th>52</th>\n",
       "      <td>82</td>\n",
       "      <td>13176</td>\n",
       "      <td>[12]</td>\n",
       "      <td>12</td>\n",
       "      <td>NaN</td>\n",
       "      <td>NaN</td>\n",
       "    </tr>\n",
       "    <tr>\n",
       "      <th>53</th>\n",
       "      <td>82</td>\n",
       "      <td>13575</td>\n",
       "      <td>[2]</td>\n",
       "      <td>2</td>\n",
       "      <td>NaN</td>\n",
       "      <td>NaN</td>\n",
       "    </tr>\n",
       "    <tr>\n",
       "      <th>54</th>\n",
       "      <td>83</td>\n",
       "      <td>41844</td>\n",
       "      <td>[1]</td>\n",
       "      <td>1</td>\n",
       "      <td>NaN</td>\n",
       "      <td>NaN</td>\n",
       "    </tr>\n",
       "    <tr>\n",
       "      <th>55</th>\n",
       "      <td>84</td>\n",
       "      <td>49520</td>\n",
       "      <td>[2]</td>\n",
       "      <td>2</td>\n",
       "      <td>NaN</td>\n",
       "      <td>NaN</td>\n",
       "    </tr>\n",
       "    <tr>\n",
       "      <th>56</th>\n",
       "      <td>86</td>\n",
       "      <td>8518</td>\n",
       "      <td>[10]</td>\n",
       "      <td>10</td>\n",
       "      <td>NaN</td>\n",
       "      <td>NaN</td>\n",
       "    </tr>\n",
       "    <tr>\n",
       "      <th>57</th>\n",
       "      <td>86</td>\n",
       "      <td>24489</td>\n",
       "      <td>[16]</td>\n",
       "      <td>16</td>\n",
       "      <td>NaN</td>\n",
       "      <td>NaN</td>\n",
       "    </tr>\n",
       "    <tr>\n",
       "      <th>58</th>\n",
       "      <td>89</td>\n",
       "      <td>16145</td>\n",
       "      <td>[12]</td>\n",
       "      <td>12</td>\n",
       "      <td>NaN</td>\n",
       "      <td>NaN</td>\n",
       "    </tr>\n",
       "    <tr>\n",
       "      <th>59</th>\n",
       "      <td>89</td>\n",
       "      <td>48493</td>\n",
       "      <td>[11]</td>\n",
       "      <td>11</td>\n",
       "      <td>NaN</td>\n",
       "      <td>NaN</td>\n",
       "    </tr>\n",
       "    <tr>\n",
       "      <th>60</th>\n",
       "      <td>90</td>\n",
       "      <td>31414</td>\n",
       "      <td>[12]</td>\n",
       "      <td>12</td>\n",
       "      <td>NaN</td>\n",
       "      <td>NaN</td>\n",
       "    </tr>\n",
       "    <tr>\n",
       "      <th>61</th>\n",
       "      <td>90</td>\n",
       "      <td>32293</td>\n",
       "      <td>[8]</td>\n",
       "      <td>8</td>\n",
       "      <td>NaN</td>\n",
       "      <td>NaN</td>\n",
       "    </tr>\n",
       "    <tr>\n",
       "      <th>62</th>\n",
       "      <td>98</td>\n",
       "      <td>196</td>\n",
       "      <td>[3]</td>\n",
       "      <td>3</td>\n",
       "      <td>NaN</td>\n",
       "      <td>NaN</td>\n",
       "    </tr>\n",
       "    <tr>\n",
       "      <th>63</th>\n",
       "      <td>98</td>\n",
       "      <td>21386</td>\n",
       "      <td>[5]</td>\n",
       "      <td>5</td>\n",
       "      <td>NaN</td>\n",
       "      <td>NaN</td>\n",
       "    </tr>\n",
       "    <tr>\n",
       "      <th>64</th>\n",
       "      <td>101</td>\n",
       "      <td>21137</td>\n",
       "      <td>[19]</td>\n",
       "      <td>19</td>\n",
       "      <td>NaN</td>\n",
       "      <td>NaN</td>\n",
       "    </tr>\n",
       "    <tr>\n",
       "      <th>65</th>\n",
       "      <td>107</td>\n",
       "      <td>41155</td>\n",
       "      <td>[13]</td>\n",
       "      <td>13</td>\n",
       "      <td>NaN</td>\n",
       "      <td>NaN</td>\n",
       "    </tr>\n",
       "    <tr>\n",
       "      <th>66</th>\n",
       "      <td>110</td>\n",
       "      <td>39928</td>\n",
       "      <td>[10]</td>\n",
       "      <td>10</td>\n",
       "      <td>NaN</td>\n",
       "      <td>NaN</td>\n",
       "    </tr>\n",
       "    <tr>\n",
       "      <th>67</th>\n",
       "      <td>115</td>\n",
       "      <td>40516</td>\n",
       "      <td>[6]</td>\n",
       "      <td>6</td>\n",
       "      <td>NaN</td>\n",
       "      <td>NaN</td>\n",
       "    </tr>\n",
       "    <tr>\n",
       "      <th>68</th>\n",
       "      <td>115</td>\n",
       "      <td>45679</td>\n",
       "      <td>[11]</td>\n",
       "      <td>11</td>\n",
       "      <td>NaN</td>\n",
       "      <td>NaN</td>\n",
       "    </tr>\n",
       "    <tr>\n",
       "      <th>69</th>\n",
       "      <td>117</td>\n",
       "      <td>270</td>\n",
       "      <td>[4]</td>\n",
       "      <td>4</td>\n",
       "      <td>NaN</td>\n",
       "      <td>NaN</td>\n",
       "    </tr>\n",
       "  </tbody>\n",
       "</table>\n",
       "<p>70 rows × 6 columns</p>\n",
       "</div>"
      ],
      "text/plain": [
       "    user_id  product_id list_of_orders  last_order_number  \\\n",
       "0         2       22559            [9]                  9   \n",
       "1         3        7503            [3]                  3   \n",
       "2         3       17668           [11]                 11   \n",
       "3         4       22199            [4]                  4   \n",
       "4         7       27690            [3]                  3   \n",
       "5         7       40852           [17]                 17   \n",
       "6        11        8309            [1]                  1   \n",
       "7        11       13176            [7]                  7   \n",
       "8        14       23803            [5]                  5   \n",
       "9        15        1747           [19]                 19   \n",
       "10       21       48988           [11]                 11   \n",
       "11       22        8518            [8]                  8   \n",
       "12       22       24964            [7]                  7   \n",
       "13       27       16398           [10]                 10   \n",
       "14       27       32263           [81]                 81   \n",
       "15       27       33929           [12]                 12   \n",
       "16       27       35958           [61]                 61   \n",
       "17       31        6287           [12]                 12   \n",
       "18       31       25518           [16]                 16   \n",
       "19       35        6384            [6]                  6   \n",
       "20       35       46802            [4]                  4   \n",
       "21       39       25890            [1]                  1   \n",
       "22       40       24799            [6]                  6   \n",
       "23       46       13733           [10]                 10   \n",
       "24       49       44359            [6]                  6   \n",
       "25       50        5612            [9]                  9   \n",
       "26       50       10666           [55]                 55   \n",
       "27       51       46650            [1]                  1   \n",
       "28       52         196           [19]                 19   \n",
       "29       52       35561        [1, 27]                 27   \n",
       "..      ...         ...            ...                ...   \n",
       "40       75        9839            [6]                  6   \n",
       "41       75       23622           [15]                 15   \n",
       "42       75       28058            [5]                  5   \n",
       "43       77        1999           [12]                 12   \n",
       "44       77        4605            [5]                  5   \n",
       "45       77       17956            [7]                  7   \n",
       "46       77       21477            [6]                  6   \n",
       "47       79       32747            [4]                  4   \n",
       "48       80        8193            [9]                  9   \n",
       "49       80       40545            [9]                  9   \n",
       "50       80       43713           [10]                 10   \n",
       "51       80       47630            [9]                  9   \n",
       "52       82       13176           [12]                 12   \n",
       "53       82       13575            [2]                  2   \n",
       "54       83       41844            [1]                  1   \n",
       "55       84       49520            [2]                  2   \n",
       "56       86        8518           [10]                 10   \n",
       "57       86       24489           [16]                 16   \n",
       "58       89       16145           [12]                 12   \n",
       "59       89       48493           [11]                 11   \n",
       "60       90       31414           [12]                 12   \n",
       "61       90       32293            [8]                  8   \n",
       "62       98         196            [3]                  3   \n",
       "63       98       21386            [5]                  5   \n",
       "64      101       21137           [19]                 19   \n",
       "65      107       41155           [13]                 13   \n",
       "66      110       39928           [10]                 10   \n",
       "67      115       40516            [6]                  6   \n",
       "68      115       45679           [11]                 11   \n",
       "69      117         270            [4]                  4   \n",
       "\n",
       "    second_to_last_order_number  orders_since_last_prod_purchase  \n",
       "0                           NaN                              NaN  \n",
       "1                           NaN                              NaN  \n",
       "2                           NaN                              NaN  \n",
       "3                           NaN                              NaN  \n",
       "4                           NaN                              NaN  \n",
       "5                           NaN                              NaN  \n",
       "6                           NaN                              NaN  \n",
       "7                           NaN                              NaN  \n",
       "8                           NaN                              NaN  \n",
       "9                           NaN                              NaN  \n",
       "10                          NaN                              NaN  \n",
       "11                          NaN                              NaN  \n",
       "12                          NaN                              NaN  \n",
       "13                          NaN                              NaN  \n",
       "14                          NaN                              NaN  \n",
       "15                          NaN                              NaN  \n",
       "16                          NaN                              NaN  \n",
       "17                          NaN                              NaN  \n",
       "18                          NaN                              NaN  \n",
       "19                          NaN                              NaN  \n",
       "20                          NaN                              NaN  \n",
       "21                          NaN                              NaN  \n",
       "22                          NaN                              NaN  \n",
       "23                          NaN                              NaN  \n",
       "24                          NaN                              NaN  \n",
       "25                          NaN                              NaN  \n",
       "26                          NaN                              NaN  \n",
       "27                          NaN                              NaN  \n",
       "28                          NaN                              NaN  \n",
       "29                          1.0                             26.0  \n",
       "..                          ...                              ...  \n",
       "40                          NaN                              NaN  \n",
       "41                          NaN                              NaN  \n",
       "42                          NaN                              NaN  \n",
       "43                          NaN                              NaN  \n",
       "44                          NaN                              NaN  \n",
       "45                          NaN                              NaN  \n",
       "46                          NaN                              NaN  \n",
       "47                          NaN                              NaN  \n",
       "48                          NaN                              NaN  \n",
       "49                          NaN                              NaN  \n",
       "50                          NaN                              NaN  \n",
       "51                          NaN                              NaN  \n",
       "52                          NaN                              NaN  \n",
       "53                          NaN                              NaN  \n",
       "54                          NaN                              NaN  \n",
       "55                          NaN                              NaN  \n",
       "56                          NaN                              NaN  \n",
       "57                          NaN                              NaN  \n",
       "58                          NaN                              NaN  \n",
       "59                          NaN                              NaN  \n",
       "60                          NaN                              NaN  \n",
       "61                          NaN                              NaN  \n",
       "62                          NaN                              NaN  \n",
       "63                          NaN                              NaN  \n",
       "64                          NaN                              NaN  \n",
       "65                          NaN                              NaN  \n",
       "66                          NaN                              NaN  \n",
       "67                          NaN                              NaN  \n",
       "68                          NaN                              NaN  \n",
       "69                          NaN                              NaN  \n",
       "\n",
       "[70 rows x 6 columns]"
      ]
     },
     "execution_count": 89,
     "metadata": {},
     "output_type": "execute_result"
    }
   ],
   "source": [
    "df_prod_orders_ago.head(70)"
   ]
  },
  {
   "cell_type": "code",
   "execution_count": 90,
   "metadata": {
    "ExecuteTime": {
     "end_time": "2019-06-18T18:58:11.857327Z",
     "start_time": "2019-06-18T18:58:11.851247Z"
    }
   },
   "outputs": [
    {
     "ename": "SyntaxError",
     "evalue": "invalid syntax (<ipython-input-90-b9c0ca3189b2>, line 1)",
     "output_type": "error",
     "traceback": [
      "\u001b[0;36m  File \u001b[0;32m\"<ipython-input-90-b9c0ca3189b2>\"\u001b[0;36m, line \u001b[0;32m1\u001b[0m\n\u001b[0;31m    2 features ->\u001b[0m\n\u001b[0m             ^\u001b[0m\n\u001b[0;31mSyntaxError\u001b[0m\u001b[0;31m:\u001b[0m invalid syntax\n"
     ]
    }
   ],
   "source": [
    "2 features -> \n",
    "1. captures variation at the user level and assigns probabilities for what should be added to chart.\n",
    "2. captures more general variate of ordering patterns across \"similar\" users. group them. "
   ]
  },
  {
   "cell_type": "code",
   "execution_count": null,
   "metadata": {
    "ExecuteTime": {
     "end_time": "2019-06-18T18:58:11.859038Z",
     "start_time": "2019-06-18T18:55:39.505Z"
    }
   },
   "outputs": [],
   "source": [
    "order_id | "
   ]
  },
  {
   "cell_type": "code",
   "execution_count": null,
   "metadata": {
    "ExecuteTime": {
     "end_time": "2019-06-18T18:58:11.862108Z",
     "start_time": "2019-06-18T18:55:39.567Z"
    }
   },
   "outputs": [],
   "source": [
    "orders_df.head()"
   ]
  },
  {
   "cell_type": "code",
   "execution_count": null,
   "metadata": {
    "ExecuteTime": {
     "end_time": "2019-06-18T18:58:11.864747Z",
     "start_time": "2019-06-18T18:55:39.648Z"
    }
   },
   "outputs": [],
   "source": [
    "def order_hour_of_day_category(integer):\n",
    "    if (integer >= 20) or (integer <= 5):\n",
    "        return 1\n",
    "    elif (integer > 5) or (integer <=10):\n",
    "        return 2\n",
    "    elif (integer > 10) or (integer <= 16):\n",
    "        return 3\n",
    "    elif (integer > 16) or (integer < 20):\n",
    "        return 4"
   ]
  },
  {
   "cell_type": "code",
   "execution_count": null,
   "metadata": {
    "ExecuteTime": {
     "end_time": "2019-06-18T18:58:11.867132Z",
     "start_time": "2019-06-18T18:55:39.710Z"
    }
   },
   "outputs": [],
   "source": [
    "orders_df['hour_of_day_category'] = orders_df.apply(lambda row: order_hour_of_day_category(row['order_hour_of_day']), axis=1)"
   ]
  },
  {
   "cell_type": "code",
   "execution_count": null,
   "metadata": {
    "ExecuteTime": {
     "end_time": "2019-06-18T18:58:11.869021Z",
     "start_time": "2019-06-18T18:55:39.776Z"
    }
   },
   "outputs": [],
   "source": [
    "orders_df.head()"
   ]
  },
  {
   "cell_type": "code",
   "execution_count": null,
   "metadata": {
    "ExecuteTime": {
     "end_time": "2019-06-18T18:58:11.871638Z",
     "start_time": "2019-06-18T18:55:39.843Z"
    }
   },
   "outputs": [],
   "source": [
    "df_order_products_prior.head()"
   ]
  },
  {
   "cell_type": "code",
   "execution_count": null,
   "metadata": {
    "ExecuteTime": {
     "end_time": "2019-06-18T18:58:11.873888Z",
     "start_time": "2019-06-18T18:55:39.905Z"
    }
   },
   "outputs": [],
   "source": [
    "df_order_products_prior.head()"
   ]
  },
  {
   "cell_type": "code",
   "execution_count": null,
   "metadata": {
    "ExecuteTime": {
     "end_time": "2019-06-18T18:58:11.876164Z",
     "start_time": "2019-06-18T18:55:39.971Z"
    }
   },
   "outputs": [],
   "source": [
    "from collections import defaultdict\n",
    "d = defaultdict(int)\n",
    "\n",
    "df_prod_count_per_order = (df_order_products_prior.groupby(['user_id', 'order_id'],as_index=False)\n",
    "                                     .agg({'product_id':(lambda x: addListElementsToDict(list(x), d) )})\n",
    "                                     )"
   ]
  },
  {
   "cell_type": "code",
   "execution_count": null,
   "metadata": {
    "ExecuteTime": {
     "end_time": "2019-06-18T18:58:11.878771Z",
     "start_time": "2019-06-18T18:55:40.037Z"
    }
   },
   "outputs": [],
   "source": [
    "def addListElementsToDict(lst, d):\n",
    "    for l in lst:\n",
    "        d[l] += 1\n",
    "    return d"
   ]
  },
  {
   "cell_type": "code",
   "execution_count": null,
   "metadata": {
    "ExecuteTime": {
     "end_time": "2019-06-18T18:58:11.907443Z",
     "start_time": "2019-06-18T18:55:40.216Z"
    }
   },
   "outputs": [],
   "source": [
    "df_prod_count_per_order.head()"
   ]
  },
  {
   "cell_type": "code",
   "execution_count": null,
   "metadata": {
    "ExecuteTime": {
     "end_time": "2019-06-18T18:58:11.909430Z",
     "start_time": "2019-06-18T18:55:40.356Z"
    }
   },
   "outputs": [],
   "source": [
    "# product popularity\n",
    "\n",
    "prod_features = ['product_total_orders','product_avg_add_to_cart_order']\n",
    "\n",
    "df_prod_features = (df_order_products_prior.groupby(['product_id'],as_index=False)\n",
    "                                           .agg(OrderedDict(\n",
    "                                                   [('order_id','nunique'),\n",
    "                                                    ('add_to_cart_order','mean')])))\n",
    "df_prod_features.columns = ['product_id'] + prod_features\n",
    "df_prod_features.head()"
   ]
  },
  {
   "cell_type": "code",
   "execution_count": null,
   "metadata": {
    "ExecuteTime": {
     "end_time": "2019-06-18T18:58:11.911639Z",
     "start_time": "2019-06-18T18:55:40.439Z"
    }
   },
   "outputs": [],
   "source": [
    "# From a feature engineering perspective, I would be curious to see how user product loyalty factors in.\n",
    "# For example, if someone buys Coke repeatedly, they are unlikely to buy Pepsi.\n",
    "# Is there a way to penalize other highly similar products if we know that someone buys many repeat products?\n"
   ]
  },
  {
   "cell_type": "code",
   "execution_count": null,
   "metadata": {
    "ExecuteTime": {
     "end_time": "2019-06-18T18:58:11.913937Z",
     "start_time": "2019-06-18T18:55:40.494Z"
    }
   },
   "outputs": [],
   "source": [
    "# Creating the df to use for the model\n"
   ]
  },
  {
   "cell_type": "code",
   "execution_count": null,
   "metadata": {
    "ExecuteTime": {
     "end_time": "2019-06-18T18:58:11.916523Z",
     "start_time": "2019-06-18T18:55:40.553Z"
    }
   },
   "outputs": [],
   "source": [
    "orders_df.head()"
   ]
  },
  {
   "cell_type": "code",
   "execution_count": null,
   "metadata": {
    "ExecuteTime": {
     "end_time": "2019-06-18T18:58:11.918559Z",
     "start_time": "2019-06-18T18:55:40.621Z"
    }
   },
   "outputs": [],
   "source": [
    "df_order_features = orders_df[['order_id', 'user_id', 'hour_of_day_category','days_since_prior_order']]\n",
    "\n"
   ]
  },
  {
   "cell_type": "code",
   "execution_count": null,
   "metadata": {
    "ExecuteTime": {
     "end_time": "2019-06-18T18:58:11.920712Z",
     "start_time": "2019-06-18T18:55:40.678Z"
    }
   },
   "outputs": [],
   "source": [
    "df_prod_orders_ago.head()"
   ]
  },
  {
   "cell_type": "code",
   "execution_count": null,
   "metadata": {
    "ExecuteTime": {
     "end_time": "2019-06-18T18:58:11.922760Z",
     "start_time": "2019-06-18T18:55:40.743Z"
    }
   },
   "outputs": [],
   "source": [
    "prod_orders_features = df_prod_orders_ago[['user_id', 'product_id', 'orders_since_last_prod_purchase']]"
   ]
  },
  {
   "cell_type": "code",
   "execution_count": null,
   "metadata": {
    "ExecuteTime": {
     "end_time": "2019-06-18T18:58:11.925287Z",
     "start_time": "2019-06-18T18:55:40.819Z"
    }
   },
   "outputs": [],
   "source": [
    "df_prod_features.head()"
   ]
  },
  {
   "cell_type": "code",
   "execution_count": null,
   "metadata": {
    "ExecuteTime": {
     "end_time": "2019-06-18T18:58:11.927039Z",
     "start_time": "2019-06-18T18:55:40.890Z"
    }
   },
   "outputs": [],
   "source": [
    "df_prod_features"
   ]
  },
  {
   "cell_type": "markdown",
   "metadata": {},
   "source": [
    "##### 2/11/2019\n",
    "\n",
    "## Goals for today:\n",
    "- Create dataframe for ml\n",
    "- Run a model:\n",
    "    - decision tree model\n",
    "    - random forest with bagging\n",
    "    - apply a solution to class imbalance\n",
    "- Run the model on all the data in AWS\n",
    "    - set up the original problem and create the feature set in AWS"
   ]
  },
  {
   "cell_type": "code",
   "execution_count": null,
   "metadata": {
    "ExecuteTime": {
     "end_time": "2019-06-18T18:58:12.128439Z",
     "start_time": "2019-06-18T18:55:43.945Z"
    }
   },
   "outputs": [],
   "source": [
    "# merge feature dataframes\n",
    "df_order_features \n",
    "prod_orders_features\n",
    "df_prod_features"
   ]
  },
  {
   "cell_type": "code",
   "execution_count": null,
   "metadata": {
    "ExecuteTime": {
     "end_time": "2019-06-18T18:58:12.139921Z",
     "start_time": "2019-06-18T18:55:44.448Z"
    }
   },
   "outputs": [],
   "source": [
    "df_X.head()"
   ]
  },
  {
   "cell_type": "code",
   "execution_count": null,
   "metadata": {
    "ExecuteTime": {
     "end_time": "2019-06-18T18:58:12.142443Z",
     "start_time": "2019-06-18T18:55:44.546Z"
    }
   },
   "outputs": [],
   "source": [
    "order_features_merged = df_X.merge(df_order_features, how='inner', on='user_id')"
   ]
  },
  {
   "cell_type": "code",
   "execution_count": null,
   "metadata": {
    "ExecuteTime": {
     "end_time": "2019-06-18T18:58:12.144990Z",
     "start_time": "2019-06-18T18:55:44.631Z"
    }
   },
   "outputs": [],
   "source": [
    "order_features_merged['days_since_prior_order'] = order_features_merged['days_since_prior_order'].fillna(-1)"
   ]
  },
  {
   "cell_type": "code",
   "execution_count": null,
   "metadata": {
    "ExecuteTime": {
     "end_time": "2019-06-18T18:58:12.147193Z",
     "start_time": "2019-06-18T18:55:44.706Z"
    }
   },
   "outputs": [],
   "source": [
    "order_features_merged.head()"
   ]
  },
  {
   "cell_type": "code",
   "execution_count": null,
   "metadata": {
    "ExecuteTime": {
     "end_time": "2019-06-18T18:58:12.149314Z",
     "start_time": "2019-06-18T18:55:44.793Z"
    }
   },
   "outputs": [],
   "source": [
    "prod_orders_features['orders_since_last_prod_purchase'] = prod_orders_features['orders_since_last_prod_purchase'].fillna(-1)"
   ]
  },
  {
   "cell_type": "code",
   "execution_count": null,
   "metadata": {
    "ExecuteTime": {
     "end_time": "2019-06-18T18:58:12.151776Z",
     "start_time": "2019-06-18T18:55:44.880Z"
    }
   },
   "outputs": [],
   "source": [
    "prod_orders_features.head()"
   ]
  },
  {
   "cell_type": "code",
   "execution_count": null,
   "metadata": {
    "ExecuteTime": {
     "end_time": "2019-06-18T18:58:12.154049Z",
     "start_time": "2019-06-18T18:55:44.958Z"
    }
   },
   "outputs": [],
   "source": [
    "order_product_features_merge = order_features_merged.merge(prod_orders_features, how='inner', on=['user_id', 'product_id'])"
   ]
  },
  {
   "cell_type": "code",
   "execution_count": null,
   "metadata": {
    "ExecuteTime": {
     "end_time": "2019-06-18T18:58:12.155999Z",
     "start_time": "2019-06-18T18:55:45.029Z"
    }
   },
   "outputs": [],
   "source": [
    "order_prod_merged_final = order_product_features_merge.merge(df_prod_features, how='inner', on='product_id')"
   ]
  },
  {
   "cell_type": "code",
   "execution_count": null,
   "metadata": {
    "ExecuteTime": {
     "end_time": "2019-06-18T18:58:12.193815Z",
     "start_time": "2019-06-18T18:55:46.837Z"
    }
   },
   "outputs": [],
   "source": [
    "order_prod_merged_final.head()"
   ]
  },
  {
   "cell_type": "code",
   "execution_count": null,
   "metadata": {
    "ExecuteTime": {
     "end_time": "2019-06-18T18:58:12.202003Z",
     "start_time": "2019-06-18T18:55:47.232Z"
    }
   },
   "outputs": [],
   "source": [
    "df_X_final = (order_prod_merged_final[['product_id', 'user_id', 'hour_of_day_category', 'days_since_prior_order', \n",
    "                                       'orders_since_last_prod_purchase', 'product_total_orders', 'product_avg_add_to_cart_order', 'in_cart']])\n",
    "\n"
   ]
  },
  {
   "cell_type": "code",
   "execution_count": null,
   "metadata": {
    "ExecuteTime": {
     "end_time": "2019-06-18T18:58:12.204047Z",
     "start_time": "2019-06-18T18:55:47.456Z"
    }
   },
   "outputs": [],
   "source": [
    "df_X_final.head()"
   ]
  },
  {
   "cell_type": "code",
   "execution_count": 100,
   "metadata": {
    "ExecuteTime": {
     "end_time": "2019-02-11T23:48:12.154238Z",
     "start_time": "2019-02-11T23:48:11.168247Z"
    }
   },
   "outputs": [],
   "source": [
    "import pickle\n",
    "\n",
    "with open('df_X_final.pkl', 'wb') as f:\n",
    "    pickle.dump(df_X_final, f)"
   ]
  },
  {
   "cell_type": "code",
   "execution_count": 101,
   "metadata": {
    "ExecuteTime": {
     "end_time": "2019-02-12T00:08:36.409644Z",
     "start_time": "2019-02-12T00:08:36.386494Z"
    }
   },
   "outputs": [
    {
     "data": {
      "text/plain": [
       "30"
      ]
     },
     "execution_count": 101,
     "metadata": {},
     "output_type": "execute_result"
    }
   ],
   "source": [
    "len(list(np.arange(.03, 3000, 100)))"
   ]
  },
  {
   "cell_type": "code",
   "execution_count": null,
   "metadata": {},
   "outputs": [],
   "source": []
  }
 ],
 "metadata": {
  "kernelspec": {
   "display_name": "Python 3",
   "language": "python",
   "name": "python3"
  },
  "language_info": {
   "codemirror_mode": {
    "name": "ipython",
    "version": 3
   },
   "file_extension": ".py",
   "mimetype": "text/x-python",
   "name": "python",
   "nbconvert_exporter": "python",
   "pygments_lexer": "ipython3",
   "version": "3.7.2"
  },
  "varInspector": {
   "cols": {
    "lenName": 16,
    "lenType": 16,
    "lenVar": 40
   },
   "kernels_config": {
    "python": {
     "delete_cmd_postfix": "",
     "delete_cmd_prefix": "del ",
     "library": "var_list.py",
     "varRefreshCmd": "print(var_dic_list())"
    },
    "r": {
     "delete_cmd_postfix": ") ",
     "delete_cmd_prefix": "rm(",
     "library": "var_list.r",
     "varRefreshCmd": "cat(var_dic_list()) "
    }
   },
   "types_to_exclude": [
    "module",
    "function",
    "builtin_function_or_method",
    "instance",
    "_Feature"
   ],
   "window_display": false
  }
 },
 "nbformat": 4,
 "nbformat_minor": 2
}
